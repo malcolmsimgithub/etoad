{
 "cells": [
  {
   "cell_type": "code",
   "execution_count": null,
   "metadata": {},
   "outputs": [],
   "source": [
    "import os\n",
    "import pickle\n",
    "\n",
    "from olympus import Database\n",
    "from olympus import Analyzer"
   ]
  },
  {
   "cell_type": "code",
   "execution_count": null,
   "metadata": {},
   "outputs": [],
   "source": [
    "BENCHMARKS_HOME = '../benchmarks'"
   ]
  },
  {
   "cell_type": "code",
   "execution_count": null,
   "metadata": {},
   "outputs": [],
   "source": [
    "from olympus import list_datasets"
   ]
  },
  {
   "cell_type": "code",
   "execution_count": null,
   "metadata": {},
   "outputs": [],
   "source": [
    "list_datasets()"
   ]
  },
  {
   "cell_type": "code",
   "execution_count": null,
   "metadata": {},
   "outputs": [],
   "source": [
    "analyzer = Analyzer()"
   ]
  },
  {
   "cell_type": "code",
   "execution_count": null,
   "metadata": {},
   "outputs": [],
   "source": [
    "locs    = [1, 3, 10, 30, 100, 300, 1000, 3000, 10000]\n",
    "results = {} "
   ]
  },
  {
   "cell_type": "code",
   "execution_count": null,
   "metadata": {},
   "outputs": [],
   "source": [
    "for dataset in list_datasets():\n",
    "    \n",
    "    db_file_name = f'{BENCHMARKS_HOME}/random_search_{dataset}.sqlite'\n",
    "    if not os.path.isfile(db_file_name): \n",
    "        continue\n",
    "        \n",
    "    db = Database().from_file(db_file_name)\n",
    "    campaigns = [campaign for campaign in db]\n",
    "    \n",
    "    best_means   = analyzer.get_best_mean(campaigns=campaigns, locs=locs)\n",
    "    best_medians = analyzer.get_best_median(campaigns=campaigns, locs=locs)\n",
    "    \n",
    "    results[dataset] = {\n",
    "        'num_campaigns': len(campaigns),\n",
    "        'best_means':   {locs[_]: best_means[_]   for _ in range(len(best_means))},\n",
    "        'best_medians': {locs[_]: best_medians[_] for _ in range(len(best_medians))}\n",
    "    }"
   ]
  },
  {
   "cell_type": "code",
   "execution_count": null,
   "metadata": {},
   "outputs": [],
   "source": [
    "file_name = f'{BENCHMARKS_HOME}/random_search_summary.pkl'\n",
    "with open(f'{BENCHMARKS_HOME}/random_search_summary.pkl', 'wb') as content:\n",
    "    pickle.dump(results, content)"
   ]
  },
  {
   "cell_type": "code",
   "execution_count": null,
   "metadata": {},
   "outputs": [],
   "source": []
  },
  {
   "cell_type": "code",
   "execution_count": 1,
   "metadata": {},
   "outputs": [],
   "source": [
    "from olympus import Baseline"
   ]
  },
  {
   "cell_type": "code",
   "execution_count": 2,
   "metadata": {},
   "outputs": [],
   "source": [
    "baseline = Baseline()"
   ]
  },
  {
   "cell_type": "code",
   "execution_count": 3,
   "metadata": {},
   "outputs": [
    {
     "data": {
      "text/plain": [
       "{'num_campaigns': 12,\n",
       " 'best_means': {1: 7.816000173806118,\n",
       "  3: 4.485068291605548,\n",
       "  10: 3.4550196536527626,\n",
       "  30: 2.9139754496257884,\n",
       "  100: 2.756836118163734,\n",
       "  300: 2.6939099984950037,\n",
       "  1000: 2.662368036472592,\n",
       "  3000: 2.1446434560520897},\n",
       " 'best_medians': {1: 9.47372189708825,\n",
       "  3: 3.895459846381484,\n",
       "  10: 3.411087562452103,\n",
       "  30: 2.8774198242816436,\n",
       "  100: 2.7455965972923,\n",
       "  300: 2.6939099984950037,\n",
       "  1000: 2.662368036472592,\n",
       "  3000: 2.1446434560520897}}"
      ]
     },
     "execution_count": 3,
     "metadata": {},
     "output_type": "execute_result"
    }
   ],
   "source": [
    "baseline.get('nbenzylation')"
   ]
  },
  {
   "cell_type": "code",
   "execution_count": null,
   "metadata": {},
   "outputs": [],
   "source": []
  },
  {
   "cell_type": "code",
   "execution_count": null,
   "metadata": {},
   "outputs": [],
   "source": []
  }
 ],
 "metadata": {
  "kernelspec": {
   "display_name": "Python 3",
   "language": "python",
   "name": "python3"
  },
  "language_info": {
   "codemirror_mode": {
    "name": "ipython",
    "version": 3
   },
   "file_extension": ".py",
   "mimetype": "text/x-python",
   "name": "python",
   "nbconvert_exporter": "python",
   "pygments_lexer": "ipython3",
   "version": "3.7.7"
  }
 },
 "nbformat": 4,
 "nbformat_minor": 4
}
