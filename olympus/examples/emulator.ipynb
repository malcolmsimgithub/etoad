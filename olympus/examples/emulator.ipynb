{
 "cells": [
  {
   "cell_type": "code",
   "execution_count": 1,
   "metadata": {},
   "outputs": [],
   "source": [
    "from olympus import Emulator, Dataset\n",
    "from olympus.models import BayesNeuralNet\n",
    "from olympus.emulators.emulator import load_emulator"
   ]
  },
  {
   "cell_type": "code",
   "execution_count": 2,
   "metadata": {},
   "outputs": [],
   "source": [
    "dataset = Dataset(name='colormix_bob', test_frac=0.2, num_folds=5)\n",
    "model = BayesNeuralNet(max_epochs=150)"
   ]
  },
  {
   "cell_type": "code",
   "execution_count": 3,
   "metadata": {},
   "outputs": [],
   "source": [
    "emulator = Emulator(dataset=dataset, model=model, feature_transform='identity', target_transform='identity')"
   ]
  },
  {
   "cell_type": "code",
   "execution_count": 4,
   "metadata": {},
   "outputs": [
    {
     "data": {
      "text/plain": [
       "'/h/matteoa/projects/olympus/repo/src/olympus/.scratch/emulator_riuvtjts'"
      ]
     },
     "execution_count": 4,
     "metadata": {},
     "output_type": "execute_result"
    }
   ],
   "source": [
    "# this is where the files related to the emulator model are saved temporarily\n",
    "emulator._scratch_dir.name"
   ]
  },
  {
   "cell_type": "code",
   "execution_count": 10,
   "metadata": {},
   "outputs": [
    {
     "name": "stdout",
     "output_type": "stream",
     "text": [
      ">>> Training model on 0%% of the dataset, testing on 100%...\n",
      "EPOCH: 0    TRAIN_R2: -0.112    VALID_R2: -0.116\n",
      "EPOCH: 100    TRAIN_R2: 0.849    VALID_R2: 0.746\n",
      "Training completed in 1.96 seconds.\n",
      "===========================================================================\n",
      "Train R2 Score: 0.8487\n",
      "Test  R2 Score: 0.7456\n"
     ]
    },
    {
     "data": {
      "text/plain": [
       "{'train': 0.8487019789251523, 'test': 0.7455732015567963}"
      ]
     },
     "execution_count": 10,
     "metadata": {},
     "output_type": "execute_result"
    }
   ],
   "source": [
    "#emulator.cross_validate()\n",
    "emulator.train(retrain=True)"
   ]
  },
  {
   "cell_type": "code",
   "execution_count": 8,
   "metadata": {},
   "outputs": [
    {
     "data": {
      "text/plain": [
       "{'me': '',\n",
       " 'indent': 0,\n",
       " 'props': ['dataset',\n",
       "  'model',\n",
       "  'goal',\n",
       "  'feature_transform',\n",
       "  'target_transform'],\n",
       " 'attrs': [<olympus.datasets.dataset.Dataset at 0x7f3f47b68b70>,\n",
       "  <olympus.models.model_bayes_neural_net.wrapper_bayes_neural_net.BayesNeuralNet at 0x7f3f47b68b38>,\n",
       "  'minimize',\n",
       "  'identity',\n",
       "  'identity'],\n",
       " 'max_prop_len': 17,\n",
       " 'dataset': <olympus.datasets.dataset.Dataset at 0x7f3f47b68b70>,\n",
       " 'model': <olympus.models.model_bayes_neural_net.wrapper_bayes_neural_net.BayesNeuralNet at 0x7f3f47b68b38>,\n",
       " 'goal': 'minimize',\n",
       " 'feature_transform': 'identity',\n",
       " 'target_transform': 'identity',\n",
       " '_version': '0.1.dev0+404.gea10666.dirty',\n",
       " '_ghost_model': <olympus.models.model_bayes_neural_net.wrapper_bayes_neural_net.BayesNeuralNet at 0x7f3f47b80630>,\n",
       " 'is_trained': False,\n",
       " 'cross_val_performed': True,\n",
       " 'cv_scores': {'train': [0.772405924884378,\n",
       "   0.8289079213936072,\n",
       "   0.8811732806846299,\n",
       "   0.7827124791793382,\n",
       "   0.82447661856901],\n",
       "  'validate': [0.6752824268009845,\n",
       "   0.8582815680274984,\n",
       "   0.6910650663594977,\n",
       "   0.8571418114648626,\n",
       "   0.7229931702389472]},\n",
       " 'model_scores': None,\n",
       " 'feature_transformer': <olympus.utils.data_transformer.DataTransformer at 0x7f3f47b80668>,\n",
       " 'target_transformer': <olympus.utils.data_transformer.DataTransformer at 0x7f3f47b806a0>,\n",
       " 'emulator_to_save': <olympus.emulators.emulator.Emulator at 0x7f3f46f26470>,\n",
       " '_scratch_dir': <TemporaryDirectory '/h/matteoa/projects/olympus/repo/src/olympus/.scratch/emulator_riuvtjts'>}"
      ]
     },
     "execution_count": 8,
     "metadata": {},
     "output_type": "execute_result"
    }
   ],
   "source": [
    "emulator.__dict__"
   ]
  },
  {
   "cell_type": "code",
   "execution_count": 23,
   "metadata": {},
   "outputs": [
    {
     "name": "stderr",
     "output_type": "stream",
     "text": [
      "NoneType: None\n",
      "\u001b[1;33m[WARNING] Overwriting existing emulator in test_save!\n",
      "\u001b[0m"
     ]
    }
   ],
   "source": [
    "emulator.save('test_save', include_cv=True)"
   ]
  },
  {
   "cell_type": "code",
   "execution_count": 24,
   "metadata": {},
   "outputs": [
    {
     "name": "stdout",
     "output_type": "stream",
     "text": [
      "INFO:tensorflow:Restoring parameters from test_save/Model/model.ckpt\n"
     ]
    }
   ],
   "source": [
    "from olympus.emulators.emulator import load_emulator\n",
    "loaded = load_emulator('test_save')"
   ]
  },
  {
   "cell_type": "code",
   "execution_count": 8,
   "metadata": {},
   "outputs": [
    {
     "data": {
      "text/plain": [
       "array([[0.3067064 ],\n",
       "       [0.16302037]])"
      ]
     },
     "execution_count": 8,
     "metadata": {},
     "output_type": "execute_result"
    }
   ],
   "source": [
    "import numpy as np\n",
    "loaded.model._predict(np.array([[0,0,0,0,0],[1,1,1,1,1]]))"
   ]
  },
  {
   "cell_type": "code",
   "execution_count": 2,
   "metadata": {},
   "outputs": [
    {
     "name": "stdout",
     "output_type": "stream",
     "text": [
      "Loading emulator using a BayesNeuralNet model for the dataset colormix_bob...\n",
      "WARNING:tensorflow:From /h/matteoa/anaconda3/envs/olympus/lib/python3.7/site-packages/tensorflow_probability/python/layers/util.py:102: Layer.add_variable (from tensorflow.python.keras.engine.base_layer) is deprecated and will be removed in a future version.\n",
      "Instructions for updating:\n",
      "Please use `layer.add_weight` method instead.\n",
      "WARNING:tensorflow:From /h/matteoa/anaconda3/envs/olympus/lib/python3.7/site-packages/tensorflow_core/python/ops/resource_variable_ops.py:1630: calling BaseResourceVariable.__init__ (from tensorflow.python.ops.resource_variable_ops) with constraint is deprecated and will be removed in a future version.\n",
      "Instructions for updating:\n",
      "If using Keras pass *_constraint arguments to layers.\n"
     ]
    },
    {
     "name": "stderr",
     "output_type": "stream",
     "text": [
      "NoneType: None\n",
      "\u001b[1;33m[WARNING] Key \"id\" from Emulator of olympus v.0.1.dev0+391.g2dd711c.dirty not found in Emulator class of olympus v.0.1.dev0+404.gea10666.dirty). Attribute \"id\" will not be set.\n",
      "\u001b[0mNoneType: None\n",
      "\u001b[1;33m[WARNING] Key \"path\" from Emulator of olympus v.0.1.dev0+391.g2dd711c.dirty not found in Emulator class of olympus v.0.1.dev0+404.gea10666.dirty). Attribute \"path\" will not be set.\n",
      "\u001b[0m"
     ]
    },
    {
     "name": "stdout",
     "output_type": "stream",
     "text": [
      "INFO:tensorflow:Restoring parameters from /h/matteoa/projects/olympus/repo/src/olympus/emulators/emulator_colormix_bob_BayesNeuralNet/Model/model.ckpt\n"
     ]
    }
   ],
   "source": [
    "# loading one of our emulators:\n",
    "from olympus import Emulator\n",
    "emulator = Emulator(dataset='colormix_bob', model='BayesNeuralNet')"
   ]
  },
  {
   "cell_type": "code",
   "execution_count": 6,
   "metadata": {},
   "outputs": [
    {
     "data": {
      "text/plain": [
       "array([[0.33564803]])"
      ]
     },
     "execution_count": 6,
     "metadata": {},
     "output_type": "execute_result"
    }
   ],
   "source": [
    "emulator.run([[0.1,0.1,0.1,0.1,0.1]])"
   ]
  },
  {
   "cell_type": "code",
   "execution_count": 5,
   "metadata": {},
   "outputs": [
    {
     "data": {
      "text/plain": [
       "[(0.0, 1.0), (0.0, 1.0), (0.0, 1.0), (0.0, 1.0), (0.0, 1.0)]"
      ]
     },
     "execution_count": 5,
     "metadata": {},
     "output_type": "execute_result"
    }
   ],
   "source": [
    "emulator.dataset.param_space.param_bounds"
   ]
  },
  {
   "cell_type": "code",
   "execution_count": null,
   "metadata": {},
   "outputs": [],
   "source": []
  },
  {
   "cell_type": "code",
   "execution_count": null,
   "metadata": {},
   "outputs": [],
   "source": []
  },
  {
   "cell_type": "code",
   "execution_count": 2,
   "metadata": {},
   "outputs": [],
   "source": [
    "dataset = Dataset(name='hplc_n9', test_frac=0.2, num_folds=5)"
   ]
  },
  {
   "cell_type": "code",
   "execution_count": 3,
   "metadata": {},
   "outputs": [],
   "source": [
    "model = BayesNeuralNet(scope='hplc_n9', hidden_nodes=96, reg=0.025, out_act='relu')"
   ]
  },
  {
   "cell_type": "code",
   "execution_count": 4,
   "metadata": {},
   "outputs": [],
   "source": [
    "emulator = Emulator(dataset=dataset, model=model, feature_transform='standardization', target_transform='mean')"
   ]
  },
  {
   "cell_type": "code",
   "execution_count": 5,
   "metadata": {},
   "outputs": [
    {
     "name": "stdout",
     "output_type": "stream",
     "text": [
      ">>> Training model on 0%% of the dataset, testing on 100%...\n",
      "WARNING:tensorflow:From /h/matteoa/anaconda3/envs/olympus/lib/python3.7/site-packages/tensorflow_probability/python/layers/util.py:102: Layer.add_variable (from tensorflow.python.keras.engine.base_layer) is deprecated and will be removed in a future version.\n",
      "Instructions for updating:\n",
      "Please use `layer.add_weight` method instead.\n",
      "WARNING:tensorflow:From /h/matteoa/anaconda3/envs/olympus/lib/python3.7/site-packages/tensorflow_core/python/ops/resource_variable_ops.py:1630: calling BaseResourceVariable.__init__ (from tensorflow.python.ops.resource_variable_ops) with constraint is deprecated and will be removed in a future version.\n",
      "Instructions for updating:\n",
      "If using Keras pass *_constraint arguments to layers.\n",
      "EPOCH: 0    TRAIN_R2: -0.468    VALID_R2: -0.522\n",
      "EPOCH: 100    TRAIN_R2: 0.186    VALID_R2: 0.165\n",
      "EPOCH: 200    TRAIN_R2: 0.561    VALID_R2: 0.571\n",
      "EPOCH: 300    TRAIN_R2: 0.668    VALID_R2: 0.695\n",
      "EPOCH: 400    TRAIN_R2: 0.694    VALID_R2: 0.742\n",
      "EPOCH: 500    TRAIN_R2: 0.784    VALID_R2: 0.785\n",
      "EPOCH: 600    TRAIN_R2: 0.771    VALID_R2: 0.814\n",
      "EPOCH: 700    TRAIN_R2: 0.817    VALID_R2: 0.835\n",
      "EPOCH: 800    TRAIN_R2: 0.829    VALID_R2: 0.826\n",
      "EPOCH: 900    TRAIN_R2: 0.834    VALID_R2: 0.836\n",
      "EPOCH: 1000    TRAIN_R2: 0.853    VALID_R2: 0.837\n",
      "EPOCH: 1100    TRAIN_R2: 0.841    VALID_R2: 0.871\n",
      "EPOCH: 1200    TRAIN_R2: 0.875    VALID_R2: 0.850\n",
      "EPOCH: 1300    TRAIN_R2: 0.862    VALID_R2: 0.899\n",
      "EPOCH: 1400    TRAIN_R2: 0.857    VALID_R2: 0.881\n",
      "EPOCH: 1500    TRAIN_R2: 0.889    VALID_R2: 0.849\n",
      "EPOCH: 1600    TRAIN_R2: 0.894    VALID_R2: 0.869\n",
      "EPOCH: 1700    TRAIN_R2: 0.861    VALID_R2: 0.879\n",
      "EPOCH: 1800    TRAIN_R2: 0.889    VALID_R2: 0.868\n",
      "EPOCH: 1900    TRAIN_R2: 0.843    VALID_R2: 0.789\n",
      "EPOCH: 2000    TRAIN_R2: 0.888    VALID_R2: 0.912\n",
      "EPOCH: 2100    TRAIN_R2: 0.898    VALID_R2: 0.897\n",
      "EPOCH: 2200    TRAIN_R2: 0.890    VALID_R2: 0.863\n",
      "EPOCH: 2300    TRAIN_R2: 0.889    VALID_R2: 0.916\n",
      "EPOCH: 2400    TRAIN_R2: 0.906    VALID_R2: 0.899\n",
      "EPOCH: 2500    TRAIN_R2: 0.917    VALID_R2: 0.906\n",
      "EPOCH: 2600    TRAIN_R2: 0.885    VALID_R2: 0.900\n",
      "EPOCH: 2700    TRAIN_R2: 0.920    VALID_R2: 0.909\n",
      "EPOCH: 2800    TRAIN_R2: 0.904    VALID_R2: 0.909\n",
      "EPOCH: 2900    TRAIN_R2: 0.920    VALID_R2: 0.897\n",
      "EPOCH: 3000    TRAIN_R2: 0.919    VALID_R2: 0.928\n",
      "EPOCH: 3100    TRAIN_R2: 0.920    VALID_R2: 0.907\n",
      "EPOCH: 3200    TRAIN_R2: 0.923    VALID_R2: 0.899\n",
      "EPOCH: 3300    TRAIN_R2: 0.913    VALID_R2: 0.908\n",
      "EPOCH: 3400    TRAIN_R2: 0.926    VALID_R2: 0.895\n",
      "EPOCH: 3500    TRAIN_R2: 0.927    VALID_R2: 0.912\n",
      "EPOCH: 3600    TRAIN_R2: 0.919    VALID_R2: 0.926\n",
      "EPOCH: 3700    TRAIN_R2: 0.918    VALID_R2: 0.900\n",
      "EPOCH: 3800    TRAIN_R2: 0.930    VALID_R2: 0.918\n",
      "EPOCH: 3900    TRAIN_R2: 0.920    VALID_R2: 0.894\n",
      "EPOCH: 4000    TRAIN_R2: 0.934    VALID_R2: 0.914\n",
      "EPOCH: 4100    TRAIN_R2: 0.932    VALID_R2: 0.916\n",
      "EPOCH: 4200    TRAIN_R2: 0.932    VALID_R2: 0.912\n",
      "EPOCH: 4300    TRAIN_R2: 0.931    VALID_R2: 0.941\n",
      "EPOCH: 4400    TRAIN_R2: 0.927    VALID_R2: 0.901\n",
      "EPOCH: 4500    TRAIN_R2: 0.919    VALID_R2: 0.935\n",
      "EPOCH: 4600    TRAIN_R2: 0.935    VALID_R2: 0.911\n",
      "EPOCH: 4700    TRAIN_R2: 0.925    VALID_R2: 0.933\n",
      "EPOCH: 4800    TRAIN_R2: 0.925    VALID_R2: 0.917\n",
      "EPOCH: 4900    TRAIN_R2: 0.939    VALID_R2: 0.933\n",
      "EPOCH: 5000    TRAIN_R2: 0.926    VALID_R2: 0.944\n",
      "EPOCH: 5100    TRAIN_R2: 0.935    VALID_R2: 0.906\n",
      "EPOCH: 5200    TRAIN_R2: 0.941    VALID_R2: 0.940\n",
      "EPOCH: 5300    TRAIN_R2: 0.937    VALID_R2: 0.924\n",
      "EPOCH: 5400    TRAIN_R2: 0.941    VALID_R2: 0.936\n",
      "EPOCH: 5500    TRAIN_R2: 0.924    VALID_R2: 0.932\n",
      "EPOCH: 5600    TRAIN_R2: 0.923    VALID_R2: 0.936\n",
      "EPOCH: 5700    TRAIN_R2: 0.941    VALID_R2: 0.895\n",
      "EPOCH: 5800    TRAIN_R2: 0.951    VALID_R2: 0.914\n",
      "EPOCH: 5900    TRAIN_R2: 0.944    VALID_R2: 0.909\n",
      "EPOCH: 6000    TRAIN_R2: 0.939    VALID_R2: 0.931\n",
      "EPOCH: 6100    TRAIN_R2: 0.945    VALID_R2: 0.946\n",
      "EPOCH: 6200    TRAIN_R2: 0.938    VALID_R2: 0.874\n",
      "EPOCH: 6300    TRAIN_R2: 0.941    VALID_R2: 0.932\n",
      "EPOCH: 6400    TRAIN_R2: 0.949    VALID_R2: 0.913\n",
      "EPOCH: 6500    TRAIN_R2: 0.936    VALID_R2: 0.916\n",
      "EPOCH: 6600    TRAIN_R2: 0.953    VALID_R2: 0.923\n",
      "EPOCH: 6700    TRAIN_R2: 0.944    VALID_R2: 0.935\n",
      "EPOCH: 6800    TRAIN_R2: 0.944    VALID_R2: 0.945\n",
      "EPOCH: 6900    TRAIN_R2: 0.931    VALID_R2: 0.937\n",
      "EPOCH: 7000    TRAIN_R2: 0.950    VALID_R2: 0.926\n",
      "EPOCH: 7100    TRAIN_R2: 0.942    VALID_R2: 0.927\n",
      "EPOCH: 7200    TRAIN_R2: 0.949    VALID_R2: 0.948\n",
      "EPOCH: 7300    TRAIN_R2: 0.946    VALID_R2: 0.939\n",
      "EPOCH: 7400    TRAIN_R2: 0.953    VALID_R2: 0.948\n",
      "EPOCH: 7500    TRAIN_R2: 0.958    VALID_R2: 0.927\n",
      "EPOCH: 7600    TRAIN_R2: 0.950    VALID_R2: 0.914\n",
      "EPOCH: 7700    TRAIN_R2: 0.950    VALID_R2: 0.910\n",
      "EPOCH: 7800    TRAIN_R2: 0.955    VALID_R2: 0.914\n",
      "EPOCH: 7900    TRAIN_R2: 0.954    VALID_R2: 0.930\n",
      "EPOCH: 8000    TRAIN_R2: 0.949    VALID_R2: 0.933\n",
      "EPOCH: 8100    TRAIN_R2: 0.942    VALID_R2: 0.895\n",
      "EPOCH: 8200    TRAIN_R2: 0.954    VALID_R2: 0.924\n",
      "EPOCH: 8300    TRAIN_R2: 0.955    VALID_R2: 0.925\n",
      "EPOCH: 8400    TRAIN_R2: 0.953    VALID_R2: 0.920\n",
      "EPOCH: 8500    TRAIN_R2: 0.955    VALID_R2: 0.939\n",
      "EPOCH: 8600    TRAIN_R2: 0.954    VALID_R2: 0.940\n",
      "EPOCH: 8700    TRAIN_R2: 0.955    VALID_R2: 0.938\n",
      "EPOCH: 8800    TRAIN_R2: 0.951    VALID_R2: 0.936\n",
      "EPOCH: 8900    TRAIN_R2: 0.954    VALID_R2: 0.916\n",
      "EPOCH: 9000    TRAIN_R2: 0.949    VALID_R2: 0.939\n",
      "EPOCH: 9100    TRAIN_R2: 0.958    VALID_R2: 0.930\n",
      "EPOCH: 9200    TRAIN_R2: 0.956    VALID_R2: 0.928\n",
      "EPOCH: 9300    TRAIN_R2: 0.958    VALID_R2: 0.943\n",
      "EPOCH: 9400    TRAIN_R2: 0.955    VALID_R2: 0.939\n",
      "EPOCH: 9500    TRAIN_R2: 0.950    VALID_R2: 0.918\n",
      "EPOCH: 9600    TRAIN_R2: 0.957    VALID_R2: 0.931\n",
      "EPOCH: 9700    TRAIN_R2: 0.954    VALID_R2: 0.947\n",
      "EPOCH: 9800    TRAIN_R2: 0.955    VALID_R2: 0.919\n",
      "EPOCH: 9900    TRAIN_R2: 0.961    VALID_R2: 0.942\n",
      "EPOCH: 10000    TRAIN_R2: 0.957    VALID_R2: 0.942\n",
      "EPOCH: 10100    TRAIN_R2: 0.952    VALID_R2: 0.911\n",
      "EPOCH: 10200    TRAIN_R2: 0.958    VALID_R2: 0.930\n",
      "EPOCH: 10300    TRAIN_R2: 0.958    VALID_R2: 0.924\n",
      "EPOCH: 10400    TRAIN_R2: 0.956    VALID_R2: 0.937\n",
      "EPOCH: 10500    TRAIN_R2: 0.956    VALID_R2: 0.938\n",
      "EPOCH: 10600    TRAIN_R2: 0.959    VALID_R2: 0.925\n",
      "EPOCH: 10700    TRAIN_R2: 0.959    VALID_R2: 0.935\n",
      "EPOCH: 10800    TRAIN_R2: 0.961    VALID_R2: 0.925\n",
      "EPOCH: 10900    TRAIN_R2: 0.956    VALID_R2: 0.895\n",
      "EPOCH: 11000    TRAIN_R2: 0.959    VALID_R2: 0.920\n",
      "EPOCH: 11100    TRAIN_R2: 0.963    VALID_R2: 0.936\n",
      "EPOCH: 11200    TRAIN_R2: 0.947    VALID_R2: 0.902\n",
      "EPOCH: 11300    TRAIN_R2: 0.960    VALID_R2: 0.939\n",
      "EPOCH: 11400    TRAIN_R2: 0.964    VALID_R2: 0.932\n",
      "EPOCH: 11500    TRAIN_R2: 0.962    VALID_R2: 0.931\n",
      "EPOCH: 11600    TRAIN_R2: 0.960    VALID_R2: 0.936\n",
      "EPOCH: 11700    TRAIN_R2: 0.945    VALID_R2: 0.942\n",
      "EPOCH: 11800    TRAIN_R2: 0.957    VALID_R2: 0.947\n",
      "EPOCH: 11900    TRAIN_R2: 0.959    VALID_R2: 0.938\n",
      "EPOCH: 12000    TRAIN_R2: 0.964    VALID_R2: 0.926\n",
      "EPOCH: 12100    TRAIN_R2: 0.958    VALID_R2: 0.926\n",
      "EPOCH: 12200    TRAIN_R2: 0.964    VALID_R2: 0.922\n",
      "EPOCH: 12300    TRAIN_R2: 0.964    VALID_R2: 0.942\n",
      "EPOCH: 12400    TRAIN_R2: 0.958    VALID_R2: 0.945\n",
      "EPOCH: 12500    TRAIN_R2: 0.961    VALID_R2: 0.921\n",
      "EPOCH: 12600    TRAIN_R2: 0.962    VALID_R2: 0.933\n",
      "EPOCH: 12700    TRAIN_R2: 0.961    VALID_R2: 0.907\n",
      "EPOCH: 12800    TRAIN_R2: 0.963    VALID_R2: 0.935\n",
      "EPOCH: 12900    TRAIN_R2: 0.964    VALID_R2: 0.914\n",
      "EPOCH: 13000    TRAIN_R2: 0.962    VALID_R2: 0.933\n",
      "EPOCH: 13100    TRAIN_R2: 0.967    VALID_R2: 0.935\n",
      "EPOCH: 13200    TRAIN_R2: 0.964    VALID_R2: 0.926\n",
      "EPOCH: 13300    TRAIN_R2: 0.963    VALID_R2: 0.941\n",
      "EPOCH: 13400    TRAIN_R2: 0.956    VALID_R2: 0.938\n",
      "EPOCH: 13500    TRAIN_R2: 0.958    VALID_R2: 0.931\n",
      "EPOCH: 13600    TRAIN_R2: 0.965    VALID_R2: 0.925\n",
      "EPOCH: 13700    TRAIN_R2: 0.957    VALID_R2: 0.924\n",
      "EPOCH: 13800    TRAIN_R2: 0.967    VALID_R2: 0.927\n",
      "EPOCH: 13900    TRAIN_R2: 0.957    VALID_R2: 0.911\n",
      "EPOCH: 14000    TRAIN_R2: 0.959    VALID_R2: 0.896\n",
      "EPOCH: 14100    TRAIN_R2: 0.963    VALID_R2: 0.934\n",
      "EPOCH: 14200    TRAIN_R2: 0.962    VALID_R2: 0.936\n",
      "EPOCH: 14300    TRAIN_R2: 0.966    VALID_R2: 0.928\n",
      "EPOCH: 14400    TRAIN_R2: 0.958    VALID_R2: 0.940\n",
      "EPOCH: 14500    TRAIN_R2: 0.964    VALID_R2: 0.908\n",
      "EPOCH: 14600    TRAIN_R2: 0.967    VALID_R2: 0.934\n",
      "EPOCH: 14700    TRAIN_R2: 0.963    VALID_R2: 0.920\n",
      "EPOCH: 14800    TRAIN_R2: 0.962    VALID_R2: 0.936\n",
      "EPOCH: 14900    TRAIN_R2: 0.967    VALID_R2: 0.938\n",
      "EPOCH: 15000    TRAIN_R2: 0.966    VALID_R2: 0.921\n",
      "EPOCH: 15100    TRAIN_R2: 0.969    VALID_R2: 0.929\n",
      "EPOCH: 15200    TRAIN_R2: 0.967    VALID_R2: 0.925\n",
      "EPOCH: 15300    TRAIN_R2: 0.966    VALID_R2: 0.914\n",
      "EPOCH: 15400    TRAIN_R2: 0.963    VALID_R2: 0.936\n",
      "EPOCH: 15500    TRAIN_R2: 0.963    VALID_R2: 0.932\n",
      "EPOCH: 15600    TRAIN_R2: 0.962    VALID_R2: 0.910\n",
      "EPOCH: 15700    TRAIN_R2: 0.968    VALID_R2: 0.930\n",
      "EPOCH: 15800    TRAIN_R2: 0.966    VALID_R2: 0.909\n",
      "EPOCH: 15900    TRAIN_R2: 0.967    VALID_R2: 0.915\n",
      "EPOCH: 16000    TRAIN_R2: 0.969    VALID_R2: 0.927\n",
      "EPOCH: 16100    TRAIN_R2: 0.968    VALID_R2: 0.917\n",
      "EPOCH: 16200    TRAIN_R2: 0.963    VALID_R2: 0.924\n",
      "EPOCH: 16300    TRAIN_R2: 0.968    VALID_R2: 0.920\n",
      "EPOCH: 16400    TRAIN_R2: 0.960    VALID_R2: 0.933\n",
      "EPOCH: 16500    TRAIN_R2: 0.967    VALID_R2: 0.943\n",
      "EPOCH: 16600    TRAIN_R2: 0.966    VALID_R2: 0.936\n",
      "EPOCH: 16700    TRAIN_R2: 0.964    VALID_R2: 0.896\n",
      "EPOCH: 16800    TRAIN_R2: 0.968    VALID_R2: 0.933\n",
      "EPOCH: 16900    TRAIN_R2: 0.968    VALID_R2: 0.934\n",
      "EPOCH: 17000    TRAIN_R2: 0.966    VALID_R2: 0.927\n",
      "EPOCH: 17100    TRAIN_R2: 0.967    VALID_R2: 0.930\n",
      "Training completed in 259.67 seconds.\n",
      "===========================================================================\n",
      "Train R2 Score: 0.9686\n",
      "Test  R2 Score: 0.9476\n"
     ]
    },
    {
     "data": {
      "text/plain": [
       "{'train': 0.9686045466302219, 'test': 0.9476379251482958}"
      ]
     },
     "execution_count": 5,
     "metadata": {},
     "output_type": "execute_result"
    }
   ],
   "source": [
    "emulator.train()"
   ]
  },
  {
   "cell_type": "code",
   "execution_count": 6,
   "metadata": {},
   "outputs": [],
   "source": [
    "emulator.save('emulator_hplc_n9_BayesNeuralNet')"
   ]
  }
 ],
 "metadata": {
  "kernelspec": {
   "display_name": "olympus",
   "language": "python",
   "name": "olympus"
  },
  "language_info": {
   "codemirror_mode": {
    "name": "ipython",
    "version": 3
   },
   "file_extension": ".py",
   "mimetype": "text/x-python",
   "name": "python",
   "nbconvert_exporter": "python",
   "pygments_lexer": "ipython3",
   "version": "3.7.3"
  }
 },
 "nbformat": 4,
 "nbformat_minor": 4
}
