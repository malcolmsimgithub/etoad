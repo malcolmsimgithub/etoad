{
 "cells": [
  {
   "cell_type": "code",
   "execution_count": 1,
   "metadata": {},
   "outputs": [],
   "source": [
    "%load_ext autoreload\n",
    "%autoreload 2"
   ]
  },
  {
   "cell_type": "code",
   "execution_count": 2,
   "metadata": {},
   "outputs": [],
   "source": [
    "import olympus\n",
    "from olympus import Olympus\n",
    "from olympus import Campaign\n",
    "from olympus.surfaces import list_surfaces, list_cont_surfaces, list_cat_surfaces"
   ]
  },
  {
   "cell_type": "code",
   "execution_count": 3,
   "metadata": {},
   "outputs": [],
   "source": [
    "# create olympus\n",
    "olymp = Olympus()"
   ]
  },
  {
   "cell_type": "code",
   "execution_count": null,
   "metadata": {},
   "outputs": [],
   "source": []
  },
  {
   "cell_type": "code",
   "execution_count": null,
   "metadata": {},
   "outputs": [],
   "source": []
  },
  {
   "cell_type": "code",
   "execution_count": 4,
   "metadata": {},
   "outputs": [],
   "source": [
    "# run olymus for analytic surfaces\n",
    "# CONTINUOUS SURFACES\n",
    "olymp.run_analytic(\n",
    "    planner='RandomSearch', \n",
    "    surface='Dejong',\n",
    "    param_dim=2,\n",
    "    goal='minimize',\n",
    "    campaign=Campaign(),\n",
    "    num_iter=3,\n",
    ")"
   ]
  },
  {
   "cell_type": "code",
   "execution_count": null,
   "metadata": {},
   "outputs": [],
   "source": []
  },
  {
   "cell_type": "code",
   "execution_count": 5,
   "metadata": {},
   "outputs": [],
   "source": [
    "\n",
    "#CATEGORICAL SURFACE (SHOULD WORK)\n",
    "olymp.run_analytic(\n",
    "    planner='RandomSearch', \n",
    "    surface='CatDejong',\n",
    "    param_dim=2,\n",
    "    num_opts=21,\n",
    "    goal='minimize',\n",
    "    campaign=Campaign(),\n",
    "    num_iter=3,\n",
    ")"
   ]
  },
  {
   "cell_type": "code",
   "execution_count": 6,
   "metadata": {
    "scrolled": true
   },
   "outputs": [
    {
     "data": {
      "text/html": [
       "<pre style=\"white-space:pre;overflow-x:auto;line-height:normal;font-family:Menlo,'DejaVu Sans Mono',consolas,'Courier New',monospace\">\n",
       "</pre>\n"
      ],
      "text/plain": [
       "\n"
      ]
     },
     "metadata": {},
     "output_type": "display_data"
    },
    {
     "data": {
      "text/html": [
       "<pre style=\"white-space:pre;overflow-x:auto;line-height:normal;font-family:Menlo,'DejaVu Sans Mono',consolas,'Courier New',monospace\"><span style=\"color: #d9ed92; text-decoration-color: #d9ed92; font-weight: bold\">=================================== Gryffin ====================================</span>\n",
       "</pre>\n"
      ],
      "text/plain": [
       "\u001b[1;38;2;217;237;146m=================================== Gryffin ====================================\u001b[0m\n"
      ]
     },
     "metadata": {},
     "output_type": "display_data"
    },
    {
     "data": {
      "text/html": [
       "<pre style=\"white-space:pre;overflow-x:auto;line-height:normal;font-family:Menlo,'DejaVu Sans Mono',consolas,'Courier New',monospace\">Gryffin will propose <span style=\"color: #008080; text-decoration-color: #008080; font-weight: bold\">1</span> sample: <span style=\"color: #008080; text-decoration-color: #008080; font-weight: bold\">1</span> batch with <span style=\"color: #008080; text-decoration-color: #008080; font-weight: bold\">1</span> sampling strategy\n",
       "</pre>\n"
      ],
      "text/plain": [
       "Gryffin will propose \u001b[1;36m1\u001b[0m sample: \u001b[1;36m1\u001b[0m batch with \u001b[1;36m1\u001b[0m sampling strategy\n"
      ]
     },
     "metadata": {},
     "output_type": "display_data"
    },
    {
     "data": {
      "text/html": [
       "<pre style=\"white-space:pre;overflow-x:auto;line-height:normal;font-family:Menlo,'DejaVu Sans Mono',consolas,'Courier New',monospace\"><span style=\"color: #f4a261; text-decoration-color: #f4a261\">Could not find any observations, falling back to random sampling</span>\n",
       "</pre>\n"
      ],
      "text/plain": [
       "\u001b[38;2;244;162;97mCould not find any observations, falling back to random sampling\u001b[0m\n"
      ]
     },
     "metadata": {},
     "output_type": "display_data"
    },
    {
     "data": {
      "text/html": [
       "<pre style=\"white-space:pre;overflow-x:auto;line-height:normal;font-family:Menlo,'DejaVu Sans Mono',consolas,'Courier New',monospace\"><span style=\"color: #34a0a4; text-decoration-color: #34a0a4\">─────────────────────────────────── Summary ────────────────────────────────────</span>\n",
       "</pre>\n"
      ],
      "text/plain": [
       "\u001b[38;2;52;160;164m─────────────────────────────────── Summary ────────────────────────────────────\u001b[0m\n"
      ]
     },
     "metadata": {},
     "output_type": "display_data"
    },
    {
     "data": {
      "text/html": [
       "<pre style=\"white-space:pre;overflow-x:auto;line-height:normal;font-family:Menlo,'DejaVu Sans Mono',consolas,'Courier New',monospace\">Memory usage: <span style=\"color: #008080; text-decoration-color: #008080; font-weight: bold\">0</span> GB, <span style=\"color: #008080; text-decoration-color: #008080; font-weight: bold\">392</span> MB, <span style=\"color: #008080; text-decoration-color: #008080; font-weight: bold\">744</span> kB\n",
       "</pre>\n"
      ],
      "text/plain": [
       "Memory usage: \u001b[1;36m0\u001b[0m GB, \u001b[1;36m392\u001b[0m MB, \u001b[1;36m744\u001b[0m kB\n"
      ]
     },
     "metadata": {},
     "output_type": "display_data"
    },
    {
     "data": {
      "text/html": [
       "<pre style=\"white-space:pre;overflow-x:auto;line-height:normal;font-family:Menlo,'DejaVu Sans Mono',consolas,'Courier New',monospace\">Overall time required: <span style=\"color: #008080; text-decoration-color: #008080; font-weight: bold\">4.5</span> ms\n",
       "</pre>\n"
      ],
      "text/plain": [
       "Overall time required: \u001b[1;36m4.5\u001b[0m ms\n"
      ]
     },
     "metadata": {},
     "output_type": "display_data"
    },
    {
     "data": {
      "text/html": [
       "<pre style=\"white-space:pre;overflow-x:auto;line-height:normal;font-family:Menlo,'DejaVu Sans Mono',consolas,'Courier New',monospace\"><span style=\"color: #d9ed92; text-decoration-color: #d9ed92; font-weight: bold\">===================================== End ======================================</span>\n",
       "</pre>\n"
      ],
      "text/plain": [
       "\u001b[1;38;2;217;237;146m===================================== End ======================================\u001b[0m\n"
      ]
     },
     "metadata": {},
     "output_type": "display_data"
    },
    {
     "data": {
      "text/html": [
       "<pre style=\"white-space:pre;overflow-x:auto;line-height:normal;font-family:Menlo,'DejaVu Sans Mono',consolas,'Courier New',monospace\">\n",
       "</pre>\n"
      ],
      "text/plain": [
       "\n"
      ]
     },
     "metadata": {},
     "output_type": "display_data"
    },
    {
     "data": {
      "text/html": [
       "<pre style=\"white-space:pre;overflow-x:auto;line-height:normal;font-family:Menlo,'DejaVu Sans Mono',consolas,'Courier New',monospace\">\n",
       "</pre>\n"
      ],
      "text/plain": [
       "\n"
      ]
     },
     "metadata": {},
     "output_type": "display_data"
    },
    {
     "data": {
      "text/html": [
       "<pre style=\"white-space:pre;overflow-x:auto;line-height:normal;font-family:Menlo,'DejaVu Sans Mono',consolas,'Courier New',monospace\"><span style=\"color: #d9ed92; text-decoration-color: #d9ed92; font-weight: bold\">=================================== Gryffin ====================================</span>\n",
       "</pre>\n"
      ],
      "text/plain": [
       "\u001b[1;38;2;217;237;146m=================================== Gryffin ====================================\u001b[0m\n"
      ]
     },
     "metadata": {},
     "output_type": "display_data"
    },
    {
     "data": {
      "text/html": [
       "<pre style=\"white-space:pre;overflow-x:auto;line-height:normal;font-family:Menlo,'DejaVu Sans Mono',consolas,'Courier New',monospace\">Gryffin will propose <span style=\"color: #008080; text-decoration-color: #008080; font-weight: bold\">1</span> sample: <span style=\"color: #008080; text-decoration-color: #008080; font-weight: bold\">1</span> batch with <span style=\"color: #008080; text-decoration-color: #008080; font-weight: bold\">1</span> sampling strategy\n",
       "</pre>\n"
      ],
      "text/plain": [
       "Gryffin will propose \u001b[1;36m1\u001b[0m sample: \u001b[1;36m1\u001b[0m batch with \u001b[1;36m1\u001b[0m sampling strategy\n"
      ]
     },
     "metadata": {},
     "output_type": "display_data"
    },
    {
     "data": {
      "text/html": [
       "<pre style=\"white-space:pre;overflow-x:auto;line-height:normal;font-family:Menlo,'DejaVu Sans Mono',consolas,'Courier New',monospace\"><span style=\"color: #008080; text-decoration-color: #008080; font-weight: bold\">1</span> observations found\n",
       "</pre>\n"
      ],
      "text/plain": [
       "\u001b[1;36m1\u001b[0m observations found\n"
      ]
     },
     "metadata": {},
     "output_type": "display_data"
    },
    {
     "data": {
      "text/html": [
       "<pre style=\"white-space:pre;overflow-x:auto;line-height:normal;font-family:Menlo,'DejaVu Sans Mono',consolas,'Courier New',monospace\"><span style=\"color: #34a0a4; text-decoration-color: #34a0a4\">─────────────────────────────── Bayesian Network ───────────────────────────────</span>\n",
       "</pre>\n"
      ],
      "text/plain": [
       "\u001b[38;2;52;160;164m─────────────────────────────── Bayesian Network ───────────────────────────────\u001b[0m\n"
      ]
     },
     "metadata": {},
     "output_type": "display_data"
    },
    {
     "data": {
      "application/vnd.jupyter.widget-view+json": {
       "model_id": "",
       "version_major": 2,
       "version_minor": 0
      },
      "text/plain": [
       "Output()"
      ]
     },
     "metadata": {},
     "output_type": "display_data"
    },
    {
     "data": {
      "text/html": [
       "<pre style=\"white-space:pre;overflow-x:auto;line-height:normal;font-family:Menlo,'DejaVu Sans Mono',consolas,'Courier New',monospace\"></pre>\n"
      ],
      "text/plain": []
     },
     "metadata": {},
     "output_type": "display_data"
    },
    {
     "data": {
      "text/html": [
       "<pre style=\"white-space:pre;overflow-x:auto;line-height:normal;font-family:Menlo,'DejaVu Sans Mono',consolas,'Courier New',monospace\">Bayesian neural network trained in <span style=\"color: #008080; text-decoration-color: #008080; font-weight: bold\">1.8</span> s\n",
       "</pre>\n"
      ],
      "text/plain": [
       "Bayesian neural network trained in \u001b[1;36m1.8\u001b[0m s\n"
      ]
     },
     "metadata": {},
     "output_type": "display_data"
    },
    {
     "data": {
      "text/html": [
       "<pre style=\"white-space:pre;overflow-x:auto;line-height:normal;font-family:Menlo,'DejaVu Sans Mono',consolas,'Courier New',monospace\"><span style=\"color: #34a0a4; text-decoration-color: #34a0a4\">───────────────────────────────── Acquisition ──────────────────────────────────</span>\n",
       "</pre>\n"
      ],
      "text/plain": [
       "\u001b[38;2;52;160;164m───────────────────────────────── Acquisition ──────────────────────────────────\u001b[0m\n"
      ]
     },
     "metadata": {},
     "output_type": "display_data"
    },
    {
     "data": {
      "text/html": [
       "<pre style=\"white-space:pre;overflow-x:auto;line-height:normal;font-family:Menlo,'DejaVu Sans Mono',consolas,'Courier New',monospace\"></pre>\n"
      ],
      "text/plain": []
     },
     "metadata": {},
     "output_type": "display_data"
    },
    {
     "data": {
      "text/html": [
       "<pre style=\"white-space:pre;overflow-x:auto;line-height:normal;font-family:Menlo,'DejaVu Sans Mono',consolas,'Courier New',monospace\"><span style=\"color: #008080; text-decoration-color: #008080; font-weight: bold\">800</span> random proposals drawn in <span style=\"color: #008080; text-decoration-color: #008080; font-weight: bold\">49.2</span> ms\n",
       "</pre>\n"
      ],
      "text/plain": [
       "\u001b[1;36m800\u001b[0m random proposals drawn in \u001b[1;36m49.2\u001b[0m ms\n"
      ]
     },
     "metadata": {},
     "output_type": "display_data"
    },
    {
     "data": {
      "text/html": [
       "<pre style=\"white-space:pre;overflow-x:auto;line-height:normal;font-family:Menlo,'DejaVu Sans Mono',consolas,'Courier New',monospace\"></pre>\n"
      ],
      "text/plain": []
     },
     "metadata": {},
     "output_type": "display_data"
    },
    {
     "data": {
      "text/html": [
       "<pre style=\"white-space:pre;overflow-x:auto;line-height:normal;font-family:Menlo,'DejaVu Sans Mono',consolas,'Courier New',monospace\"><span style=\"color: #008080; text-decoration-color: #008080; font-weight: bold\">800</span> proposals optimized in <span style=\"color: #008080; text-decoration-color: #008080; font-weight: bold\">164.2</span> ms using <span style=\"color: #008080; text-decoration-color: #008080; font-weight: bold\">4</span> CPUs\n",
       "</pre>\n"
      ],
      "text/plain": [
       "\u001b[1;36m800\u001b[0m proposals optimized in \u001b[1;36m164.2\u001b[0m ms using \u001b[1;36m4\u001b[0m CPUs\n"
      ]
     },
     "metadata": {},
     "output_type": "display_data"
    },
    {
     "data": {
      "text/html": [
       "<pre style=\"white-space:pre;overflow-x:auto;line-height:normal;font-family:Menlo,'DejaVu Sans Mono',consolas,'Courier New',monospace\">Acquisition tasks for <span style=\"color: #008080; text-decoration-color: #008080; font-weight: bold\">1</span> sampling strategy performed in <span style=\"color: #008080; text-decoration-color: #008080; font-weight: bold\">226.0</span> ms\n",
       "</pre>\n"
      ],
      "text/plain": [
       "Acquisition tasks for \u001b[1;36m1\u001b[0m sampling strategy performed in \u001b[1;36m226.0\u001b[0m ms\n"
      ]
     },
     "metadata": {},
     "output_type": "display_data"
    },
    {
     "data": {
      "text/html": [
       "<pre style=\"white-space:pre;overflow-x:auto;line-height:normal;font-family:Menlo,'DejaVu Sans Mono',consolas,'Courier New',monospace\"><span style=\"color: #34a0a4; text-decoration-color: #34a0a4\">─────────────────────────────── Sample Selector ────────────────────────────────</span>\n",
       "</pre>\n"
      ],
      "text/plain": [
       "\u001b[38;2;52;160;164m─────────────────────────────── Sample Selector ────────────────────────────────\u001b[0m\n"
      ]
     },
     "metadata": {},
     "output_type": "display_data"
    },
    {
     "data": {
      "application/vnd.jupyter.widget-view+json": {
       "model_id": "",
       "version_major": 2,
       "version_minor": 0
      },
      "text/plain": [
       "Output()"
      ]
     },
     "metadata": {},
     "output_type": "display_data"
    },
    {
     "data": {
      "text/html": [
       "<pre style=\"white-space:pre;overflow-x:auto;line-height:normal;font-family:Menlo,'DejaVu Sans Mono',consolas,'Courier New',monospace\"></pre>\n"
      ],
      "text/plain": []
     },
     "metadata": {},
     "output_type": "display_data"
    },
    {
     "data": {
      "text/html": [
       "<pre style=\"white-space:pre;overflow-x:auto;line-height:normal;font-family:Menlo,'DejaVu Sans Mono',consolas,'Courier New',monospace\"><span style=\"color: #008080; text-decoration-color: #008080; font-weight: bold\">1</span> sample selected in <span style=\"color: #008080; text-decoration-color: #008080; font-weight: bold\">108.2</span> ms\n",
       "</pre>\n"
      ],
      "text/plain": [
       "\u001b[1;36m1\u001b[0m sample selected in \u001b[1;36m108.2\u001b[0m ms\n"
      ]
     },
     "metadata": {},
     "output_type": "display_data"
    },
    {
     "data": {
      "text/html": [
       "<pre style=\"white-space:pre;overflow-x:auto;line-height:normal;font-family:Menlo,'DejaVu Sans Mono',consolas,'Courier New',monospace\"><span style=\"color: #34a0a4; text-decoration-color: #34a0a4\">─────────────────────────────────── Summary ────────────────────────────────────</span>\n",
       "</pre>\n"
      ],
      "text/plain": [
       "\u001b[38;2;52;160;164m─────────────────────────────────── Summary ────────────────────────────────────\u001b[0m\n"
      ]
     },
     "metadata": {},
     "output_type": "display_data"
    },
    {
     "data": {
      "text/html": [
       "<pre style=\"white-space:pre;overflow-x:auto;line-height:normal;font-family:Menlo,'DejaVu Sans Mono',consolas,'Courier New',monospace\">Memory usage: <span style=\"color: #008080; text-decoration-color: #008080; font-weight: bold\">0</span> GB, <span style=\"color: #008080; text-decoration-color: #008080; font-weight: bold\">395</span> MB, <span style=\"color: #008080; text-decoration-color: #008080; font-weight: bold\">964</span> kB\n",
       "</pre>\n"
      ],
      "text/plain": [
       "Memory usage: \u001b[1;36m0\u001b[0m GB, \u001b[1;36m395\u001b[0m MB, \u001b[1;36m964\u001b[0m kB\n"
      ]
     },
     "metadata": {},
     "output_type": "display_data"
    },
    {
     "data": {
      "text/html": [
       "<pre style=\"white-space:pre;overflow-x:auto;line-height:normal;font-family:Menlo,'DejaVu Sans Mono',consolas,'Courier New',monospace\">Overall time required: <span style=\"color: #008080; text-decoration-color: #008080; font-weight: bold\">2.2</span> s\n",
       "</pre>\n"
      ],
      "text/plain": [
       "Overall time required: \u001b[1;36m2.2\u001b[0m s\n"
      ]
     },
     "metadata": {},
     "output_type": "display_data"
    },
    {
     "data": {
      "text/html": [
       "<pre style=\"white-space:pre;overflow-x:auto;line-height:normal;font-family:Menlo,'DejaVu Sans Mono',consolas,'Courier New',monospace\"><span style=\"color: #d9ed92; text-decoration-color: #d9ed92; font-weight: bold\">===================================== End ======================================</span>\n",
       "</pre>\n"
      ],
      "text/plain": [
       "\u001b[1;38;2;217;237;146m===================================== End ======================================\u001b[0m\n"
      ]
     },
     "metadata": {},
     "output_type": "display_data"
    },
    {
     "data": {
      "text/html": [
       "<pre style=\"white-space:pre;overflow-x:auto;line-height:normal;font-family:Menlo,'DejaVu Sans Mono',consolas,'Courier New',monospace\">\n",
       "</pre>\n"
      ],
      "text/plain": [
       "\n"
      ]
     },
     "metadata": {},
     "output_type": "display_data"
    },
    {
     "data": {
      "text/html": [
       "<pre style=\"white-space:pre;overflow-x:auto;line-height:normal;font-family:Menlo,'DejaVu Sans Mono',consolas,'Courier New',monospace\">\n",
       "</pre>\n"
      ],
      "text/plain": [
       "\n"
      ]
     },
     "metadata": {},
     "output_type": "display_data"
    },
    {
     "data": {
      "text/html": [
       "<pre style=\"white-space:pre;overflow-x:auto;line-height:normal;font-family:Menlo,'DejaVu Sans Mono',consolas,'Courier New',monospace\"><span style=\"color: #d9ed92; text-decoration-color: #d9ed92; font-weight: bold\">=================================== Gryffin ====================================</span>\n",
       "</pre>\n"
      ],
      "text/plain": [
       "\u001b[1;38;2;217;237;146m=================================== Gryffin ====================================\u001b[0m\n"
      ]
     },
     "metadata": {},
     "output_type": "display_data"
    },
    {
     "data": {
      "text/html": [
       "<pre style=\"white-space:pre;overflow-x:auto;line-height:normal;font-family:Menlo,'DejaVu Sans Mono',consolas,'Courier New',monospace\">Gryffin will propose <span style=\"color: #008080; text-decoration-color: #008080; font-weight: bold\">1</span> sample: <span style=\"color: #008080; text-decoration-color: #008080; font-weight: bold\">1</span> batch with <span style=\"color: #008080; text-decoration-color: #008080; font-weight: bold\">1</span> sampling strategy\n",
       "</pre>\n"
      ],
      "text/plain": [
       "Gryffin will propose \u001b[1;36m1\u001b[0m sample: \u001b[1;36m1\u001b[0m batch with \u001b[1;36m1\u001b[0m sampling strategy\n"
      ]
     },
     "metadata": {},
     "output_type": "display_data"
    },
    {
     "data": {
      "text/html": [
       "<pre style=\"white-space:pre;overflow-x:auto;line-height:normal;font-family:Menlo,'DejaVu Sans Mono',consolas,'Courier New',monospace\"><span style=\"color: #008080; text-decoration-color: #008080; font-weight: bold\">2</span> observations found\n",
       "</pre>\n"
      ],
      "text/plain": [
       "\u001b[1;36m2\u001b[0m observations found\n"
      ]
     },
     "metadata": {},
     "output_type": "display_data"
    },
    {
     "data": {
      "text/html": [
       "<pre style=\"white-space:pre;overflow-x:auto;line-height:normal;font-family:Menlo,'DejaVu Sans Mono',consolas,'Courier New',monospace\"><span style=\"color: #34a0a4; text-decoration-color: #34a0a4\">─────────────────────────────── Bayesian Network ───────────────────────────────</span>\n",
       "</pre>\n"
      ],
      "text/plain": [
       "\u001b[38;2;52;160;164m─────────────────────────────── Bayesian Network ───────────────────────────────\u001b[0m\n"
      ]
     },
     "metadata": {},
     "output_type": "display_data"
    },
    {
     "data": {
      "application/vnd.jupyter.widget-view+json": {
       "model_id": "",
       "version_major": 2,
       "version_minor": 0
      },
      "text/plain": [
       "Output()"
      ]
     },
     "metadata": {},
     "output_type": "display_data"
    },
    {
     "data": {
      "text/html": [
       "<pre style=\"white-space:pre;overflow-x:auto;line-height:normal;font-family:Menlo,'DejaVu Sans Mono',consolas,'Courier New',monospace\"></pre>\n"
      ],
      "text/plain": []
     },
     "metadata": {},
     "output_type": "display_data"
    },
    {
     "data": {
      "text/html": [
       "<pre style=\"white-space:pre;overflow-x:auto;line-height:normal;font-family:Menlo,'DejaVu Sans Mono',consolas,'Courier New',monospace\">Bayesian neural network trained in <span style=\"color: #008080; text-decoration-color: #008080; font-weight: bold\">1.8</span> s\n",
       "</pre>\n"
      ],
      "text/plain": [
       "Bayesian neural network trained in \u001b[1;36m1.8\u001b[0m s\n"
      ]
     },
     "metadata": {},
     "output_type": "display_data"
    },
    {
     "data": {
      "text/html": [
       "<pre style=\"white-space:pre;overflow-x:auto;line-height:normal;font-family:Menlo,'DejaVu Sans Mono',consolas,'Courier New',monospace\"><span style=\"color: #34a0a4; text-decoration-color: #34a0a4\">───────────────────────────────── Acquisition ──────────────────────────────────</span>\n",
       "</pre>\n"
      ],
      "text/plain": [
       "\u001b[38;2;52;160;164m───────────────────────────────── Acquisition ──────────────────────────────────\u001b[0m\n"
      ]
     },
     "metadata": {},
     "output_type": "display_data"
    },
    {
     "data": {
      "text/html": [
       "<pre style=\"white-space:pre;overflow-x:auto;line-height:normal;font-family:Menlo,'DejaVu Sans Mono',consolas,'Courier New',monospace\"></pre>\n"
      ],
      "text/plain": []
     },
     "metadata": {},
     "output_type": "display_data"
    },
    {
     "data": {
      "text/html": [
       "<pre style=\"white-space:pre;overflow-x:auto;line-height:normal;font-family:Menlo,'DejaVu Sans Mono',consolas,'Courier New',monospace\"><span style=\"color: #008080; text-decoration-color: #008080; font-weight: bold\">800</span> random proposals drawn in <span style=\"color: #008080; text-decoration-color: #008080; font-weight: bold\">51.2</span> ms\n",
       "</pre>\n"
      ],
      "text/plain": [
       "\u001b[1;36m800\u001b[0m random proposals drawn in \u001b[1;36m51.2\u001b[0m ms\n"
      ]
     },
     "metadata": {},
     "output_type": "display_data"
    },
    {
     "data": {
      "text/html": [
       "<pre style=\"white-space:pre;overflow-x:auto;line-height:normal;font-family:Menlo,'DejaVu Sans Mono',consolas,'Courier New',monospace\"></pre>\n"
      ],
      "text/plain": []
     },
     "metadata": {},
     "output_type": "display_data"
    },
    {
     "data": {
      "text/html": [
       "<pre style=\"white-space:pre;overflow-x:auto;line-height:normal;font-family:Menlo,'DejaVu Sans Mono',consolas,'Courier New',monospace\"><span style=\"color: #008080; text-decoration-color: #008080; font-weight: bold\">800</span> proposals optimized in <span style=\"color: #008080; text-decoration-color: #008080; font-weight: bold\">175.1</span> ms using <span style=\"color: #008080; text-decoration-color: #008080; font-weight: bold\">4</span> CPUs\n",
       "</pre>\n"
      ],
      "text/plain": [
       "\u001b[1;36m800\u001b[0m proposals optimized in \u001b[1;36m175.1\u001b[0m ms using \u001b[1;36m4\u001b[0m CPUs\n"
      ]
     },
     "metadata": {},
     "output_type": "display_data"
    },
    {
     "data": {
      "text/html": [
       "<pre style=\"white-space:pre;overflow-x:auto;line-height:normal;font-family:Menlo,'DejaVu Sans Mono',consolas,'Courier New',monospace\">Acquisition tasks for <span style=\"color: #008080; text-decoration-color: #008080; font-weight: bold\">1</span> sampling strategy performed in <span style=\"color: #008080; text-decoration-color: #008080; font-weight: bold\">240.0</span> ms\n",
       "</pre>\n"
      ],
      "text/plain": [
       "Acquisition tasks for \u001b[1;36m1\u001b[0m sampling strategy performed in \u001b[1;36m240.0\u001b[0m ms\n"
      ]
     },
     "metadata": {},
     "output_type": "display_data"
    },
    {
     "data": {
      "text/html": [
       "<pre style=\"white-space:pre;overflow-x:auto;line-height:normal;font-family:Menlo,'DejaVu Sans Mono',consolas,'Courier New',monospace\"><span style=\"color: #34a0a4; text-decoration-color: #34a0a4\">─────────────────────────────── Sample Selector ────────────────────────────────</span>\n",
       "</pre>\n"
      ],
      "text/plain": [
       "\u001b[38;2;52;160;164m─────────────────────────────── Sample Selector ────────────────────────────────\u001b[0m\n"
      ]
     },
     "metadata": {},
     "output_type": "display_data"
    },
    {
     "data": {
      "application/vnd.jupyter.widget-view+json": {
       "model_id": "",
       "version_major": 2,
       "version_minor": 0
      },
      "text/plain": [
       "Output()"
      ]
     },
     "metadata": {},
     "output_type": "display_data"
    },
    {
     "data": {
      "text/html": [
       "<pre style=\"white-space:pre;overflow-x:auto;line-height:normal;font-family:Menlo,'DejaVu Sans Mono',consolas,'Courier New',monospace\"></pre>\n"
      ],
      "text/plain": []
     },
     "metadata": {},
     "output_type": "display_data"
    },
    {
     "data": {
      "text/html": [
       "<pre style=\"white-space:pre;overflow-x:auto;line-height:normal;font-family:Menlo,'DejaVu Sans Mono',consolas,'Courier New',monospace\"><span style=\"color: #008080; text-decoration-color: #008080; font-weight: bold\">1</span> sample selected in <span style=\"color: #008080; text-decoration-color: #008080; font-weight: bold\">113.7</span> ms\n",
       "</pre>\n"
      ],
      "text/plain": [
       "\u001b[1;36m1\u001b[0m sample selected in \u001b[1;36m113.7\u001b[0m ms\n"
      ]
     },
     "metadata": {},
     "output_type": "display_data"
    },
    {
     "data": {
      "text/html": [
       "<pre style=\"white-space:pre;overflow-x:auto;line-height:normal;font-family:Menlo,'DejaVu Sans Mono',consolas,'Courier New',monospace\"><span style=\"color: #34a0a4; text-decoration-color: #34a0a4\">─────────────────────────────────── Summary ────────────────────────────────────</span>\n",
       "</pre>\n"
      ],
      "text/plain": [
       "\u001b[38;2;52;160;164m─────────────────────────────────── Summary ────────────────────────────────────\u001b[0m\n"
      ]
     },
     "metadata": {},
     "output_type": "display_data"
    },
    {
     "data": {
      "text/html": [
       "<pre style=\"white-space:pre;overflow-x:auto;line-height:normal;font-family:Menlo,'DejaVu Sans Mono',consolas,'Courier New',monospace\">Memory usage: <span style=\"color: #008080; text-decoration-color: #008080; font-weight: bold\">0</span> GB, <span style=\"color: #008080; text-decoration-color: #008080; font-weight: bold\">399</span> MB, <span style=\"color: #008080; text-decoration-color: #008080; font-weight: bold\">4</span> kB\n",
       "</pre>\n"
      ],
      "text/plain": [
       "Memory usage: \u001b[1;36m0\u001b[0m GB, \u001b[1;36m399\u001b[0m MB, \u001b[1;36m4\u001b[0m kB\n"
      ]
     },
     "metadata": {},
     "output_type": "display_data"
    },
    {
     "data": {
      "text/html": [
       "<pre style=\"white-space:pre;overflow-x:auto;line-height:normal;font-family:Menlo,'DejaVu Sans Mono',consolas,'Courier New',monospace\">Overall time required: <span style=\"color: #008080; text-decoration-color: #008080; font-weight: bold\">2.2</span> s\n",
       "</pre>\n"
      ],
      "text/plain": [
       "Overall time required: \u001b[1;36m2.2\u001b[0m s\n"
      ]
     },
     "metadata": {},
     "output_type": "display_data"
    },
    {
     "data": {
      "text/html": [
       "<pre style=\"white-space:pre;overflow-x:auto;line-height:normal;font-family:Menlo,'DejaVu Sans Mono',consolas,'Courier New',monospace\"><span style=\"color: #d9ed92; text-decoration-color: #d9ed92; font-weight: bold\">===================================== End ======================================</span>\n",
       "</pre>\n"
      ],
      "text/plain": [
       "\u001b[1;38;2;217;237;146m===================================== End ======================================\u001b[0m\n"
      ]
     },
     "metadata": {},
     "output_type": "display_data"
    },
    {
     "data": {
      "text/html": [
       "<pre style=\"white-space:pre;overflow-x:auto;line-height:normal;font-family:Menlo,'DejaVu Sans Mono',consolas,'Courier New',monospace\">\n",
       "</pre>\n"
      ],
      "text/plain": [
       "\n"
      ]
     },
     "metadata": {},
     "output_type": "display_data"
    }
   ],
   "source": [
    "\n",
    "#CATEGORICAL SURFACE (SHOULDNT WORK)\n",
    "olymp.run_analytic(\n",
    "    planner='Gryffin', \n",
    "    surface='CatDejong',\n",
    "    param_dim=2,\n",
    "    num_opts=21,\n",
    "    goal='minimize',\n",
    "    campaign=Campaign(),\n",
    "    num_iter=3,\n",
    ")"
   ]
  },
  {
   "cell_type": "code",
   "execution_count": null,
   "metadata": {},
   "outputs": [],
   "source": []
  },
  {
   "cell_type": "code",
   "execution_count": 8,
   "metadata": {},
   "outputs": [],
   "source": [
    "# test the planner-level optimization\n",
    "# with categorical variables\n",
    "\n",
    "from olympus.datasets import Dataset\n",
    "from olympus.emulators import Emulator \n",
    "from olympus.planners import Planner "
   ]
  },
  {
   "cell_type": "code",
   "execution_count": 9,
   "metadata": {},
   "outputs": [],
   "source": [
    "emulator = Dataset(kind='perovskites')\n",
    "planner = Planner(kind='RandomSearch', goal='minimize')\n",
    "campaign = planner.optimize(emulator=emulator, num_iter=3)"
   ]
  },
  {
   "cell_type": "code",
   "execution_count": null,
   "metadata": {},
   "outputs": [],
   "source": []
  },
  {
   "cell_type": "code",
   "execution_count": null,
   "metadata": {},
   "outputs": [],
   "source": []
  },
  {
   "cell_type": "code",
   "execution_count": null,
   "metadata": {},
   "outputs": [],
   "source": []
  },
  {
   "cell_type": "code",
   "execution_count": null,
   "metadata": {},
   "outputs": [],
   "source": []
  }
 ],
 "metadata": {
  "kernelspec": {
   "display_name": "olympus",
   "language": "python",
   "name": "olympus"
  },
  "language_info": {
   "codemirror_mode": {
    "name": "ipython",
    "version": 3
   },
   "file_extension": ".py",
   "mimetype": "text/x-python",
   "name": "python",
   "nbconvert_exporter": "python",
   "pygments_lexer": "ipython3",
   "version": "3.7.7"
  }
 },
 "nbformat": 4,
 "nbformat_minor": 4
}
