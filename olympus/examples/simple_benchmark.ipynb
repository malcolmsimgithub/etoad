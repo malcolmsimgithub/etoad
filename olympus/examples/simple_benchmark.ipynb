{
 "cells": [
  {
   "cell_type": "code",
   "execution_count": 20,
   "metadata": {},
   "outputs": [
    {
     "name": "stdout",
     "output_type": "stream",
     "text": [
      "The autoreload extension is already loaded. To reload it, use:\n",
      "  %reload_ext autoreload\n"
     ]
    },
    {
     "name": "stderr",
     "output_type": "stream",
     "text": [
      "[autoreload of olympus.surfaces failed: Traceback (most recent call last):\n",
      "  File \"/home/riley/Software/anaconda3/envs/olympus/lib/python3.7/site-packages/IPython/extensions/autoreload.py\", line 245, in check\n",
      "    superreload(m, reload, self.old_objects)\n",
      "  File \"/home/riley/Software/anaconda3/envs/olympus/lib/python3.7/site-packages/IPython/extensions/autoreload.py\", line 394, in superreload\n",
      "    module = reload(module)\n",
      "  File \"/home/riley/Software/anaconda3/envs/olympus/lib/python3.7/imp.py\", line 314, in reload\n",
      "    return importlib.reload(module)\n",
      "  File \"/home/riley/Software/anaconda3/envs/olympus/lib/python3.7/importlib/__init__.py\", line 140, in reload\n",
      "    raise TypeError(\"reload() argument must be a module\")\n",
      "TypeError: reload() argument must be a module\n",
      "]\n"
     ]
    }
   ],
   "source": [
    "%load_ext autoreload\n",
    "%autoreload 2"
   ]
  },
  {
   "cell_type": "code",
   "execution_count": 14,
   "metadata": {},
   "outputs": [],
   "source": [
    "# import olympus\n",
    "from olympus import Olympus\n",
    "from olympus import Campaign"
   ]
  },
  {
   "cell_type": "code",
   "execution_count": 15,
   "metadata": {},
   "outputs": [],
   "source": [
    "# create olympus\n",
    "olymp = Olympus()"
   ]
  },
  {
   "cell_type": "markdown",
   "metadata": {},
   "source": [
    "### Run a simple benchmark"
   ]
  },
  {
   "cell_type": "code",
   "execution_count": 16,
   "metadata": {},
   "outputs": [
    {
     "name": "stdout",
     "output_type": "stream",
     "text": [
      "\u001b[0;37m[INFO] Loading emulator using a BayesNeuralNet model for the dataset alkox...\n",
      "\u001b[0m"
     ]
    },
    {
     "name": "stderr",
     "output_type": "stream",
     "text": [
      "2021-10-06 15:39:34,638 - hyperopt.tpe - INFO - build_posterior_wrapper took 0.000826 seconds\n",
      "2021-10-06 15:39:34,639 - hyperopt.tpe - INFO - TPE using 0 trials\n",
      "2021-10-06 15:39:34,665 - hyperopt.tpe - INFO - build_posterior_wrapper took 0.000838 seconds\n",
      "2021-10-06 15:39:34,666 - hyperopt.tpe - INFO - TPE using 1/1 trials with best loss -5.551102\n",
      "2021-10-06 15:39:34,671 - hyperopt.tpe - INFO - build_posterior_wrapper took 0.000795 seconds\n",
      "2021-10-06 15:39:34,671 - hyperopt.tpe - INFO - TPE using 2/2 trials with best loss -5.551102\n"
     ]
    }
   ],
   "source": [
    "# run olympus for specific experimentation scenario\n",
    "# continous parameters, emulated dataset\n",
    "olymp.run(dataset='alkox', planner='Hyperopt', campaign=Campaign())"
   ]
  },
  {
   "cell_type": "code",
   "execution_count": 17,
   "metadata": {},
   "outputs": [
    {
     "name": "stdout",
     "output_type": "stream",
     "text": [
      "\u001b[0;37m[INFO] Loading emulator using a BayesNeuralNet model for the dataset alkox...\n",
      "\u001b[0m"
     ]
    },
    {
     "name": "stderr",
     "output_type": "stream",
     "text": [
      "2021-10-06 15:39:35,239 - GP - INFO - initializing Y\n",
      "2021-10-06 15:39:35,240 - GP - INFO - initializing inference method\n",
      "2021-10-06 15:39:35,240 - GP - INFO - adding kernel and likelihood as parameters\n",
      "2021-10-06 15:39:35,242 - paramz.transformations - INFO - Warning: changing parameters to satisfy constraints\n",
      "2021-10-06 15:39:35,386 - GP - INFO - initializing Y\n",
      "2021-10-06 15:39:35,387 - GP - INFO - initializing inference method\n",
      "2021-10-06 15:39:35,387 - GP - INFO - adding kernel and likelihood as parameters\n"
     ]
    }
   ],
   "source": [
    "# run olympus with another planner\n",
    "olymp.run(dataset='alkox', planner='Gpyopt', campaign=Campaign())"
   ]
  },
  {
   "cell_type": "code",
   "execution_count": 19,
   "metadata": {},
   "outputs": [
    {
     "name": "stderr",
     "output_type": "stream",
     "text": [
      "\u001b[1;33m[WARNING] Parameter space contains at least one categorical variable. Returning bounds for continuous and discrete parameters\n",
      "\u001b[0m"
     ]
    }
   ],
   "source": [
    "# run olympus with full categorical dataset\n",
    "olymp.run(\n",
    "    planner='Grid', \n",
    "    dataset='perovskites',\n",
    "    goal='default',\n",
    "    num_iter=3, \n",
    "    campaign=Campaign(),\n",
    ")"
   ]
  },
  {
   "cell_type": "code",
   "execution_count": null,
   "metadata": {},
   "outputs": [],
   "source": []
  },
  {
   "cell_type": "markdown",
   "metadata": {},
   "source": [
    "### Plot results"
   ]
  },
  {
   "cell_type": "code",
   "execution_count": null,
   "metadata": {},
   "outputs": [],
   "source": [
    "from olympus import Plotter"
   ]
  },
  {
   "cell_type": "code",
   "execution_count": null,
   "metadata": {},
   "outputs": [],
   "source": [
    "plotter = Plotter()\n",
    "plotter.plot_from_db(olymp.evaluator.database)"
   ]
  },
  {
   "cell_type": "markdown",
   "metadata": {},
   "source": [
    "### Computer additional performance metrics (PENDING)"
   ]
  },
  {
   "cell_type": "code",
   "execution_count": null,
   "metadata": {},
   "outputs": [],
   "source": [
    "..."
   ]
  },
  {
   "cell_type": "code",
   "execution_count": null,
   "metadata": {},
   "outputs": [],
   "source": []
  }
 ],
 "metadata": {
  "kernelspec": {
   "display_name": "olympus",
   "language": "python",
   "name": "olympus"
  },
  "language_info": {
   "codemirror_mode": {
    "name": "ipython",
    "version": 3
   },
   "file_extension": ".py",
   "mimetype": "text/x-python",
   "name": "python",
   "nbconvert_exporter": "python",
   "pygments_lexer": "ipython3",
   "version": "3.7.7"
  }
 },
 "nbformat": 4,
 "nbformat_minor": 2
}
