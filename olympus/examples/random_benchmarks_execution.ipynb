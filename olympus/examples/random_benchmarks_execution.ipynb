{
 "cells": [
  {
   "cell_type": "code",
   "execution_count": 1,
   "metadata": {},
   "outputs": [],
   "source": [
    "from olympus import Olympus\n",
    "from olympus import Database \n",
    "from olympus import Campaign"
   ]
  },
  {
   "cell_type": "code",
   "execution_count": 2,
   "metadata": {},
   "outputs": [
    {
     "data": {
      "text/plain": [
       "['alkox',\n",
       " 'colormix_bob',\n",
       " 'colormix_n9',\n",
       " 'fullerenes',\n",
       " 'hplc_n9',\n",
       " 'nbenzylation',\n",
       " 'photobleaching_pce10',\n",
       " 'photobleaching_wf3',\n",
       " 'snar',\n",
       " 'suzuki']"
      ]
     },
     "execution_count": 2,
     "metadata": {},
     "output_type": "execute_result"
    }
   ],
   "source": [
    "from olympus import list_datasets\n",
    "list_datasets()"
   ]
  },
  {
   "cell_type": "code",
   "execution_count": 3,
   "metadata": {},
   "outputs": [],
   "source": [
    "NUM_REPS = 2\n",
    "NUM_ITER = 100"
   ]
  },
  {
   "cell_type": "code",
   "execution_count": 4,
   "metadata": {},
   "outputs": [],
   "source": [
    "olymp = Olympus()\n",
    "\n",
    "# silence logger\n",
    "from olympus import Logger\n",
    "Logger.set_verbosity(-1)"
   ]
  },
  {
   "cell_type": "code",
   "execution_count": 5,
   "metadata": {
    "scrolled": false
   },
   "outputs": [
    {
     "name": "stdout",
     "output_type": "stream",
     "text": [
      "Working on dataset alkox\n",
      "\tworking on repetition 0\n",
      "\tworking on repetition 1\n",
      "Working on dataset colormix_bob\n",
      "\tworking on repetition 0\n",
      "\tworking on repetition 1\n",
      "Working on dataset colormix_n9\n",
      "\tworking on repetition 0\n",
      "\tworking on repetition 1\n",
      "Working on dataset fullerenes\n",
      "\tworking on repetition 0\n",
      "\tworking on repetition 1\n",
      "Working on dataset hplc_n9\n",
      "\tworking on repetition 0\n",
      "\tworking on repetition 1\n",
      "Working on dataset nbenzylation\n",
      "\tworking on repetition 0\n",
      "\tworking on repetition 1\n",
      "Working on dataset photobleaching_pce10\n",
      "\tworking on repetition 0\n",
      "\tworking on repetition 1\n",
      "Working on dataset photobleaching_wf3\n",
      "\tworking on repetition 0\n",
      "\tworking on repetition 1\n",
      "Working on dataset snar\n",
      "\tworking on repetition 0\n",
      "\tworking on repetition 1\n",
      "Working on dataset suzuki\n",
      "\tworking on repetition 0\n",
      "\tworking on repetition 1\n"
     ]
    }
   ],
   "source": [
    "for dataset in list_datasets():\n",
    "    print(f'Working on dataset {dataset}')\n",
    "    # create new database file\n",
    "    database = Database(path='../benchmarks', name=f'random_search_{dataset}')\n",
    "    for _ in range(NUM_REPS):\n",
    "        print(f'\\tworking on repetition {_}')\n",
    "        # create new campaign\n",
    "        campaign = Campaign()\n",
    "        # run optimization\n",
    "        olymp.run(\n",
    "            campaign=campaign,\n",
    "            database=database,\n",
    "            dataset=dataset,\n",
    "            planner='random_search',\n",
    "            num_iter=NUM_ITER,\n",
    "        )"
   ]
  },
  {
   "cell_type": "code",
   "execution_count": null,
   "metadata": {},
   "outputs": [],
   "source": []
  },
  {
   "cell_type": "code",
   "execution_count": null,
   "metadata": {},
   "outputs": [],
   "source": []
  }
 ],
 "metadata": {
  "kernelspec": {
   "display_name": "Python 3",
   "language": "python",
   "name": "python3"
  },
  "language_info": {
   "codemirror_mode": {
    "name": "ipython",
    "version": 3
   },
   "file_extension": ".py",
   "mimetype": "text/x-python",
   "name": "python",
   "nbconvert_exporter": "python",
   "pygments_lexer": "ipython3",
   "version": "3.7.7"
  }
 },
 "nbformat": 4,
 "nbformat_minor": 4
}
