{
 "cells": [
  {
   "cell_type": "markdown",
   "metadata": {},
   "source": [
    "### Run planner on surface"
   ]
  },
  {
   "cell_type": "code",
   "execution_count": 1,
   "metadata": {},
   "outputs": [],
   "source": [
    "from olympus import Planner\n",
    "from olympus import Surface"
   ]
  },
  {
   "cell_type": "markdown",
   "metadata": {},
   "source": [
    "details on the tutorial itself"
   ]
  },
  {
   "cell_type": "code",
   "execution_count": 2,
   "metadata": {},
   "outputs": [
    {
     "data": {
      "text/plain": [
       "['BasinHopping',\n",
       " 'Cma',\n",
       " 'ConjugateGradient',\n",
       " 'Deap',\n",
       " 'DifferentialEvolution',\n",
       " 'Gpyopt',\n",
       " 'Grid',\n",
       " 'Hyperopt',\n",
       " 'LatinHypercube',\n",
       " 'Lbfgs',\n",
       " 'ParticleSwarms',\n",
       " 'Phoenics',\n",
       " 'RandomSearch',\n",
       " 'Simplex',\n",
       " 'Slsqp',\n",
       " 'Snobfit',\n",
       " 'Sobol',\n",
       " 'SteepestDescent']"
      ]
     },
     "execution_count": 2,
     "metadata": {},
     "output_type": "execute_result"
    }
   ],
   "source": [
    "from olympus import list_planners\n",
    "#from olympus import list_surfaces\n",
    "list_planners()"
   ]
  },
  {
   "cell_type": "code",
   "execution_count": 3,
   "metadata": {
    "scrolled": true
   },
   "outputs": [
    {
     "name": "stdout",
     "output_type": "stream",
     "text": [
      "Help on class Surface in module olympus.surfaces.surface:\n",
      "\n",
      "class Surface(olympus.objects.abstract_object.Object)\n",
      " |  Surface(kind='dejong', param_dim=2)\n",
      " |  \n",
      " |  generic surface class\n",
      " |  \n",
      " |  This class is intended to provide an interface to the user\n",
      " |  \n",
      " |  Custom mixture Gaussian surfaces saved to disk:\n",
      " |          - everest\n",
      " |          - denali\n",
      " |          - k2\n",
      " |          - kilimanjaro\n",
      " |          - matterhorn\n",
      " |  \n",
      " |  Surfaces from the literature housed in the BenchmarkSurfaces class:\n",
      " |          - dejong\n",
      " |          - hyper_ellipsoid\n",
      " |          - rosenbrock\n",
      " |          - rastrigin\n",
      " |          - schwefel\n",
      " |          - ackley_path\n",
      " |          - linear_funnel\n",
      " |          - narrow_funnel\n",
      " |          - discrete_ackley\n",
      " |          - discrete_michalewicz\n",
      " |          - double_well\n",
      " |          - discrete_valleys\n",
      " |  \n",
      " |  Method resolution order:\n",
      " |      Surface\n",
      " |      olympus.objects.abstract_object.Object\n",
      " |      builtins.object\n",
      " |  \n",
      " |  Methods defined here:\n",
      " |  \n",
      " |  __init__(self, kind='dejong', param_dim=2)\n",
      " |      creates empty object and loads defaults\n",
      " |      \n",
      " |      Args:\n",
      " |          me     (str): arbitrary name to identify the object\n",
      " |          indent (int): number of spaces used in string\n",
      " |              representation\n",
      " |  \n",
      " |  create(self, config)\n",
      " |      creates surface from config file\n",
      " |  \n",
      " |  get_param_space(self)\n",
      " |      #@property\n",
      " |  \n",
      " |  run(self, features)\n",
      " |      evaluates the surface for a given set of features\n",
      " |  \n",
      " |  save(self, kind)\n",
      " |      saves the surface config dictionary and the parameters of the mixture\n",
      " |      gauss functions to a pickle file. must be named by a mountain!\n",
      " |  \n",
      " |  ----------------------------------------------------------------------\n",
      " |  Methods inherited from olympus.objects.abstract_object.Object:\n",
      " |  \n",
      " |  __contains__(self, prop)\n",
      " |  \n",
      " |  __getattr__(self, prop)\n",
      " |  \n",
      " |  __getitem__(self, prop)\n",
      " |  \n",
      " |  __iter__(self)\n",
      " |  \n",
      " |  __setitem__(self, prop, attr)\n",
      " |  \n",
      " |  __str__(self)\n",
      " |      Return str(self).\n",
      " |  \n",
      " |  add(self, prop, attr)\n",
      " |      dynamically adds property and attribute to object\n",
      " |      \n",
      " |      Args:\n",
      " |          prop (any): property associated with attribute\n",
      " |          attr (any): property value\n",
      " |  \n",
      " |  from_dict(self, info_dict)\n",
      " |      returns object representation of given dictionary\n",
      " |      \n",
      " |      Args:\n",
      " |          info_dict (dict): dictionary to be represented\n",
      " |      \n",
      " |      Returns:\n",
      " |          Object: Object representation of dictionary\n",
      " |  \n",
      " |  from_json(self, json_file='config.json')\n",
      " |  \n",
      " |  get(self, prop)\n",
      " |      returns attribute associated with given property\n",
      " |      \n",
      " |      Args:\n",
      " |          prop (any): valid property\n",
      " |      \n",
      " |      Returns:\n",
      " |          any: attribute associated with property\n",
      " |  \n",
      " |  reset(self)\n",
      " |  \n",
      " |  to_dict(self, exclude=[])\n",
      " |      returns dictionary representation of presented object\n",
      " |      \n",
      " |      Args:\n",
      " |          exclude (list of any): properties to be excluded\n",
      " |      \n",
      " |      Returns:\n",
      " |          dict: representation of presented object\n",
      " |  \n",
      " |  to_json(self, json_file='config.json')\n",
      " |  \n",
      " |  update(self, prop, attr)\n",
      " |  \n",
      " |  ----------------------------------------------------------------------\n",
      " |  Data descriptors inherited from olympus.objects.abstract_object.Object:\n",
      " |  \n",
      " |  __dict__\n",
      " |      dictionary for instance variables (if defined)\n",
      " |  \n",
      " |  __weakref__\n",
      " |      list of weak references to the object (if defined)\n",
      " |  \n",
      " |  defaults\n",
      "\n"
     ]
    }
   ],
   "source": [
    "help(Surface)"
   ]
  },
  {
   "cell_type": "code",
   "execution_count": 4,
   "metadata": {},
   "outputs": [
    {
     "name": "stdout",
     "output_type": "stream",
     "text": [
      "\u001b[0;37m[INFO] Successfully loaded dejong from benchmark surface set!\n",
      "\u001b[0m"
     ]
    },
    {
     "name": "stderr",
     "output_type": "stream",
     "text": [
      "NoneType: None\n",
      "\u001b[1;33m[WARNING] Not yet debugged. Proceed with caution.\n",
      "\u001b[0m"
     ]
    }
   ],
   "source": [
    "surface = Surface(kind='dejong', param_dim=2)"
   ]
  },
  {
   "cell_type": "code",
   "execution_count": 5,
   "metadata": {},
   "outputs": [
    {
     "name": "stdout",
     "output_type": "stream",
     "text": [
      "KIND Lbfgs\n"
     ]
    }
   ],
   "source": [
    "planner = Planner(kind='Lbfgs')"
   ]
  },
  {
   "cell_type": "code",
   "execution_count": 6,
   "metadata": {},
   "outputs": [],
   "source": [
    "campaign = planner.optimize(surface)"
   ]
  },
  {
   "cell_type": "code",
   "execution_count": 7,
   "metadata": {},
   "outputs": [
    {
     "data": {
      "text/plain": [
       "array([[0.92423351, 0.58630997]])"
      ]
     },
     "execution_count": 7,
     "metadata": {},
     "output_type": "execute_result"
    }
   ],
   "source": [
    "campaign.params"
   ]
  },
  {
   "cell_type": "code",
   "execution_count": 8,
   "metadata": {},
   "outputs": [
    {
     "data": {
      "text/plain": [
       "array([[2.98872453]])"
      ]
     },
     "execution_count": 8,
     "metadata": {},
     "output_type": "execute_result"
    }
   ],
   "source": [
    "campaign.values"
   ]
  },
  {
   "cell_type": "code",
   "execution_count": null,
   "metadata": {},
   "outputs": [],
   "source": []
  }
 ],
 "metadata": {
  "kernelspec": {
   "display_name": "Python 3",
   "language": "python",
   "name": "python3"
  },
  "language_info": {
   "codemirror_mode": {
    "name": "ipython",
    "version": 3
   },
   "file_extension": ".py",
   "mimetype": "text/x-python",
   "name": "python",
   "nbconvert_exporter": "python",
   "pygments_lexer": "ipython3",
   "version": "3.7.5"
  }
 },
 "nbformat": 4,
 "nbformat_minor": 4
}
