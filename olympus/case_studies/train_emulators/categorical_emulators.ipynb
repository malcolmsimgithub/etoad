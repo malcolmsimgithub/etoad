{
 "cells": [
  {
   "cell_type": "code",
   "execution_count": 52,
   "id": "0e926041",
   "metadata": {},
   "outputs": [
    {
     "name": "stdout",
     "output_type": "stream",
     "text": [
      "The autoreload extension is already loaded. To reload it, use:\n",
      "  %reload_ext autoreload\n"
     ]
    }
   ],
   "source": [
    "%load_ext autoreload\n",
    "%autoreload 2"
   ]
  },
  {
   "cell_type": "code",
   "execution_count": 53,
   "id": "964eba3d",
   "metadata": {},
   "outputs": [],
   "source": [
    "import pickle\n",
    "import numpy as np\n",
    "import pandas as pd\n",
    "import matplotlib.pyplot as plt\n",
    "import seaborn as sns\n",
    "\n",
    "import olympus\n",
    "from olympus import __home__\n",
    "from olympus.datasets import Dataset\n",
    "from olympus.emulators import Emulator\n",
    "from olympus.objects import ParameterVector\n",
    "from olympus.models import BayesNeuralNet"
   ]
  },
  {
   "cell_type": "code",
   "execution_count": 61,
   "id": "1a835b98",
   "metadata": {},
   "outputs": [],
   "source": [
    "dataset = Dataset(kind='perovskites')\n",
    "\n",
    "params = {\n",
    "    'batch_size':50, \n",
    "    'hidden_act':'leaky_relu',\n",
    "    'hidden_depth':4,\n",
    "    'hidden_nodes':48,\n",
    "    'learning_rate':1e-4,\n",
    "    'reg': 0.01,\n",
    "}\n",
    "\n",
    "model = BayesNeuralNet(task='regression', **params, out_act='relu')\n",
    "\n",
    "emulator = Emulator(\n",
    "        dataset=dataset,\n",
    "        model=model,\n",
    "        feature_transform='identity',\n",
    "        target_transform='mean',\n",
    "    )"
   ]
  },
  {
   "cell_type": "code",
   "execution_count": 62,
   "id": "fec82a1d",
   "metadata": {},
   "outputs": [
    {
     "name": "stdout",
     "output_type": "stream",
     "text": [
      "\u001b[0;37m[INFO] >>> Training model on 80% of the dataset, testing on 20%...\n",
      "\u001b[0m"
     ]
    },
    {
     "name": "stderr",
     "output_type": "stream",
     "text": [
      "/home/riley/Software/anaconda3/envs/olympus/lib/python3.7/site-packages/tensorflow_probability/python/layers/util.py:102: UserWarning: `layer.add_variable` is deprecated and will be removed in a future version. Please use the `layer.add_weight()` method instead.\n",
      "  trainable=trainable)\n",
      "/home/riley/Software/anaconda3/envs/olympus/lib/python3.7/site-packages/tensorflow_probability/python/layers/util.py:112: UserWarning: `layer.add_variable` is deprecated and will be removed in a future version. Please use the `layer.add_weight()` method instead.\n",
      "  trainable=trainable)\n"
     ]
    },
    {
     "name": "stdout",
     "output_type": "stream",
     "text": [
      "\u001b[0;37m[INFO]     =======================================================================\n",
      "\u001b[0m\u001b[0;37m[INFO]           Epoch       Train R2     Train RMSD        Test R2      Test RMSD\n",
      "\u001b[0m\u001b[0;37m[INFO]     =======================================================================\n",
      "\u001b[0m\u001b[0;37m[INFO]               0         -8.193          1.035         -8.178          1.108 *\n",
      "\u001b[0m\u001b[0;37m[INFO]             100         -5.306          0.857         -5.464          0.930 *\n",
      "\u001b[0m\u001b[0;37m[INFO]             200         -0.990          0.481         -1.141          0.535 *\n",
      "\u001b[0m\u001b[0;37m[INFO]             300          0.210          0.303          0.181          0.331 *\n",
      "\u001b[0m\u001b[0;37m[INFO]             400          0.536          0.232          0.459          0.269 *\n",
      "\u001b[0m\u001b[0;37m[INFO]             500          0.697          0.188          0.687          0.205 *\n",
      "\u001b[0m\u001b[0;37m[INFO]             600          0.821          0.144          0.834          0.149 *\n",
      "\u001b[0m\u001b[0;37m[INFO]             700          0.886          0.115          0.852          0.141 *\n",
      "\u001b[0m\u001b[0;37m[INFO]             800          0.900          0.108          0.931          0.096 *\n",
      "\u001b[0m\u001b[0;37m[INFO]             900          0.919          0.097          0.923          0.102\n",
      "\u001b[0m\u001b[0;37m[INFO]            1000          0.915          0.099          0.915          0.106\n",
      "\u001b[0m\u001b[0;37m[INFO]            1100          0.913          0.101          0.942          0.088 *\n",
      "\u001b[0m\u001b[0;37m[INFO]            1200          0.922          0.095          0.917          0.105\n",
      "\u001b[0m\u001b[0;37m[INFO]            1300          0.914          0.100          0.933          0.095\n",
      "\u001b[0m\u001b[0;37m[INFO]            1400          0.900          0.108          0.936          0.093\n",
      "\u001b[0m\u001b[0;37m[INFO]            1500          0.918          0.098          0.949          0.083 *\n",
      "\u001b[0m\u001b[0;37m[INFO]            1600          0.923          0.095          0.933          0.095\n",
      "\u001b[0m\u001b[0;37m[INFO]            1700          0.918          0.098          0.939          0.090\n",
      "\u001b[0m\u001b[0;37m[INFO]            1800          0.912          0.101          0.950          0.082 *\n",
      "\u001b[0m\u001b[0;37m[INFO]            1900          0.929          0.091          0.944          0.086\n",
      "\u001b[0m\u001b[0;37m[INFO]            2000          0.925          0.094          0.937          0.092\n",
      "\u001b[0m\u001b[0;37m[INFO]            2100          0.934          0.088          0.944          0.087\n",
      "\u001b[0m\u001b[0;37m[INFO]            2200          0.919          0.097          0.936          0.093\n",
      "\u001b[0m\u001b[0;37m[INFO]            2300          0.937          0.086          0.954          0.078 *\n",
      "\u001b[0m\u001b[0;37m[INFO]            2400          0.929          0.091          0.940          0.090\n",
      "\u001b[0m\u001b[0;37m[INFO]            2500          0.939          0.084          0.954          0.078\n",
      "\u001b[0m\u001b[0;37m[INFO]            2600          0.925          0.094          0.944          0.087\n",
      "\u001b[0m\u001b[0;37m[INFO]            2700          0.929          0.091          0.941          0.089\n",
      "\u001b[0m\u001b[0;37m[INFO]            2800          0.935          0.087          0.952          0.080\n",
      "\u001b[0m\u001b[0;37m[INFO]            2900          0.933          0.089          0.945          0.086\n",
      "\u001b[0m\u001b[0;37m[INFO]            3000          0.927          0.092          0.951          0.081\n",
      "\u001b[0m\u001b[0;37m[INFO]            3100          0.931          0.090          0.934          0.094\n",
      "\u001b[0m\u001b[0;37m[INFO]            3200          0.935          0.087          0.960          0.073 *\n",
      "\u001b[0m\u001b[0;37m[INFO]            3300          0.927          0.092          0.949          0.083\n",
      "\u001b[0m\u001b[0;37m[INFO]            3400          0.949          0.077          0.945          0.085\n",
      "\u001b[0m\u001b[0;37m[INFO]            3500          0.947          0.079          0.953          0.079\n",
      "\u001b[0m\u001b[0;37m[INFO]            3600          0.942          0.082          0.963          0.070 *\n",
      "\u001b[0m\u001b[0;37m[INFO]            3700          0.949          0.077          0.947          0.084\n",
      "\u001b[0m\u001b[0;37m[INFO]            3800          0.939          0.085          0.957          0.075\n",
      "\u001b[0m\u001b[0;37m[INFO]            3900          0.940          0.084          0.952          0.080\n",
      "\u001b[0m\u001b[0;37m[INFO]            4000          0.943          0.082          0.953          0.079\n",
      "\u001b[0m\u001b[0;37m[INFO]            4100          0.939          0.084          0.954          0.079\n",
      "\u001b[0m\u001b[0;37m[INFO]            4200          0.959          0.069          0.951          0.081\n",
      "\u001b[0m\u001b[0;37m[INFO]            4300          0.934          0.088          0.950          0.082\n",
      "\u001b[0m\u001b[0;37m[INFO]            4400          0.961          0.067          0.950          0.081\n",
      "\u001b[0m\u001b[0;37m[INFO]            4500          0.944          0.081          0.951          0.081\n",
      "\u001b[0m\u001b[0;37m[INFO]            4600          0.944          0.080          0.952          0.080\n",
      "\u001b[0m\u001b[0;37m[INFO]            4700          0.950          0.076          0.950          0.082\n",
      "\u001b[0m\u001b[0;37m[INFO]            4800          0.952          0.075          0.961          0.072\n",
      "\u001b[0m\u001b[0;37m[INFO]            4900          0.952          0.075          0.951          0.081\n",
      "\u001b[0m\u001b[0;37m[INFO]            5000          0.949          0.077          0.941          0.088\n",
      "\u001b[0m\u001b[0;37m[INFO]            5100          0.949          0.077          0.950          0.082\n",
      "\u001b[0m\u001b[0;37m[INFO]            5200          0.945          0.080          0.954          0.079\n",
      "\u001b[0m\u001b[0;37m[INFO]            5300          0.954          0.074          0.952          0.080\n",
      "\u001b[0m\u001b[0;37m[INFO]            5400          0.953          0.074          0.952          0.080\n",
      "\u001b[0m\u001b[0;37m[INFO]            5500          0.956          0.071          0.959          0.074\n",
      "\u001b[0m\u001b[0;37m[INFO]            5600          0.948          0.078          0.948          0.083\n",
      "\u001b[0m\u001b[0;37m[INFO]            5700          0.964          0.065          0.963          0.070\n",
      "\u001b[0m\u001b[0;37m[INFO]            5800          0.969          0.060          0.956          0.076\n",
      "\u001b[0m\u001b[0;37m[INFO]            5900          0.959          0.069          0.963          0.070\n",
      "\u001b[0m\u001b[0;37m[INFO]            6000          0.960          0.068          0.956          0.077\n",
      "\u001b[0m\u001b[0;37m[INFO]            6100          0.971          0.058          0.969          0.064 *\n",
      "\u001b[0m\u001b[0;37m[INFO]            6200          0.961          0.067          0.963          0.070\n",
      "\u001b[0m\u001b[0;37m[INFO]            6300          0.970          0.059          0.954          0.078\n",
      "\u001b[0m\u001b[0;37m[INFO]            6400          0.965          0.064          0.957          0.076\n",
      "\u001b[0m\u001b[0;37m[INFO]            6500          0.967          0.062          0.951          0.081\n",
      "\u001b[0m\u001b[0;37m[INFO]            6600          0.963          0.066          0.957          0.076\n",
      "\u001b[0m\u001b[0;37m[INFO]            6700          0.965          0.064          0.948          0.084\n",
      "\u001b[0m\u001b[0;37m[INFO]            6800          0.968          0.061          0.958          0.075\n",
      "\u001b[0m\u001b[0;37m[INFO]            6900          0.970          0.060          0.953          0.079\n",
      "\u001b[0m\u001b[0;37m[INFO]            7000          0.974          0.055          0.962          0.072\n",
      "\u001b[0m\u001b[0;37m[INFO]            7100          0.969          0.060          0.952          0.080\n",
      "\u001b[0m\u001b[0;37m[INFO]            7200          0.976          0.053          0.963          0.070\n",
      "\u001b[0m\u001b[0;37m[INFO]            7300          0.966          0.063          0.967          0.066\n",
      "\u001b[0m\u001b[0;37m[INFO]            7400          0.972          0.057          0.957          0.076\n",
      "\u001b[0m\u001b[0;37m[INFO]            7500          0.977          0.052          0.955          0.078\n",
      "\u001b[0m\u001b[0;37m[INFO]            7600          0.976          0.053          0.963          0.071\n",
      "\u001b[0m\u001b[0;37m[INFO]            7700          0.973          0.057          0.956          0.076\n",
      "\u001b[0m\u001b[0;37m[INFO]            7800          0.975          0.054          0.972          0.061 *\n",
      "\u001b[0m\u001b[0;37m[INFO]            7900          0.974          0.055          0.968          0.065\n",
      "\u001b[0m\u001b[0;37m[INFO]            8000          0.973          0.056          0.963          0.070\n",
      "\u001b[0m\u001b[0;37m[INFO]            8100          0.977          0.052          0.958          0.075\n",
      "\u001b[0m\u001b[0;37m[INFO]            8200          0.978          0.051          0.958          0.075\n",
      "\u001b[0m\u001b[0;37m[INFO]            8300          0.979          0.050          0.953          0.079\n",
      "\u001b[0m\u001b[0;37m[INFO]            8400          0.978          0.050          0.969          0.064\n"
     ]
    },
    {
     "name": "stdout",
     "output_type": "stream",
     "text": [
      "\u001b[0m\u001b[0;37m[INFO]            8500          0.981          0.047          0.957          0.075\n",
      "\u001b[0m\u001b[0;37m[INFO]            8600          0.979          0.050          0.971          0.062\n",
      "\u001b[0m\u001b[0;37m[INFO]            8700          0.980          0.049          0.956          0.077\n",
      "\u001b[0m\u001b[0;37m[INFO]            8800          0.982          0.045          0.956          0.077\n",
      "\u001b[0m\u001b[0;37m[INFO]            8900          0.978          0.050          0.971          0.062\n",
      "\u001b[0m\u001b[0;37m[INFO]            9000          0.982          0.046          0.943          0.088\n",
      "\u001b[0m\u001b[0;37m[INFO]            9100          0.981          0.047          0.966          0.067\n",
      "\u001b[0m\u001b[0;37m[INFO]            9200          0.980          0.048          0.969          0.064\n",
      "\u001b[0m\u001b[0;37m[INFO]            9300          0.985          0.042          0.973          0.060 *\n",
      "\u001b[0m\u001b[0;37m[INFO]            9400          0.984          0.043          0.964          0.069\n",
      "\u001b[0m\u001b[0;37m[INFO]            9500          0.983          0.044          0.956          0.077\n",
      "\u001b[0m\u001b[0;37m[INFO]            9600          0.983          0.045          0.972          0.061\n",
      "\u001b[0m\u001b[0;37m[INFO]            9700          0.976          0.053          0.960          0.073\n",
      "\u001b[0m\u001b[0;37m[INFO]            9800          0.977          0.051          0.964          0.069\n",
      "\u001b[0m\u001b[0;37m[INFO]            9900          0.985          0.042          0.966          0.068\n",
      "\u001b[0m\u001b[0;37m[INFO]           10000          0.980          0.049          0.962          0.071\n",
      "\u001b[0m\u001b[0;37m[INFO]           10100          0.984          0.043          0.959          0.074\n",
      "\u001b[0m\u001b[0;37m[INFO]           10200          0.982          0.045          0.965          0.068\n",
      "\u001b[0m\u001b[0;37m[INFO]           10300          0.984          0.043          0.957          0.075\n",
      "\u001b[0m\u001b[0;37m[INFO]           10400          0.986          0.040          0.965          0.068\n",
      "\u001b[0m\u001b[0;37m[INFO]           10500          0.984          0.044          0.960          0.073\n",
      "\u001b[0m\u001b[0;37m[INFO]           10600          0.980          0.049          0.963          0.070\n",
      "\u001b[0m\u001b[0;37m[INFO]           10700          0.985          0.042          0.962          0.071\n",
      "\u001b[0m\u001b[0;37m[INFO]           10800          0.985          0.042          0.969          0.065\n",
      "\u001b[0m\u001b[0;37m[INFO]           10900          0.984          0.043          0.966          0.068\n",
      "\u001b[0m\u001b[0;37m[INFO]           11000          0.984          0.044          0.952          0.080\n",
      "\u001b[0m\u001b[0;37m[INFO]           11100          0.984          0.043          0.961          0.072\n",
      "\u001b[0m\u001b[0;37m[INFO]           11200          0.985          0.042          0.967          0.066\n",
      "\u001b[0m\u001b[0;37m[INFO]           11300          0.986          0.041          0.958          0.075\n",
      "\u001b[0m\u001b[0;37m[INFO]           11400          0.987          0.038          0.970          0.063\n",
      "\u001b[0m\u001b[0;37m[INFO]           11500          0.983          0.044          0.963          0.070\n",
      "\u001b[0m\u001b[0;37m[INFO]           11600          0.985          0.042          0.958          0.075\n",
      "\u001b[0m\u001b[0;37m[INFO]           11700          0.986          0.041          0.960          0.073\n",
      "\u001b[0m\u001b[0;37m[INFO]           11800          0.983          0.045          0.963          0.070\n",
      "\u001b[0m\u001b[0;37m[INFO]           11900          0.985          0.042          0.962          0.071\n",
      "\u001b[0m\u001b[0;37m[INFO]           12000          0.985          0.042          0.964          0.069\n",
      "\u001b[0m\u001b[0;37m[INFO]           12100          0.990          0.034          0.958          0.075\n",
      "\u001b[0m\u001b[0;37m[INFO]           12200          0.988          0.038          0.970          0.064\n",
      "\u001b[0m\u001b[0;37m[INFO]           12300          0.987          0.039          0.963          0.071\n",
      "\u001b[0m\u001b[0;37m[INFO]           12400          0.985          0.042          0.963          0.070\n",
      "\u001b[0m\u001b[0;37m[INFO]           12500          0.986          0.040          0.954          0.079\n",
      "\u001b[0m\u001b[0;37m[INFO]           12600          0.987          0.039          0.966          0.067\n",
      "\u001b[0m\u001b[0;37m[INFO]           12700          0.987          0.038          0.950          0.082\n",
      "\u001b[0m\u001b[0;37m[INFO]           12800          0.989          0.036          0.962          0.072\n",
      "\u001b[0m\u001b[0;37m[INFO]           12900          0.992          0.031          0.965          0.068\n",
      "\u001b[0m\u001b[0;37m[INFO]           13000          0.990          0.034          0.965          0.068\n",
      "\u001b[0m\u001b[0;37m[INFO]           13100          0.988          0.037          0.966          0.067\n",
      "\u001b[0m\u001b[0;37m[INFO]           13200          0.987          0.039          0.959          0.074\n",
      "\u001b[0m\u001b[0;37m[INFO]           13300          0.986          0.041          0.975          0.058 *\n",
      "\u001b[0m\u001b[0;37m[INFO]           13400          0.986          0.041          0.967          0.066\n",
      "\u001b[0m\u001b[0;37m[INFO]           13500          0.989          0.036          0.961          0.072\n",
      "\u001b[0m\u001b[0;37m[INFO]           13600          0.989          0.035          0.957          0.076\n",
      "\u001b[0m\u001b[0;37m[INFO]           13700          0.992          0.030          0.970          0.063\n",
      "\u001b[0m\u001b[0;37m[INFO]           13800          0.990          0.034          0.970          0.063\n",
      "\u001b[0m\u001b[0;37m[INFO]           13900          0.988          0.037          0.970          0.064\n",
      "\u001b[0m\u001b[0;37m[INFO]           14000          0.993          0.028          0.970          0.063\n",
      "\u001b[0m\u001b[0;37m[INFO]           14100          0.988          0.038          0.965          0.068\n",
      "\u001b[0m\u001b[0;37m[INFO]           14200          0.990          0.034          0.959          0.074\n",
      "\u001b[0m\u001b[0;37m[INFO]           14300          0.991          0.033          0.964          0.069\n",
      "\u001b[0m\u001b[0;37m[INFO]           14400          0.994          0.026          0.959          0.074\n",
      "\u001b[0m\u001b[0;37m[INFO]           14500          0.988          0.037          0.963          0.070\n",
      "\u001b[0m\u001b[0;37m[INFO]           14600          0.989          0.036          0.961          0.072\n",
      "\u001b[0m\u001b[0;37m[INFO]           14700          0.990          0.034          0.961          0.072\n",
      "\u001b[0m\u001b[0;37m[INFO]           14800          0.991          0.033          0.971          0.062\n",
      "\u001b[0m\u001b[0;37m[INFO]           14900          0.991          0.032          0.971          0.063\n",
      "\u001b[0m\u001b[0;37m[INFO]           15000          0.988          0.037          0.954          0.078\n",
      "\u001b[0m\u001b[0;37m[INFO]           15100          0.992          0.031          0.972          0.061\n",
      "\u001b[0m\u001b[0;37m[INFO]           15200          0.992          0.030          0.962          0.072\n",
      "\u001b[0m\u001b[0;37m[INFO]           15300          0.993          0.028          0.963          0.070\n",
      "\u001b[0m\u001b[0;37m[INFO]           15400          0.993          0.030          0.965          0.068\n",
      "\u001b[0m\u001b[0;37m[INFO]           15500          0.991          0.033          0.959          0.074\n",
      "\u001b[0m\u001b[0;37m[INFO]           15600          0.994          0.027          0.977          0.055 *\n",
      "\u001b[0m\u001b[0;37m[INFO]           15700          0.993          0.029          0.969          0.065\n",
      "\u001b[0m\u001b[0;37m[INFO]           15800          0.994          0.026          0.969          0.065\n",
      "\u001b[0m\u001b[0;37m[INFO]           15900          0.992          0.031          0.967          0.066\n",
      "\u001b[0m\u001b[0;37m[INFO]           16000          0.991          0.032          0.968          0.065\n",
      "\u001b[0m\u001b[0;37m[INFO]           16100          0.991          0.033          0.967          0.066\n",
      "\u001b[0m\u001b[0;37m[INFO]           16200          0.991          0.032          0.964          0.070\n",
      "\u001b[0m\u001b[0;37m[INFO]           16300          0.991          0.033          0.968          0.066\n",
      "\u001b[0m\u001b[0;37m[INFO]           16400          0.994          0.027          0.964          0.069\n",
      "\u001b[0m\u001b[0;37m[INFO]           16500          0.995          0.025          0.964          0.069\n",
      "\u001b[0m\u001b[0;37m[INFO]           16600          0.992          0.031          0.967          0.067\n",
      "\u001b[0m\u001b[0;37m[INFO]           16700          0.993          0.028          0.968          0.065\n",
      "\u001b[0m\u001b[0;37m[INFO]           16800          0.992          0.030          0.967          0.067\n",
      "\u001b[0m\u001b[0;37m[INFO]           16900          0.995          0.024          0.967          0.066\n",
      "\u001b[0m\u001b[0;37m[INFO]           17000          0.992          0.030          0.962          0.072\n",
      "\u001b[0m\u001b[0;37m[INFO]           17100          0.994          0.026          0.957          0.075\n",
      "\u001b[0m\u001b[0;37m[INFO]           17200          0.993          0.029          0.961          0.072\n",
      "\u001b[0m\u001b[0;37m[INFO]           17300          0.993          0.028          0.969          0.065\n"
     ]
    },
    {
     "name": "stdout",
     "output_type": "stream",
     "text": [
      "\u001b[0m\u001b[0;37m[INFO]           17400          0.994          0.026          0.963          0.070\n",
      "\u001b[0m\u001b[0;37m[INFO]           17500          0.994          0.026          0.961          0.072\n",
      "\u001b[0m\u001b[0;37m[INFO]           17600          0.993          0.029          0.969          0.064\n",
      "\u001b[0m\u001b[0;37m[INFO]           17700          0.995          0.025          0.961          0.072\n",
      "\u001b[0m\u001b[0;37m[INFO]           17800          0.995          0.025          0.967          0.066\n",
      "\u001b[0m\u001b[0;37m[INFO]           17900          0.994          0.027          0.968          0.066\n",
      "\u001b[0m\u001b[0;37m[INFO]           18000          0.994          0.025          0.971          0.062\n",
      "\u001b[0m\u001b[0;37m[INFO]           18100          0.994          0.026          0.977          0.056\n",
      "\u001b[0m\u001b[0;37m[INFO]           18200          0.994          0.026          0.960          0.073\n",
      "\u001b[0m\u001b[0;37m[INFO]           18300          0.993          0.029          0.963          0.070\n",
      "\u001b[0m\u001b[0;37m[INFO]           18400          0.994          0.026          0.960          0.073\n",
      "\u001b[0m\u001b[0;37m[INFO]           18500          0.994          0.026          0.967          0.067\n",
      "\u001b[0m\u001b[0;37m[INFO]           18600          0.995          0.024          0.962          0.071\n",
      "\u001b[0m\u001b[0;37m[INFO]           18700          0.994          0.027          0.965          0.069\n",
      "\u001b[0m\u001b[0;37m[INFO]           18800          0.996          0.022          0.966          0.067\n",
      "\u001b[0m\u001b[0;37m[INFO]           18900          0.994          0.026          0.963          0.071\n",
      "\u001b[0m\u001b[0;37m[INFO]           19000          0.995          0.024          0.966          0.067\n",
      "\u001b[0m\u001b[0;37m[INFO]           19100          0.995          0.024          0.967          0.067\n",
      "\u001b[0m\u001b[0;37m[INFO]           19200          0.995          0.025          0.971          0.062\n",
      "\u001b[0m\u001b[0;37m[INFO]           19300          0.996          0.021          0.958          0.075\n",
      "\u001b[0m\u001b[0;37m[INFO]           19400          0.994          0.027          0.968          0.066\n",
      "\u001b[0m\u001b[0;37m[INFO]           19500          0.997          0.020          0.972          0.061\n",
      "\u001b[0m\u001b[0;37m[INFO]           19600          0.995          0.024          0.960          0.073\n",
      "\u001b[0m\u001b[0;37m[INFO]           19700          0.996          0.022          0.965          0.068\n",
      "\u001b[0m\u001b[0;37m[INFO]           19800          0.993          0.028          0.972          0.061\n",
      "\u001b[0m\u001b[0;37m[INFO]           19900          0.997          0.018          0.972          0.061\n",
      "\u001b[0m\u001b[0;37m[INFO]           20000          0.994          0.025          0.966          0.067\n",
      "\u001b[0m\u001b[0;37m[INFO]           20100          0.996          0.022          0.969          0.065\n",
      "\u001b[0m\u001b[0;37m[INFO]           20200          0.996          0.022          0.968          0.065\n",
      "\u001b[0m\u001b[0;37m[INFO]           20300          0.995          0.023          0.964          0.069\n",
      "\u001b[0m\u001b[0;37m[INFO]           20400          0.996          0.022          0.964          0.069\n",
      "\u001b[0m\u001b[0;37m[INFO]           20500          0.996          0.022          0.966          0.067\n",
      "\u001b[0m\u001b[0;37m[INFO]           20600          0.994          0.025          0.965          0.069\n",
      "\u001b[0m\u001b[0;37m[INFO]           20700          0.997          0.018          0.961          0.072\n",
      "\u001b[0m\u001b[0;37m[INFO]           20800          0.998          0.016          0.970          0.064\n",
      "\u001b[0m\u001b[0;37m[INFO]           20900          0.994          0.026          0.966          0.067\n",
      "\u001b[0m\u001b[0;37m[INFO]           21000          0.996          0.021          0.972          0.061\n",
      "\u001b[0m\u001b[0;37m[INFO]           21100          0.996          0.021          0.965          0.069\n",
      "\u001b[0m\u001b[0;37m[INFO]           21200          0.998          0.017          0.970          0.063\n",
      "\u001b[0m\u001b[0;37m[INFO]           21300          0.995          0.023          0.967          0.066\n",
      "\u001b[0m\u001b[0;37m[INFO]           21400          0.991          0.032          0.969          0.065\n",
      "\u001b[0m\u001b[0;37m[INFO]           21500          0.996          0.021          0.966          0.067\n",
      "\u001b[0m\u001b[0;37m[INFO]           21600          0.996          0.021          0.966          0.068\n",
      "\u001b[0m\u001b[0;37m[INFO]           21700          0.996          0.022          0.967          0.066\n",
      "\u001b[0m\u001b[0;37m[INFO]           21800          0.997          0.019          0.964          0.069\n",
      "\u001b[0m\u001b[0;37m[INFO]           21900          0.997          0.017          0.971          0.062\n",
      "\u001b[0m\u001b[0;37m[INFO]           22000          0.996          0.022          0.975          0.057\n",
      "\u001b[0m\u001b[0;37m[INFO]           22100          0.996          0.022          0.966          0.067\n",
      "\u001b[0m\u001b[0;37m[INFO]           22200          0.998          0.016          0.968          0.065\n",
      "\u001b[0m\u001b[0;37m[INFO]           22300          0.996          0.023          0.972          0.061\n",
      "\u001b[0m\u001b[0;37m[INFO]           22400          0.995          0.024          0.968          0.065\n",
      "\u001b[0m\u001b[0;37m[INFO]           22500          0.996          0.021          0.970          0.063\n",
      "\u001b[0m\u001b[0;37m[INFO]           22600          0.996          0.023          0.968          0.066\n",
      "\u001b[0m\u001b[0;37m[INFO]           22700          0.997          0.020          0.961          0.073\n",
      "\u001b[0m\u001b[0;37m[INFO]           22800          0.995          0.023          0.968          0.066\n",
      "\u001b[0m\u001b[0;37m[INFO]           22900          0.997          0.018          0.970          0.063\n",
      "\u001b[0m\u001b[0;37m[INFO]           23000          0.997          0.020          0.970          0.063\n",
      "\u001b[0m\u001b[0;37m[INFO]           23100          0.994          0.026          0.977          0.056\n",
      "\u001b[0m\u001b[0;37m[INFO]           23200          0.996          0.021          0.965          0.068\n",
      "\u001b[0m\u001b[0;37m[INFO]           23300          0.997          0.018          0.969          0.065\n",
      "\u001b[0m\u001b[0;37m[INFO]           23400          0.997          0.019          0.963          0.070\n",
      "\u001b[0m\u001b[0;37m[INFO]           23500          0.997          0.019          0.971          0.062\n",
      "\u001b[0m\u001b[0;37m[INFO]           23600          0.997          0.019          0.964          0.069\n",
      "\u001b[0m\u001b[0;37m[INFO]           23700          0.997          0.019          0.969          0.064\n",
      "\u001b[0m\u001b[0;37m[INFO]           23800          0.997          0.020          0.971          0.062\n",
      "\u001b[0m\u001b[0;37m[INFO]           23900          0.997          0.019          0.967          0.066\n",
      "\u001b[0m\u001b[0;37m[INFO]           24000          0.998          0.017          0.966          0.068\n",
      "\u001b[0m\u001b[0;37m[INFO]           24100          0.997          0.019          0.968          0.065\n",
      "\u001b[0m\u001b[0;37m[INFO]           24200          0.997          0.020          0.961          0.073\n",
      "\u001b[0m\u001b[0;37m[INFO]           24300          0.996          0.022          0.974          0.058\n",
      "\u001b[0m\u001b[0;37m[INFO]           24400          0.997          0.020          0.971          0.062\n",
      "\u001b[0m\u001b[0;37m[INFO]           24500          0.997          0.019          0.967          0.066\n",
      "\u001b[0m\u001b[0;37m[INFO]           24600          0.997          0.020          0.967          0.066\n",
      "\u001b[0m\u001b[0;37m[INFO]           24700          0.997          0.019          0.968          0.066\n",
      "\u001b[0m\u001b[0;37m[INFO]           24800          0.997          0.017          0.966          0.067\n",
      "\u001b[0m\u001b[0;37m[INFO]           24900          0.996          0.021          0.972          0.061\n",
      "\u001b[0m\u001b[0;37m[INFO]           25000          0.995          0.025          0.964          0.069\n",
      "\u001b[0m\u001b[0;37m[INFO]           25100          0.998          0.016          0.974          0.059\n",
      "\u001b[0m\u001b[0;37m[INFO]           25200          0.998          0.015          0.965          0.069\n",
      "\u001b[0m\u001b[0;37m[INFO]           25300          0.998          0.013          0.969          0.065\n",
      "\u001b[0m\u001b[0;37m[INFO]           25400          0.997          0.019          0.961          0.072\n",
      "\u001b[0m\u001b[0;37m[INFO]           25500          0.997          0.018          0.964          0.069\n",
      "\u001b[0m\u001b[0;37m[INFO] Training completed in 31.63 seconds.\n",
      "\u001b[0m\u001b[0;37m[INFO] ===========================================================================\n",
      "\n",
      "\u001b[0m\u001b[0;37m[INFO] Performance statistics based on transformed data [identity, mean]:\n",
      "\u001b[0m\u001b[0;37m[INFO] Train R2   Score: 0.9936\n",
      "\u001b[0m\u001b[0;37m[INFO] Test  R2   Score: 0.9771\n",
      "\u001b[0m\u001b[0;37m[INFO] Train RMSD   Score: 0.0273\n",
      "\u001b[0m\u001b[0;37m[INFO] Test  RMSD   Score: 0.0554\n",
      "\n",
      "\u001b[0m\u001b[0;37m[INFO] Performance statistics based on original data:\n",
      "\u001b[0m\u001b[0;37m[INFO] Train R2   Score: 0.9975\n",
      "\u001b[0m\u001b[0;37m[INFO] Test  R2   Score: 0.9641\n",
      "\u001b[0m\u001b[0;37m[INFO] Train RMSD   Score: 0.0553\n",
      "\u001b[0m\u001b[0;37m[INFO] Test  RMSD   Score: 0.2272\n",
      "\n",
      "\u001b[0m"
     ]
    },
    {
     "data": {
      "text/plain": [
       "{'train_r2': 0.9975356460717245,\n",
       " 'test_r2': 0.9641150008094033,\n",
       " 'train_rmsd': 0.055309247127733316,\n",
       " 'test_rmsd': 0.22719023966366497}"
      ]
     },
     "execution_count": 62,
     "metadata": {},
     "output_type": "execute_result"
    }
   ],
   "source": [
    "emulator.train()"
   ]
  },
  {
   "cell_type": "code",
   "execution_count": null,
   "id": "94d2ae83",
   "metadata": {},
   "outputs": [],
   "source": []
  },
  {
   "cell_type": "code",
   "execution_count": 56,
   "id": "94b493b5",
   "metadata": {},
   "outputs": [
    {
     "name": "stdout",
     "output_type": "stream",
     "text": [
      "(38, 3)\n"
     ]
    },
    {
     "data": {
      "text/plain": [
       "numpy.ndarray"
      ]
     },
     "execution_count": 56,
     "metadata": {},
     "output_type": "execute_result"
    }
   ],
   "source": [
    "test_feats = dataset.test_set_features.values\n",
    "test_targs = dataset.test_set_targets.values\n",
    "train_feats = dataset.train_set_features.values\n",
    "train_targs = dataset.train_set_targets.values\n",
    "print(test_feats.shape)\n",
    "type(test_feats)"
   ]
  },
  {
   "cell_type": "code",
   "execution_count": 57,
   "id": "990d0da8",
   "metadata": {},
   "outputs": [],
   "source": [
    "mu_test, sigma_ep_test, sigma_al_test = emulator.run(test_feats, num_samples=100)\n",
    "mu_train, sigma_ep_train, sigma_al_train = emulator.run(train_feats, num_samples=100)"
   ]
  },
  {
   "cell_type": "code",
   "execution_count": 58,
   "id": "c00c3c84",
   "metadata": {},
   "outputs": [
    {
     "data": {
      "text/plain": [
       "((38, 1), (38, 1))"
      ]
     },
     "execution_count": 58,
     "metadata": {},
     "output_type": "execute_result"
    }
   ],
   "source": [
    "mu.shape, sigma_ep_test.shape"
   ]
  },
  {
   "cell_type": "code",
   "execution_count": 59,
   "id": "22ce81d7",
   "metadata": {},
   "outputs": [
    {
     "data": {
      "text/plain": [
       "<matplotlib.collections.PathCollection at 0x7f4554589bd0>"
      ]
     },
     "execution_count": 59,
     "metadata": {},
     "output_type": "execute_result"
    },
    {
     "data": {
      "image/png": "[encoded data removed]",
      "text/plain": [
       "<Figure size 432x288 with 1 Axes>"
      ]
     },
     "metadata": {
      "needs_background": "light"
     },
     "output_type": "display_data"
    }
   ],
   "source": [
    "plt.scatter(np.abs(mu_test-test_targs), sigma_ep_test,  label='test set')\n",
    "plt.scatter(np.abs(mu_train-train_targs), sigma_ep_train,  label='train set')"
   ]
  },
  {
   "cell_type": "code",
   "execution_count": 60,
   "id": "2700d0db",
   "metadata": {},
   "outputs": [
    {
     "data": {
      "text/plain": [
       "<matplotlib.collections.PathCollection at 0x7f455441b810>"
      ]
     },
     "execution_count": 60,
     "metadata": {},
     "output_type": "execute_result"
    },
    {
     "data": {
      "image/png": "[encoded data removed]",
      "text/plain": [
       "<Figure size 432x288 with 1 Axes>"
      ]
     },
     "metadata": {
      "needs_background": "light"
     },
     "output_type": "display_data"
    }
   ],
   "source": [
    "plt.scatter(np.abs(mu_test-test_targs), sigma_al_test,  label='test set')\n",
    "plt.scatter(np.abs(mu_train-train_targs), sigma_al_train,  label='train set')"
   ]
  },
  {
   "cell_type": "code",
   "execution_count": 24,
   "id": "a4762d58",
   "metadata": {},
   "outputs": [
    {
     "data": {
      "text/plain": [
       "<matplotlib.collections.PathCollection at 0x7f45546daf90>"
      ]
     },
     "execution_count": 24,
     "metadata": {},
     "output_type": "execute_result"
    },
    {
     "data": {
      "image/png": "[encoded data removed]",
      "text/plain": [
       "<Figure size 432x288 with 1 Axes>"
      ]
     },
     "metadata": {
      "needs_background": "light"
     },
     "output_type": "display_data"
    }
   ],
   "source": [
    "plt.scatter(test_targs, mu_test)\n",
    "plt.scatter(train_targs, mu_train)\n"
   ]
  },
  {
   "cell_type": "code",
   "execution_count": null,
   "id": "c7e0ba3c",
   "metadata": {},
   "outputs": [],
   "source": []
  }
 ],
 "metadata": {
  "kernelspec": {
   "display_name": "olympus",
   "language": "python",
   "name": "olympus"
  },
  "language_info": {
   "codemirror_mode": {
    "name": "ipython",
    "version": 3
   },
   "file_extension": ".py",
   "mimetype": "text/x-python",
   "name": "python",
   "nbconvert_exporter": "python",
   "pygments_lexer": "ipython3",
   "version": "3.7.12"
  }
 },
 "nbformat": 4,
 "nbformat_minor": 5
}
