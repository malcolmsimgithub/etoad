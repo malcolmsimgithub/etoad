{
 "cells": [
  {
   "cell_type": "code",
   "execution_count": 1,
   "id": "8df653a6",
   "metadata": {},
   "outputs": [],
   "source": [
    "%load_ext autoreload\n",
    "%autoreload 2"
   ]
  },
  {
   "cell_type": "code",
   "execution_count": 2,
   "id": "db32f738",
   "metadata": {},
   "outputs": [],
   "source": [
    "import pickle\n",
    "import numpy as np\n",
    "import pandas as pd\n",
    "\n",
    "import olympus\n",
    "from olympus import __home__\n",
    "from olympus.objects import (\n",
    "    ParameterContinuous,ParameterDiscrete,ParameterCategorical,ParameterOrdinal,ParameterVector\n",
    ")\n",
    "from olympus.campaigns import Campaign, ParameterSpace\n",
    "from olympus.datasets import Dataset\n",
    "from olympus.planners import Planner"
   ]
  },
  {
   "cell_type": "code",
   "execution_count": null,
   "id": "460e264f",
   "metadata": {},
   "outputs": [],
   "source": [
    "value0 = ParameterOrdinal(\n",
    "    name='my_value',\n",
    "    options = [\"no_crystals\", \"fine_powder\", \"small_crystals\", \"large_crystals\"]\n",
    ")"
   ]
  },
  {
   "cell_type": "code",
   "execution_count": null,
   "id": "cc52cb63",
   "metadata": {},
   "outputs": [],
   "source": [
    "print(value0)"
   ]
  },
  {
   "cell_type": "code",
   "execution_count": null,
   "id": "f7731c2f",
   "metadata": {},
   "outputs": [],
   "source": [
    "df = pd.read_csv(\n",
    "    f'{__home__}/datasets/dataset_mock_ordinal/data.csv',\n",
    "    names=['organic', 'cation', 'anion', 'crystal_type']\n",
    ")\n",
    "print(df.shape)\n",
    "df.head()"
   ]
  },
  {
   "cell_type": "code",
   "execution_count": null,
   "id": "e6567273",
   "metadata": {},
   "outputs": [],
   "source": [
    "types = [\"no_crystals\", \"fine_powder\", \"small_crystals\", \"large_crystals\"]\n",
    "crystal_types = [np.random.choice(types) for _ in range(df.shape[0])]\n"
   ]
  },
  {
   "cell_type": "code",
   "execution_count": null,
   "id": "c9be934b",
   "metadata": {},
   "outputs": [],
   "source": [
    "df['crystal_type'] = crystal_types"
   ]
  },
  {
   "cell_type": "code",
   "execution_count": null,
   "id": "9068f26e",
   "metadata": {},
   "outputs": [],
   "source": [
    "df.head()"
   ]
  },
  {
   "cell_type": "code",
   "execution_count": null,
   "id": "19a1d0a6",
   "metadata": {},
   "outputs": [],
   "source": [
    "df.to_csv(f'{__home__}/datasets/dataset_mock_ordinal/data.csv',index=False)"
   ]
  },
  {
   "cell_type": "code",
   "execution_count": null,
   "id": "51219e49",
   "metadata": {},
   "outputs": [],
   "source": []
  },
  {
   "cell_type": "code",
   "execution_count": 26,
   "id": "22ec643c",
   "metadata": {},
   "outputs": [],
   "source": [
    "dataset = Dataset(kind='mock_ordinal')\n",
    "#dataset = Dataset(kind='perovskites')"
   ]
  },
  {
   "cell_type": "code",
   "execution_count": 27,
   "id": "006d06d2",
   "metadata": {},
   "outputs": [
    {
     "name": "stdout",
     "output_type": "stream",
     "text": [
      "Categorical (name='organic', num_opts: 16, options=['ethylammonium', 'propylammonium', 'butylammonium', 'isopropylammonium', 'dimethylammonium', 'acetamidinium', 'methylammonium', 'guanidinium', 'hydroxylammonium', 'formamidinium', 'tetramethylammonium', 'hydrazinium', 'ammonium', 'trimethylammonium', 'azetidinium', 'imidazolium'], descriptors=[[-0.460099995136261, -0.2239799946546554, 1.3964999914169312, -1.8414201736450195, 1.2615654468536377, 69.08699798583984], [-0.460099995136261, -0.2239799946546554, 1.3964999914169312, -1.8414201736450195, 1.2615654468536377, 69.08699798583984], [-0.460099995136261, -0.2239799946546554, 1.3964999914169312, -1.8414201736450195, 1.2615654468536377, 69.08699798583984], [-0.460099995136261, -0.2239799946546554, 1.3964999914169312, -1.8414201736450195, 1.2615654468536377, 69.08699798583984], [-0.460099995136261, -0.2239799946546554, 1.3964999914169312, -1.8414201736450195, 1.2615654468536377, 69.08699798583984], [-0.460099995136261, -0.2239799946546554, 1.3964999914169312, -1.8414201736450195, 1.2615654468536377, 69.08699798583984], [-0.460099995136261, -0.2239799946546554, 1.3964999914169312, -1.8414201736450195, 1.2615654468536377, 69.08699798583984], [-0.460099995136261, -0.2239799946546554, 1.3964999914169312, -1.8414201736450195, 1.2615654468536377, 69.08699798583984], [-0.460099995136261, -0.2239799946546554, 1.3964999914169312, -1.8414201736450195, 1.2615654468536377, 69.08699798583984], [-0.460099995136261, -0.2239799946546554, 1.3964999914169312, -1.8414201736450195, 1.2615654468536377, 69.08699798583984], [-0.460099995136261, -0.2239799946546554, 1.3964999914169312, -1.8414201736450195, 1.2615654468536377, 69.08699798583984], [-0.460099995136261, -0.2239799946546554, 1.3964999914169312, -1.8414201736450195, 1.2615654468536377, 69.08699798583984], [-0.460099995136261, -0.2239799946546554, 1.3964999914169312, -1.8414201736450195, 1.2615654468536377, 69.08699798583984], [-0.460099995136261, -0.2239799946546554, 1.3964999914169312, -1.8414201736450195, 1.2615654468536377, 69.08699798583984], [-0.460099995136261, -0.2239799946546554, 1.3964999914169312, -1.8414201736450195, 1.2615654468536377, 69.08699798583984], [-0.460099995136261, -0.2239799946546554, 1.3964999914169312, -1.8414201736450195, 1.2615654468536377, 69.08699798583984]])\n",
      "Categorical (name='cation', num_opts: 3, options=['Ge', 'Sn', 'Pb'], descriptors=[[0.3567430078983307, 7.416659832000732, 207.1999969482422, 1.899999976158142], [0.3567430078983307, 7.416659832000732, 207.1999969482422, 1.899999976158142], [0.3567430078983307, 7.416659832000732, 207.1999969482422, 1.899999976158142]])\n",
      "Categorical (name='anion', num_opts: 4, options=['F', 'Cl', 'Br', 'I'], descriptors=[[3.059046030044556, 10.45125961303711, 126.9000015258789, 2.5], [3.059046030044556, 10.45125961303711, 126.9000015258789, 2.5], [3.059046030044556, 10.45125961303711, 126.9000015258789, 2.5], [3.059046030044556, 10.45125961303711, 126.9000015258789, 2.5]])\n"
     ]
    }
   ],
   "source": [
    "print(dataset.param_space)"
   ]
  },
  {
   "cell_type": "code",
   "execution_count": 28,
   "id": "f3bd3c66",
   "metadata": {},
   "outputs": [
    {
     "name": "stdout",
     "output_type": "stream",
     "text": [
      "Ordinal (name='crystal_type', num_opts: 4, options=['no_crystals', 'fine_powder', 'small_crystals', 'large_crystals'], order=[0 1 2 3])\n"
     ]
    }
   ],
   "source": [
    "print(dataset.value_space)"
   ]
  },
  {
   "cell_type": "code",
   "execution_count": 29,
   "id": "34d8a180",
   "metadata": {},
   "outputs": [
    {
     "data": {
      "text/plain": [
       "[['small_crystals']]"
      ]
     },
     "execution_count": 29,
     "metadata": {},
     "output_type": "execute_result"
    }
   ],
   "source": [
    "dataset.run(['ethylammonium', 'Pb', 'I']) # returning list"
   ]
  },
  {
   "cell_type": "code",
   "execution_count": 30,
   "id": "b7a29fb0",
   "metadata": {},
   "outputs": [
    {
     "data": {
      "text/plain": [
       "[ParamVector(crystal_type = small_crystals)]"
      ]
     },
     "execution_count": 30,
     "metadata": {},
     "output_type": "execute_result"
    }
   ],
   "source": [
    "meas = dataset.run(['ethylammonium', 'Pb', 'I'], return_paramvector=True)\n",
    "meas"
   ]
  },
  {
   "cell_type": "code",
   "execution_count": 31,
   "id": "f04d9a94",
   "metadata": {},
   "outputs": [
    {
     "data": {
      "text/plain": [
       "2"
      ]
     },
     "execution_count": 31,
     "metadata": {},
     "output_type": "execute_result"
    }
   ],
   "source": [
    "dataset.value_space[0].options.index(meas[0]['crystal_type'])"
   ]
  },
  {
   "cell_type": "code",
   "execution_count": null,
   "id": "d213996c",
   "metadata": {},
   "outputs": [],
   "source": []
  },
  {
   "cell_type": "code",
   "execution_count": null,
   "id": "f1cb30c6",
   "metadata": {},
   "outputs": [],
   "source": []
  }
 ],
 "metadata": {
  "kernelspec": {
   "display_name": "olympus",
   "language": "python",
   "name": "olympus"
  },
  "language_info": {
   "codemirror_mode": {
    "name": "ipython",
    "version": 3
   },
   "file_extension": ".py",
   "mimetype": "text/x-python",
   "name": "python",
   "nbconvert_exporter": "python",
   "pygments_lexer": "ipython3",
   "version": "3.7.12"
  }
 },
 "nbformat": 4,
 "nbformat_minor": 5
}
