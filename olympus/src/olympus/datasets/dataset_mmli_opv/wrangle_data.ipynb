{
 "cells": [
  {
   "cell_type": "code",
   "execution_count": 27,
   "metadata": {},
   "outputs": [],
   "source": [
    "import pandas as pd\n",
    "\n",
    "DBA = pd.read_csv(\"https://docs.google.com/spreadsheets/d/1tyRYL5F8jnsJ1vTVMqX7bvSox_b7PWqrPznYsFkzuwY/export?gid=70589934&format=csv\")\n",
    "DB = pd.read_csv(\"https://docs.google.com/spreadsheets/d/1tyRYL5F8jnsJ1vTVMqX7bvSox_b7PWqrPznYsFkzuwY/export?gid=1323755076&format=csv\")\n",
    "A = pd.read_csv(\"https://docs.google.com/spreadsheets/d/1tyRYL5F8jnsJ1vTVMqX7bvSox_b7PWqrPznYsFkzuwY/export?gid=1451320518&format=csv\")\n",
    "measurements = pd.read_csv(\"https://docs.google.com/spreadsheets/d/1tyRYL5F8jnsJ1vTVMqX7bvSox_b7PWqrPznYsFkzuwY/export?gid=351504346&format=csv\")"
   ]
  },
  {
   "cell_type": "code",
   "execution_count": 5,
   "metadata": {},
   "outputs": [
    {
     "data": {
      "text/plain": [
       "'[\"DB_01\", \"DB_02\", \"DB_03\", \"DB_04\", \"DB_05\", \"DB_06\", \"DB_07\", \"DB_08\", \"DB_09\", \"DB_10\", \"DB_11\", \"DB_12\", \"DB_13\", \"DB_14\", \"DB_15\", \"DB_16\", \"DB_17\", \"DB_18\", \"DB_19\", \"DB_20\", \"DB_21\", \"DB_22\"]'"
      ]
     },
     "execution_count": 5,
     "metadata": {},
     "output_type": "execute_result"
    }
   ],
   "source": [
    "str(list(DB.Name)).replace(\"'\", '\"')"
   ]
  },
  {
   "cell_type": "code",
   "execution_count": 6,
   "metadata": {},
   "outputs": [
    {
     "data": {
      "text/plain": [
       "'[\"A_001\", \"A_002\", \"A_003\", \"A_004\", \"A_005\", \"A_006\", \"A_007\", \"A_008\", \"A_009\", \"A_010\", \"A_011\", \"A_012\", \"A_013\", \"A_014\", \"A_015\", \"A_016\", \"A_017\", \"A_018\", \"A_019\", \"A_020\", \"A_021\", \"A_022\", \"A_023\", \"A_024\", \"A_025\", \"A_026\", \"A_027\", \"A_028\", \"A_029\", \"A_030\", \"A_031\", \"A_032\", \"A_033\", \"A_034\", \"A_035\", \"A_036\", \"A_037\", \"A_038\", \"A_039\", \"A_040\", \"A_041\", \"A_042\", \"A_043\", \"A_044\", \"A_045\", \"A_046\", \"A_047\", \"A_048\", \"A_049\", \"A_050\", \"A_051\", \"A_052\", \"A_053\", \"A_054\", \"A_055\", \"A_056\", \"A_057\", \"A_058\", \"A_059\", \"A_060\", \"A_061\", \"A_062\", \"A_063\", \"A_064\", \"A_065\", \"A_066\", \"A_067\", \"A_068\", \"A_069\", \"A_070\", \"A_071\", \"A_072\", \"A_073\", \"A_074\", \"A_075\", \"A_076\", \"A_077\", \"A_078\", \"A_079\", \"A_080\", \"A_081\", \"A_082\", \"A_083\", \"A_084\", \"A_085\", \"A_086\", \"A_087\", \"A_088\", \"A_089\", \"A_090\", \"A_091\", \"A_092\", \"A_093\", \"A_094\", \"A_095\", \"A_096\", \"A_097\", \"A_098\", \"A_099\", \"A_100\"]'"
      ]
     },
     "execution_count": 6,
     "metadata": {},
     "output_type": "execute_result"
    }
   ],
   "source": [
    "str(list(A.Name)).replace(\"'\", '\"')"
   ]
  },
  {
   "cell_type": "code",
   "execution_count": 1,
   "metadata": {},
   "outputs": [
    {
     "data": {
      "text/plain": [
       "'[\"HOMO(eV)\", \"LUMO(eV)\", \"PrimeExcite(eV)\", \"PrimeExcite(osc_strength)\", \"DipoleMoment(Debye)\", \"SurfaceCharge\", \"ChargeCorrection\", \"Asphericity\", \"CorrectedMass\", \"HBondAcceptors\"]'"
      ]
     },
     "execution_count": 1,
     "metadata": {},
     "output_type": "execute_result"
    }
   ],
   "source": [
    "DESC_NAMES_DB = ['HOMO(eV)', 'LUMO(eV)', 'PrimeExcite(eV)', 'PrimeExcite(osc_strength)', 'DipoleMoment(Debye)', 'SurfaceCharge', 'ChargeCorrection', 'Asphericity', 'CorrectedMass', 'HBondAcceptors']\n",
    "DESC_NAMES_A = ['HOMO(eV)', 'LUMO(eV)', 'PrimeExcite(eV)', 'PrimeExcite(osc_strength)', 'DipoleMoment(Debye)', 'SurfaceCharge', 'CorrectedMass', 'HBondAcceptors', 'HBondDonors', 'Asphericity', 'RotatableBonds']\n",
    "str(DESC_NAMES_DB).replace(\"'\", '\"')\n"
   ]
  },
  {
   "cell_type": "code",
   "execution_count": 3,
   "metadata": {},
   "outputs": [
    {
     "data": {
      "text/plain": [
       "(10, 11)"
      ]
     },
     "execution_count": 3,
     "metadata": {},
     "output_type": "execute_result"
    }
   ],
   "source": [
    "len(DESC_NAMES_DB), len(DESC_NAMES_A)"
   ]
  },
  {
   "cell_type": "code",
   "execution_count": 9,
   "metadata": {},
   "outputs": [
    {
     "data": {
      "text/plain": [
       "'[\"HOMO(eV)\", \"LUMO(eV)\", \"PrimeExcite(eV)\", \"PrimeExcite(osc_strength)\", \"DipoleMoment(Debye)\", \"SurfaceCharge\", \"ChargeCorrection\", \"Asphericity\", \"CorrectedMass\", \"HBondAcceptors\"]'"
      ]
     },
     "execution_count": 9,
     "metadata": {},
     "output_type": "execute_result"
    }
   ],
   "source": [
    "str(DESC_NAMES_A).replace(\"'\", '\"')\n"
   ]
  },
  {
   "cell_type": "code",
   "execution_count": 11,
   "metadata": {},
   "outputs": [
    {
     "data": {
      "text/html": [
       "<div>\n",
       "<style scoped>\n",
       "    .dataframe tbody tr th:only-of-type {\n",
       "        vertical-align: middle;\n",
       "    }\n",
       "\n",
       "    .dataframe tbody tr th {\n",
       "        vertical-align: top;\n",
       "    }\n",
       "\n",
       "    .dataframe thead th {\n",
       "        text-align: right;\n",
       "    }\n",
       "</style>\n",
       "<table border=\"1\" class=\"dataframe\">\n",
       "  <thead>\n",
       "    <tr style=\"text-align: right;\">\n",
       "      <th></th>\n",
       "      <th>Batch_ID</th>\n",
       "      <th>DBA_Name</th>\n",
       "      <th>PL_lambda_max</th>\n",
       "      <th>SpectralOverlap</th>\n",
       "      <th>T80_spectra</th>\n",
       "    </tr>\n",
       "  </thead>\n",
       "  <tbody>\n",
       "    <tr>\n",
       "      <th>0</th>\n",
       "      <td>Batch1_1</td>\n",
       "      <td>DB_01_A_010</td>\n",
       "      <td>329.0</td>\n",
       "      <td>0.80</td>\n",
       "      <td>0.10</td>\n",
       "    </tr>\n",
       "    <tr>\n",
       "      <th>1</th>\n",
       "      <td>Batch1_2</td>\n",
       "      <td>DB_19_A_021</td>\n",
       "      <td>421.0</td>\n",
       "      <td>12.25</td>\n",
       "      <td>3.00</td>\n",
       "    </tr>\n",
       "    <tr>\n",
       "      <th>2</th>\n",
       "      <td>Batch1_3</td>\n",
       "      <td>DB_15_A_053</td>\n",
       "      <td>321.0</td>\n",
       "      <td>2.88</td>\n",
       "      <td>5.00</td>\n",
       "    </tr>\n",
       "    <tr>\n",
       "      <th>3</th>\n",
       "      <td>Batch1_8</td>\n",
       "      <td>DB_18_A_094</td>\n",
       "      <td>392.0</td>\n",
       "      <td>12.20</td>\n",
       "      <td>1.50</td>\n",
       "    </tr>\n",
       "    <tr>\n",
       "      <th>4</th>\n",
       "      <td>Batch1_9</td>\n",
       "      <td>DB_05_A_073</td>\n",
       "      <td>283.0</td>\n",
       "      <td>0.10</td>\n",
       "      <td>0.10</td>\n",
       "    </tr>\n",
       "    <tr>\n",
       "      <th>5</th>\n",
       "      <td>Batch1_10</td>\n",
       "      <td>DB_20_A_017</td>\n",
       "      <td>320.0</td>\n",
       "      <td>2.35</td>\n",
       "      <td>3.50</td>\n",
       "    </tr>\n",
       "    <tr>\n",
       "      <th>6</th>\n",
       "      <td>Batch2_Thread5_Sub1</td>\n",
       "      <td>DB_20_A_027</td>\n",
       "      <td>377.0</td>\n",
       "      <td>4.55</td>\n",
       "      <td>15.00</td>\n",
       "    </tr>\n",
       "    <tr>\n",
       "      <th>7</th>\n",
       "      <td>Batch2_Thread9_Sub0</td>\n",
       "      <td>DB_12_A_022</td>\n",
       "      <td>359.0</td>\n",
       "      <td>5.55</td>\n",
       "      <td>5.00</td>\n",
       "    </tr>\n",
       "    <tr>\n",
       "      <th>8</th>\n",
       "      <td>Batch2_Thread8_Sub13</td>\n",
       "      <td>DB_17_A_069</td>\n",
       "      <td>390.0</td>\n",
       "      <td>6.84</td>\n",
       "      <td>10.60</td>\n",
       "    </tr>\n",
       "    <tr>\n",
       "      <th>9</th>\n",
       "      <td>Batch2_Thread10_Sub6</td>\n",
       "      <td>DB_16_A_081</td>\n",
       "      <td>332.0</td>\n",
       "      <td>4.03</td>\n",
       "      <td>23.00</td>\n",
       "    </tr>\n",
       "    <tr>\n",
       "      <th>10</th>\n",
       "      <td>OPV2.5-1-12 (OPV2_10s0)</td>\n",
       "      <td>DB_16_A_061</td>\n",
       "      <td>377.0</td>\n",
       "      <td>4.46</td>\n",
       "      <td>1.90</td>\n",
       "    </tr>\n",
       "    <tr>\n",
       "      <th>11</th>\n",
       "      <td>Batch2_Thread1_Sub0</td>\n",
       "      <td>DB_05_A_089</td>\n",
       "      <td>266.0</td>\n",
       "      <td>0.10</td>\n",
       "      <td>0.10</td>\n",
       "    </tr>\n",
       "    <tr>\n",
       "      <th>12</th>\n",
       "      <td>Batch2_Thread2_Sub3</td>\n",
       "      <td>DB_08_A_018</td>\n",
       "      <td>355.0</td>\n",
       "      <td>3.65</td>\n",
       "      <td>48.00</td>\n",
       "    </tr>\n",
       "    <tr>\n",
       "      <th>13</th>\n",
       "      <td>Batch2_Thread4_Sub0</td>\n",
       "      <td>DB_19_A_025</td>\n",
       "      <td>421.0</td>\n",
       "      <td>14.58</td>\n",
       "      <td>1.50</td>\n",
       "    </tr>\n",
       "    <tr>\n",
       "      <th>14</th>\n",
       "      <td>OPV2.5-4 (OPV2_3s11)</td>\n",
       "      <td>DB_13_A_100</td>\n",
       "      <td>367.0</td>\n",
       "      <td>6.10</td>\n",
       "      <td>51.70</td>\n",
       "    </tr>\n",
       "    <tr>\n",
       "      <th>15</th>\n",
       "      <td>OPV3-2</td>\n",
       "      <td>DB_11_A_002</td>\n",
       "      <td>394.3</td>\n",
       "      <td>7.20</td>\n",
       "      <td>46.70</td>\n",
       "    </tr>\n",
       "    <tr>\n",
       "      <th>16</th>\n",
       "      <td>OPV3-3-s1</td>\n",
       "      <td>DB_20_A_012</td>\n",
       "      <td>320.0</td>\n",
       "      <td>2.40</td>\n",
       "      <td>9.70</td>\n",
       "    </tr>\n",
       "    <tr>\n",
       "      <th>17</th>\n",
       "      <td>OPV3-4</td>\n",
       "      <td>DB_06_A_049</td>\n",
       "      <td>321.0</td>\n",
       "      <td>1.23</td>\n",
       "      <td>78.30</td>\n",
       "    </tr>\n",
       "    <tr>\n",
       "      <th>18</th>\n",
       "      <td>OPVre3-2nd-1H</td>\n",
       "      <td>DB_15_A_088</td>\n",
       "      <td>390.0</td>\n",
       "      <td>5.19</td>\n",
       "      <td>9.30</td>\n",
       "    </tr>\n",
       "    <tr>\n",
       "      <th>19</th>\n",
       "      <td>OPVre5-6-7-1H</td>\n",
       "      <td>DB_08_A_034</td>\n",
       "      <td>401.0</td>\n",
       "      <td>6.08</td>\n",
       "      <td>2.36</td>\n",
       "    </tr>\n",
       "    <tr>\n",
       "      <th>20</th>\n",
       "      <td>OPV4-1</td>\n",
       "      <td>DB_22_A_046</td>\n",
       "      <td>322.0</td>\n",
       "      <td>5.88</td>\n",
       "      <td>10.49</td>\n",
       "    </tr>\n",
       "    <tr>\n",
       "      <th>21</th>\n",
       "      <td>OPV4-3</td>\n",
       "      <td>DB_22_A_083</td>\n",
       "      <td>386.0</td>\n",
       "      <td>6.66</td>\n",
       "      <td>23.09</td>\n",
       "    </tr>\n",
       "    <tr>\n",
       "      <th>22</th>\n",
       "      <td>OPV4-4</td>\n",
       "      <td>DB_05_A_002</td>\n",
       "      <td>280.0</td>\n",
       "      <td>0.10</td>\n",
       "      <td>0.10</td>\n",
       "    </tr>\n",
       "    <tr>\n",
       "      <th>23</th>\n",
       "      <td>OPV4-5</td>\n",
       "      <td>DB_01_A_002</td>\n",
       "      <td>300.0</td>\n",
       "      <td>0.33</td>\n",
       "      <td>101.13</td>\n",
       "    </tr>\n",
       "    <tr>\n",
       "      <th>24</th>\n",
       "      <td>OPV4-6</td>\n",
       "      <td>DB_06_A_002</td>\n",
       "      <td>316.0</td>\n",
       "      <td>1.80</td>\n",
       "      <td>103.86</td>\n",
       "    </tr>\n",
       "  </tbody>\n",
       "</table>\n",
       "</div>"
      ],
      "text/plain": [
       "                   Batch_ID     DBA_Name  PL_lambda_max  SpectralOverlap  \\\n",
       "0                  Batch1_1  DB_01_A_010          329.0             0.80   \n",
       "1                  Batch1_2  DB_19_A_021          421.0            12.25   \n",
       "2                  Batch1_3  DB_15_A_053          321.0             2.88   \n",
       "3                  Batch1_8  DB_18_A_094          392.0            12.20   \n",
       "4                  Batch1_9  DB_05_A_073          283.0             0.10   \n",
       "5                 Batch1_10  DB_20_A_017          320.0             2.35   \n",
       "6       Batch2_Thread5_Sub1  DB_20_A_027          377.0             4.55   \n",
       "7       Batch2_Thread9_Sub0  DB_12_A_022          359.0             5.55   \n",
       "8      Batch2_Thread8_Sub13  DB_17_A_069          390.0             6.84   \n",
       "9      Batch2_Thread10_Sub6  DB_16_A_081          332.0             4.03   \n",
       "10  OPV2.5-1-12 (OPV2_10s0)  DB_16_A_061          377.0             4.46   \n",
       "11      Batch2_Thread1_Sub0  DB_05_A_089          266.0             0.10   \n",
       "12      Batch2_Thread2_Sub3  DB_08_A_018          355.0             3.65   \n",
       "13      Batch2_Thread4_Sub0  DB_19_A_025          421.0            14.58   \n",
       "14     OPV2.5-4 (OPV2_3s11)  DB_13_A_100          367.0             6.10   \n",
       "15                   OPV3-2  DB_11_A_002          394.3             7.20   \n",
       "16                OPV3-3-s1  DB_20_A_012          320.0             2.40   \n",
       "17                   OPV3-4  DB_06_A_049          321.0             1.23   \n",
       "18            OPVre3-2nd-1H  DB_15_A_088          390.0             5.19   \n",
       "19            OPVre5-6-7-1H  DB_08_A_034          401.0             6.08   \n",
       "20                   OPV4-1  DB_22_A_046          322.0             5.88   \n",
       "21                   OPV4-3  DB_22_A_083          386.0             6.66   \n",
       "22                   OPV4-4  DB_05_A_002          280.0             0.10   \n",
       "23                   OPV4-5  DB_01_A_002          300.0             0.33   \n",
       "24                   OPV4-6  DB_06_A_002          316.0             1.80   \n",
       "\n",
       "    T80_spectra  \n",
       "0          0.10  \n",
       "1          3.00  \n",
       "2          5.00  \n",
       "3          1.50  \n",
       "4          0.10  \n",
       "5          3.50  \n",
       "6         15.00  \n",
       "7          5.00  \n",
       "8         10.60  \n",
       "9         23.00  \n",
       "10         1.90  \n",
       "11         0.10  \n",
       "12        48.00  \n",
       "13         1.50  \n",
       "14        51.70  \n",
       "15        46.70  \n",
       "16         9.70  \n",
       "17        78.30  \n",
       "18         9.30  \n",
       "19         2.36  \n",
       "20        10.49  \n",
       "21        23.09  \n",
       "22         0.10  \n",
       "23       101.13  \n",
       "24       103.86  "
      ]
     },
     "execution_count": 11,
     "metadata": {},
     "output_type": "execute_result"
    }
   ],
   "source": [
    "measurements"
   ]
  },
  {
   "cell_type": "code",
   "execution_count": 28,
   "metadata": {},
   "outputs": [
    {
     "data": {
      "text/plain": [
       "0       1.313963\n",
       "1       0.114329\n",
       "2       0.034534\n",
       "3       0.211232\n",
       "4       0.085271\n",
       "          ...   \n",
       "2195    7.205855\n",
       "2196    6.209002\n",
       "2197    4.959970\n",
       "2198    4.529631\n",
       "2199    7.358339\n",
       "Name: PredictedSO, Length: 2200, dtype: float64"
      ]
     },
     "execution_count": 28,
     "metadata": {},
     "output_type": "execute_result"
    }
   ],
   "source": [
    "import pandas as pd\n",
    "\n",
    "SO = pd.read_csv('All2200_SO_values.csv', names=['Name', 'SO'])\n",
    "\n",
    "# sort SO by name\n",
    "SO = SO.sort_values(by=['Name']).reset_index(drop=True)\n",
    "DBA = DBA.sort_values(by=['DBA_Name'])\n",
    "DBA['PredictedSO']= SO['SO']\n",
    "DBA.PredictedSO"
   ]
  },
  {
   "cell_type": "code",
   "execution_count": 35,
   "metadata": {},
   "outputs": [],
   "source": [
    "DBA[['DB_Name', 'A_Name', 'PredictedSO']].to_csv('data.csv', header=False, index=False)"
   ]
  },
  {
   "cell_type": "code",
   "execution_count": 58,
   "metadata": {},
   "outputs": [],
   "source": [
    "db_desc = DB[['Name']+DESC_NAMES_DB].melt(id_vars=['Name']).to_numpy()\n",
    "import numpy as np\n",
    "\n",
    "db_desc = np.hstack([np.array(['DB_block']*22*10)[..., np.newaxis], db_desc])"
   ]
  },
  {
   "cell_type": "code",
   "execution_count": 60,
   "metadata": {},
   "outputs": [],
   "source": [
    "a_desc = A[['Name']+DESC_NAMES_A].melt(id_vars=['Name'])\n",
    "a_desc = np.hstack([np.array(['A_block']*100*11)[..., np.newaxis], a_desc])"
   ]
  },
  {
   "cell_type": "code",
   "execution_count": 63,
   "metadata": {},
   "outputs": [],
   "source": [
    "pd.DataFrame(np.vstack([db_desc, a_desc])).to_csv('descriptors.csv', index=False, header=False)"
   ]
  },
  {
   "cell_type": "code",
   "execution_count": 67,
   "metadata": {},
   "outputs": [],
   "source": [
    "with open('scales.csv', 'w') as f:\n",
    "    f.write(''.join(['0.0\\n']*2200))"
   ]
  },
  {
   "cell_type": "code",
   "execution_count": 69,
   "metadata": {},
   "outputs": [
    {
     "data": {
      "text/plain": [
       "14.271310279841025"
      ]
     },
     "execution_count": 69,
     "metadata": {},
     "output_type": "execute_result"
    }
   ],
   "source": [
    "\n",
    "\n",
    "# justification for using predicted SO - we think it is a reliable calculation with physical justification, whereas predicted T80 is not, it is based on regression\n",
    "\n",
    "max(DBA.PredictedSO)"
   ]
  },
  {
   "cell_type": "code",
   "execution_count": 70,
   "metadata": {},
   "outputs": [
    {
     "data": {
      "text/plain": [
       "(array([268., 397., 370., 355., 286., 215., 207.,  80.,  19.,   3.]),\n",
       " array([3.62712290e-05, 1.42716367e+00, 2.85429107e+00, 4.28141847e+00,\n",
       "        5.70854587e+00, 7.13567328e+00, 8.56280068e+00, 9.98992808e+00,\n",
       "        1.14170555e+01, 1.28441829e+01, 1.42713103e+01]),\n",
       " <BarContainer object of 10 artists>)"
      ]
     },
     "execution_count": 70,
     "metadata": {},
     "output_type": "execute_result"
    },
    {
     "data": {
      "image/png": "[encoded data removed]",
      "text/plain": [
       "<Figure size 640x480 with 1 Axes>"
      ]
     },
     "metadata": {},
     "output_type": "display_data"
    }
   ],
   "source": [
    "import matplotlib.pyplot as plt\n",
    "\n",
    "plt.hist(DBA.PredictedSO)"
   ]
  },
  {
   "cell_type": "code",
   "execution_count": null,
   "metadata": {},
   "outputs": [],
   "source": []
  },
  {
   "cell_type": "code",
   "execution_count": 68,
   "metadata": {},
   "outputs": [
    {
     "data": {
      "text/plain": [
       "array([-1. , -0.6, -0.2,  0.2,  0.6,  1. ])"
      ]
     },
     "execution_count": 68,
     "metadata": {},
     "output_type": "execute_result"
    }
   ],
   "source": [
    "np.linspace(-1, 1, 6, endpoint=True)"
   ]
  },
  {
   "cell_type": "code",
   "execution_count": null,
   "metadata": {},
   "outputs": [],
   "source": []
  }
 ],
 "metadata": {
  "kernelspec": {
   "display_name": "Python 3.9.13 ('olymp')",
   "language": "python",
   "name": "python3"
  },
  "language_info": {
   "codemirror_mode": {
    "name": "ipython",
    "version": 3
   },
   "file_extension": ".py",
   "mimetype": "text/x-python",
   "name": "python",
   "nbconvert_exporter": "python",
   "pygments_lexer": "ipython3",
   "version": "3.9.13"
  },
  "orig_nbformat": 4,
  "vscode": {
   "interpreter": {
    "hash": "aa954c4a74634a0cb8d36ea4a41f811405f572911561137cd90048dcd95ea927"
   }
  }
 },
 "nbformat": 4,
 "nbformat_minor": 2
}
