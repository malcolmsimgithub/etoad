{
  "nbformat": 4,
  "nbformat_minor": 0,
  "metadata": {
    "colab": {
      "name": "benchmarking_autonomous_experimentation_with_olympus.ipynb",
      "provenance": [],
      "collapsed_sections": []
    },
    "kernelspec": {
      "name": "python3",
      "display_name": "Python 3"
    }
  },
  "cells": [
    {
      "cell_type": "markdown",
      "metadata": {
        "id": "cc6VYmj450Vm"
      },
      "source": [
        "# Benchmarking autonomous experimenation with Olympus\n",
        "\n",
        "In this notebook we show how ``Olympus`` allows to readily test the performance of various experiment planning algortihms against the supported chemistry benchmarks.\n",
        "\n",
        "Notes:\n",
        "- when executing the first cell, you will receive a warning (\"This notebook was not authored by Google\"). Please select \"Run Anyway\" to be able to run the cells of the notebook."
      ]
    },
    {
      "cell_type": "code",
      "metadata": {
        "colab": {
          "base_uri": "https://localhost:8080/"
        },
        "id": "TTjOiS4t7Uu7",
        "outputId": "dcb8e2fb-6f3a-4385-cb42-398e2486d3a5"
      },
      "source": [
        "# we start by installing a couple of dependencies\n",
        "!pip install silence-tensorflow\n",
        "!pip install pyDOE\n",
        "!pip install sobol_seq"
      ],
      "execution_count": null,
      "outputs": [
        {
          "output_type": "stream",
          "text": [
            "Requirement already satisfied: silence-tensorflow in /usr/local/lib/python3.6/dist-packages (1.1.1)\n",
            "Requirement already satisfied: pyDOE in /usr/local/lib/python3.6/dist-packages (0.3.8)\n",
            "Requirement already satisfied: numpy in /usr/local/lib/python3.6/dist-packages (from pyDOE) (1.19.5)\n",
            "Requirement already satisfied: scipy in /usr/local/lib/python3.6/dist-packages (from pyDOE) (1.4.1)\n",
            "Requirement already satisfied: sobol_seq in /usr/local/lib/python3.6/dist-packages (0.2.0)\n",
            "Requirement already satisfied: numpy in /usr/local/lib/python3.6/dist-packages (from sobol_seq) (1.19.5)\n",
            "Requirement already satisfied: scipy in /usr/local/lib/python3.6/dist-packages (from sobol_seq) (1.4.1)\n"
          ],
          "name": "stdout"
        }
      ]
    },
    {
      "cell_type": "code",
      "metadata": {
        "colab": {
          "base_uri": "https://localhost:8080/"
        },
        "id": "SM0rBQwy5mJx",
        "outputId": "67fa322e-18ea-4b84-8c8f-ab6ad15a90ac"
      },
      "source": [
        "# finally, we install olympus itself\n",
        "!pip install olymp[all]"
      ],
      "execution_count": null,
      "outputs": [
        {
          "output_type": "stream",
          "text": [
            "Requirement already satisfied: olymp[all] in /usr/local/lib/python3.6/dist-packages (0.0.1b0)\n",
            "Requirement already satisfied: pandas in /usr/local/lib/python3.6/dist-packages (from olymp[all]) (1.1.5)\n",
            "Requirement already satisfied: numpy in /usr/local/lib/python3.6/dist-packages (from olymp[all]) (1.19.5)\n",
            "Requirement already satisfied: SQSnobFit; extra == \"all\" in /usr/local/lib/python3.6/dist-packages (from olymp[all]) (0.4.5)\n",
            "Requirement already satisfied: deap; extra == \"all\" in /usr/local/lib/python3.6/dist-packages (from olymp[all]) (1.3.1)\n",
            "Requirement already satisfied: pyswarms; extra == \"all\" in /usr/local/lib/python3.6/dist-packages (from olymp[all]) (1.3.0)\n",
            "Requirement already satisfied: cma; extra == \"all\" in /usr/local/lib/python3.6/dist-packages (from olymp[all]) (3.0.3)\n",
            "Requirement already satisfied: phoenics; extra == \"all\" in /usr/local/lib/python3.6/dist-packages (from olymp[all]) (0.2.0)\n",
            "Requirement already satisfied: sqlalchemy; extra == \"all\" in /usr/local/lib/python3.6/dist-packages (from olymp[all]) (1.3.22)\n",
            "Requirement already satisfied: silence-tensorflow; extra == \"all\" in /usr/local/lib/python3.6/dist-packages (from olymp[all]) (1.1.1)\n",
            "Requirement already satisfied: tensorflow-probability==0.8; extra == \"all\" in /usr/local/lib/python3.6/dist-packages (from olymp[all]) (0.8.0)\n",
            "Requirement already satisfied: tensorflow==1.15; extra == \"all\" in /usr/local/lib/python3.6/dist-packages (from olymp[all]) (1.15.0)\n",
            "Requirement already satisfied: seaborn; extra == \"all\" in /usr/local/lib/python3.6/dist-packages (from olymp[all]) (0.11.1)\n",
            "Requirement already satisfied: gpyopt; extra == \"all\" in /usr/local/lib/python3.6/dist-packages (from olymp[all]) (1.2.6)\n",
            "Requirement already satisfied: hyperopt; extra == \"all\" in /usr/local/lib/python3.6/dist-packages (from olymp[all]) (0.1.2)\n",
            "Requirement already satisfied: matplotlib; extra == \"all\" in /usr/local/lib/python3.6/dist-packages (from olymp[all]) (3.2.2)\n",
            "Requirement already satisfied: pytz>=2017.2 in /usr/local/lib/python3.6/dist-packages (from pandas->olymp[all]) (2018.9)\n",
            "Requirement already satisfied: python-dateutil>=2.7.3 in /usr/local/lib/python3.6/dist-packages (from pandas->olymp[all]) (2.8.1)\n",
            "Requirement already satisfied: SQCommon in /usr/local/lib/python3.6/dist-packages (from SQSnobFit; extra == \"all\"->olymp[all]) (0.3.2)\n",
            "Requirement already satisfied: tqdm in /usr/local/lib/python3.6/dist-packages (from pyswarms; extra == \"all\"->olymp[all]) (4.41.1)\n",
            "Requirement already satisfied: pyyaml in /usr/local/lib/python3.6/dist-packages (from pyswarms; extra == \"all\"->olymp[all]) (5.3.1)\n",
            "Requirement already satisfied: scipy in /usr/local/lib/python3.6/dist-packages (from pyswarms; extra == \"all\"->olymp[all]) (1.4.1)\n",
            "Requirement already satisfied: attrs in /usr/local/lib/python3.6/dist-packages (from pyswarms; extra == \"all\"->olymp[all]) (20.3.0)\n",
            "Requirement already satisfied: future in /usr/local/lib/python3.6/dist-packages (from pyswarms; extra == \"all\"->olymp[all]) (0.16.0)\n",
            "Requirement already satisfied: wheel>=0.33 in /usr/local/lib/python3.6/dist-packages (from phoenics; extra == \"all\"->olymp[all]) (0.36.2)\n",
            "Requirement already satisfied: watchdog>=0.9 in /usr/local/lib/python3.6/dist-packages (from phoenics; extra == \"all\"->olymp[all]) (1.0.2)\n",
            "Requirement already satisfied: six>=1.10.0 in /usr/local/lib/python3.6/dist-packages (from tensorflow-probability==0.8; extra == \"all\"->olymp[all]) (1.15.0)\n",
            "Requirement already satisfied: cloudpickle==1.1.1 in /usr/local/lib/python3.6/dist-packages (from tensorflow-probability==0.8; extra == \"all\"->olymp[all]) (1.1.1)\n",
            "Requirement already satisfied: gast<0.3,>=0.2 in /usr/local/lib/python3.6/dist-packages (from tensorflow-probability==0.8; extra == \"all\"->olymp[all]) (0.2.2)\n",
            "Requirement already satisfied: decorator in /usr/local/lib/python3.6/dist-packages (from tensorflow-probability==0.8; extra == \"all\"->olymp[all]) (4.4.2)\n",
            "Requirement already satisfied: keras-applications>=1.0.8 in /usr/local/lib/python3.6/dist-packages (from tensorflow==1.15; extra == \"all\"->olymp[all]) (1.0.8)\n",
            "Requirement already satisfied: grpcio>=1.8.6 in /usr/local/lib/python3.6/dist-packages (from tensorflow==1.15; extra == \"all\"->olymp[all]) (1.32.0)\n",
            "Requirement already satisfied: tensorflow-estimator==1.15.1 in /usr/local/lib/python3.6/dist-packages (from tensorflow==1.15; extra == \"all\"->olymp[all]) (1.15.1)\n",
            "Requirement already satisfied: keras-preprocessing>=1.0.5 in /usr/local/lib/python3.6/dist-packages (from tensorflow==1.15; extra == \"all\"->olymp[all]) (1.1.2)\n",
            "Requirement already satisfied: astor>=0.6.0 in /usr/local/lib/python3.6/dist-packages (from tensorflow==1.15; extra == \"all\"->olymp[all]) (0.8.1)\n",
            "Requirement already satisfied: tensorboard<1.16.0,>=1.15.0 in /usr/local/lib/python3.6/dist-packages (from tensorflow==1.15; extra == \"all\"->olymp[all]) (1.15.0)\n",
            "Requirement already satisfied: protobuf>=3.6.1 in /usr/local/lib/python3.6/dist-packages (from tensorflow==1.15; extra == \"all\"->olymp[all]) (3.12.4)\n",
            "Requirement already satisfied: google-pasta>=0.1.6 in /usr/local/lib/python3.6/dist-packages (from tensorflow==1.15; extra == \"all\"->olymp[all]) (0.2.0)\n",
            "Requirement already satisfied: absl-py>=0.7.0 in /usr/local/lib/python3.6/dist-packages (from tensorflow==1.15; extra == \"all\"->olymp[all]) (0.10.0)\n",
            "Requirement already satisfied: wrapt>=1.11.1 in /usr/local/lib/python3.6/dist-packages (from tensorflow==1.15; extra == \"all\"->olymp[all]) (1.12.1)\n",
            "Requirement already satisfied: opt-einsum>=2.3.2 in /usr/local/lib/python3.6/dist-packages (from tensorflow==1.15; extra == \"all\"->olymp[all]) (3.3.0)\n",
            "Requirement already satisfied: termcolor>=1.1.0 in /usr/local/lib/python3.6/dist-packages (from tensorflow==1.15; extra == \"all\"->olymp[all]) (1.1.0)\n",
            "Requirement already satisfied: GPy>=1.8 in /usr/local/lib/python3.6/dist-packages (from gpyopt; extra == \"all\"->olymp[all]) (1.9.9)\n",
            "Requirement already satisfied: pymongo in /usr/local/lib/python3.6/dist-packages (from hyperopt; extra == \"all\"->olymp[all]) (3.11.2)\n",
            "Requirement already satisfied: networkx in /usr/local/lib/python3.6/dist-packages (from hyperopt; extra == \"all\"->olymp[all]) (2.5)\n",
            "Requirement already satisfied: kiwisolver>=1.0.1 in /usr/local/lib/python3.6/dist-packages (from matplotlib; extra == \"all\"->olymp[all]) (1.3.1)\n",
            "Requirement already satisfied: pyparsing!=2.0.4,!=2.1.2,!=2.1.6,>=2.0.1 in /usr/local/lib/python3.6/dist-packages (from matplotlib; extra == \"all\"->olymp[all]) (2.4.7)\n",
            "Requirement already satisfied: cycler>=0.10 in /usr/local/lib/python3.6/dist-packages (from matplotlib; extra == \"all\"->olymp[all]) (0.10.0)\n",
            "Requirement already satisfied: h5py in /usr/local/lib/python3.6/dist-packages (from keras-applications>=1.0.8->tensorflow==1.15; extra == \"all\"->olymp[all]) (2.10.0)\n",
            "Requirement already satisfied: werkzeug>=0.11.15 in /usr/local/lib/python3.6/dist-packages (from tensorboard<1.16.0,>=1.15.0->tensorflow==1.15; extra == \"all\"->olymp[all]) (1.0.1)\n",
            "Requirement already satisfied: setuptools>=41.0.0 in /usr/local/lib/python3.6/dist-packages (from tensorboard<1.16.0,>=1.15.0->tensorflow==1.15; extra == \"all\"->olymp[all]) (51.1.1)\n",
            "Requirement already satisfied: markdown>=2.6.8 in /usr/local/lib/python3.6/dist-packages (from tensorboard<1.16.0,>=1.15.0->tensorflow==1.15; extra == \"all\"->olymp[all]) (3.3.3)\n",
            "Requirement already satisfied: paramz>=0.9.0 in /usr/local/lib/python3.6/dist-packages (from GPy>=1.8->gpyopt; extra == \"all\"->olymp[all]) (0.9.5)\n",
            "Requirement already satisfied: importlib-metadata; python_version < \"3.8\" in /usr/local/lib/python3.6/dist-packages (from markdown>=2.6.8->tensorboard<1.16.0,>=1.15.0->tensorflow==1.15; extra == \"all\"->olymp[all]) (3.3.0)\n",
            "Requirement already satisfied: typing-extensions>=3.6.4; python_version < \"3.8\" in /usr/local/lib/python3.6/dist-packages (from importlib-metadata; python_version < \"3.8\"->markdown>=2.6.8->tensorboard<1.16.0,>=1.15.0->tensorflow==1.15; extra == \"all\"->olymp[all]) (3.7.4.3)\n",
            "Requirement already satisfied: zipp>=0.5 in /usr/local/lib/python3.6/dist-packages (from importlib-metadata; python_version < \"3.8\"->markdown>=2.6.8->tensorboard<1.16.0,>=1.15.0->tensorflow==1.15; extra == \"all\"->olymp[all]) (3.4.0)\n"
          ],
          "name": "stdout"
        }
      ]
    },
    {
      "cell_type": "code",
      "metadata": {
        "colab": {
          "base_uri": "https://localhost:8080/"
        },
        "id": "IgA8sc3U6atA",
        "outputId": "ca92f17b-8388-473b-eb99-26358102350a"
      },
      "source": [
        "# get a list of available datasets \n",
        "from olympus import list_datasets\n",
        "list_datasets()"
      ],
      "execution_count": null,
      "outputs": [
        {
          "output_type": "execute_result",
          "data": {
            "text/plain": [
              "['alkox',\n",
              " 'benzylation',\n",
              " 'colors_bob',\n",
              " 'colors_n9',\n",
              " 'fullerenes',\n",
              " 'hplc',\n",
              " 'photo_pce10',\n",
              " 'photo_wf3',\n",
              " 'snar',\n",
              " 'suzuki']"
            ]
          },
          "metadata": {
            "tags": []
          },
          "execution_count": 3
        }
      ]
    },
    {
      "cell_type": "code",
      "metadata": {
        "colab": {
          "base_uri": "https://localhost:8080/"
        },
        "id": "Fy9UMfrP6bga",
        "outputId": "2f675ecd-0282-49b4-f4d2-2f61165e2406"
      },
      "source": [
        "# get a list of available experiment planners \n",
        "from olympus import list_planners\n",
        "list_planners()"
      ],
      "execution_count": null,
      "outputs": [
        {
          "output_type": "execute_result",
          "data": {
            "text/plain": [
              "['BasinHopping',\n",
              " 'Cma',\n",
              " 'ConjugateGradient',\n",
              " 'DifferentialEvolution',\n",
              " 'Genetic',\n",
              " 'Gpyopt',\n",
              " 'Grid',\n",
              " 'Hyperopt',\n",
              " 'LatinHypercube',\n",
              " 'Lbfgs',\n",
              " 'ParticleSwarms',\n",
              " 'Phoenics',\n",
              " 'RandomSearch',\n",
              " 'Simplex',\n",
              " 'Slsqp',\n",
              " 'Snobfit',\n",
              " 'Sobol',\n",
              " 'SteepestDescent']"
            ]
          },
          "metadata": {
            "tags": []
          },
          "execution_count": 4
        }
      ]
    },
    {
      "cell_type": "code",
      "metadata": {
        "id": "dZUXIFVU61LW"
      },
      "source": [
        "# initalize the Olympus orchestrator\n",
        "from olympus import Olympus\n",
        "olymp = Olympus()"
      ],
      "execution_count": null,
      "outputs": []
    },
    {
      "cell_type": "markdown",
      "metadata": {
        "id": "VrdqaAuLYPR5"
      },
      "source": [
        "The `Olympus` class is the highest-level class in the package, which allows to run various algorithms with default settings against the desired benchmarks in a few lines of code. Lower-level usage of the package, which allow for more control by experienced users, is also possible as described in the documentation."
      ]
    },
    {
      "cell_type": "code",
      "metadata": {
        "id": "yDgyXYLW71U4"
      },
      "source": [
        "# we declare a local database to which we store our campaign results\n",
        "from olympus import Database\n",
        "database = Database()"
      ],
      "execution_count": null,
      "outputs": []
    },
    {
      "cell_type": "code",
      "metadata": {
        "colab": {
          "base_uri": "https://localhost:8080/"
        },
        "id": "MVWh8bEK7DpX",
        "outputId": "9c238a4b-7d97-47a7-c00a-4cd76222a360"
      },
      "source": [
        "from olympus import Campaign\n",
        "from time import time\n",
        "\n",
        "DATASET = 'hplc'\n",
        "NUM_REPETITIONS = 3\n",
        "PLANNERS = ['Gpyopt', 'Sobol', 'Genetic', 'RandomSearch']\n",
        "\n",
        "elapsed_times = {'planner': [], 'time': []}\n",
        "for PLANNER in PLANNERS:\n",
        "  for repetition in range(NUM_REPETITIONS):\n",
        "    print(f\"Algorithm: {PLANNER} [repetition {repetition+1}]\")\n",
        "\n",
        "    start_time = time()\n",
        "    olymp.run(\n",
        "        planner=PLANNER,      # run simulation with <PLANNER>,\n",
        "        dataset=DATASET,      # on emulator trained on dataset <DATASET>;\n",
        "        campaign=Campaign(),  # store results in a new campaign, \n",
        "        database=database,    # but use the same database to store campaign;\n",
        "        num_iter=100,         # run benchmark for 100 iterations\n",
        "    )\n",
        "    elapsed_time = time() - start_time\n",
        "    elapsed_times['planner'].append(PLANNER)\n",
        "    elapsed_times['time'].append(elapsed_time)"
      ],
      "execution_count": null,
      "outputs": [
        {
          "output_type": "stream",
          "text": [
            "Algorithm: Gpyopt [repetition 1]\n",
            "\u001b[0;37m[INFO] Loading emulator using a BayesNeuralNet model for the dataset hplc...\n",
            "\u001b[0mAlgorithm: Gpyopt [repetition 2]\n",
            "\u001b[0;37m[INFO] Loading emulator using a BayesNeuralNet model for the dataset hplc...\n",
            "\u001b[0mAlgorithm: Gpyopt [repetition 3]\n",
            "\u001b[0;37m[INFO] Loading emulator using a BayesNeuralNet model for the dataset hplc...\n",
            "\u001b[0mAlgorithm: Sobol [repetition 1]\n",
            "\u001b[0;37m[INFO] Loading emulator using a BayesNeuralNet model for the dataset hplc...\n",
            "\u001b[0mAlgorithm: Sobol [repetition 2]\n",
            "\u001b[0;37m[INFO] Loading emulator using a BayesNeuralNet model for the dataset hplc...\n",
            "\u001b[0mAlgorithm: Sobol [repetition 3]\n",
            "\u001b[0;37m[INFO] Loading emulator using a BayesNeuralNet model for the dataset hplc...\n",
            "\u001b[0mAlgorithm: Genetic [repetition 1]\n",
            "\u001b[0;37m[INFO] Loading emulator using a BayesNeuralNet model for the dataset hplc...\n",
            "\u001b[0mAlgorithm: Genetic [repetition 2]\n",
            "\u001b[0;37m[INFO] Loading emulator using a BayesNeuralNet model for the dataset hplc...\n",
            "\u001b[0mAlgorithm: Genetic [repetition 3]\n",
            "\u001b[0;37m[INFO] Loading emulator using a BayesNeuralNet model for the dataset hplc...\n",
            "\u001b[0mAlgorithm: RandomSearch [repetition 1]\n",
            "\u001b[0;37m[INFO] Loading emulator using a BayesNeuralNet model for the dataset hplc...\n",
            "\u001b[0mAlgorithm: RandomSearch [repetition 2]\n",
            "\u001b[0;37m[INFO] Loading emulator using a BayesNeuralNet model for the dataset hplc...\n",
            "\u001b[0mAlgorithm: RandomSearch [repetition 3]\n",
            "\u001b[0;37m[INFO] Loading emulator using a BayesNeuralNet model for the dataset hplc...\n",
            "\u001b[0m"
          ],
          "name": "stdout"
        }
      ]
    },
    {
      "cell_type": "code",
      "metadata": {
        "colab": {
          "base_uri": "https://localhost:8080/"
        },
        "id": "dnpd2WBD7SkM",
        "outputId": "af78190c-d329-4919-a0b1-8263c0e59ca1"
      },
      "source": [
        "# collect all campaigns\n",
        "campaigns = [campaign for campaign in database]\n",
        "for campaign in campaigns:\n",
        "  print(repr(campaign))"
      ],
      "execution_count": null,
      "outputs": [
        {
          "output_type": "stream",
          "text": [
            "<Campaign (dataset=hplc, model=BayesNeuralNet, planner=Gpyopt, num_iter=100)>\n",
            "<Campaign (dataset=hplc, model=BayesNeuralNet, planner=Gpyopt, num_iter=100)>\n",
            "<Campaign (dataset=hplc, model=BayesNeuralNet, planner=Gpyopt, num_iter=100)>\n",
            "<Campaign (dataset=hplc, model=BayesNeuralNet, planner=Sobol, num_iter=100)>\n",
            "<Campaign (dataset=hplc, model=BayesNeuralNet, planner=Sobol, num_iter=100)>\n",
            "<Campaign (dataset=hplc, model=BayesNeuralNet, planner=Sobol, num_iter=100)>\n",
            "<Campaign (dataset=hplc, model=BayesNeuralNet, planner=Genetic, num_iter=100)>\n",
            "<Campaign (dataset=hplc, model=BayesNeuralNet, planner=Genetic, num_iter=100)>\n",
            "<Campaign (dataset=hplc, model=BayesNeuralNet, planner=Genetic, num_iter=100)>\n",
            "<Campaign (dataset=hplc, model=BayesNeuralNet, planner=RandomSearch, num_iter=100)>\n",
            "<Campaign (dataset=hplc, model=BayesNeuralNet, planner=RandomSearch, num_iter=100)>\n",
            "<Campaign (dataset=hplc, model=BayesNeuralNet, planner=RandomSearch, num_iter=100)>\n"
          ],
          "name": "stdout"
        }
      ]
    },
    {
      "cell_type": "code",
      "metadata": {
        "colab": {
          "base_uri": "https://localhost:8080/",
          "height": 360
        },
        "id": "RkrLJ8Ij9UU8",
        "outputId": "9a567b4e-588d-4dd4-924f-19aa23c2d99b"
      },
      "source": [
        "from olympus import Plotter \n",
        "plotter = Plotter() \n",
        "plotter.plot_from_db(database)"
      ],
      "execution_count": null,
      "outputs": [
        {
          "output_type": "display_data",
          "data": {
            "image/png": "[encoded data removed]",
            "text/plain": [
              "<Figure size 432x360 with 1 Axes>"
            ]
          },
          "metadata": {
            "tags": [],
            "needs_background": "light"
          }
        }
      ]
    },
    {
      "cell_type": "code",
      "metadata": {
        "colab": {
          "base_uri": "https://localhost:8080/",
          "height": 288
        },
        "id": "W3rHwlITEBzM",
        "outputId": "79427462-f69c-44ce-f5ee-3f9f70c84347"
      },
      "source": [
        "import seaborn as sns\n",
        "import matplotlib.pyplot as plt \n",
        "sns.boxplot(\n",
        "    x='planner', \n",
        "    y='time',\n",
        "    data=elapsed_times\n",
        ")\n",
        "plt.xlabel('Planner') \n",
        "plt.ylabel('Elapsed time [s]')\n",
        "plt.show()"
      ],
      "execution_count": null,
      "outputs": [
        {
          "output_type": "display_data",
          "data": {
            "image/png": "[encoded data removed]",
            "text/plain": [
              "<Figure size 432x288 with 1 Axes>"
            ]
          },
          "metadata": {
            "tags": [],
            "needs_background": "light"
          }
        }
      ]
    },
    {
      "cell_type": "markdown",
      "metadata": {
        "id": "RuTZ9ZKedGCE"
      },
      "source": [
        "Note that the times reported here reflect not only the algorithm implementation, but also the implementation of their corresponding wrappers in Olympus. In practice, the computational cost of most experiment planners is negligible for the vast majority of practical chemistry experiments. Only the cost of Bayesian optimization algortihms (e.g., ``Phoenics`` and ``GPyOpt``) might be become substantial (i.e. several seconds per iteration) after a few hundres iterations."
      ]
    },
    {
      "cell_type": "code",
      "metadata": {
        "id": "YNkKR4BAEPAg"
      },
      "source": [
        ""
      ],
      "execution_count": null,
      "outputs": []
    }
  ]
}