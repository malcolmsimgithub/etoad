{
 "cells": [
  {
   "cell_type": "code",
   "execution_count": 7,
   "metadata": {},
   "outputs": [
    {
     "name": "stdout",
     "output_type": "stream",
     "text": [
      "The autoreload extension is already loaded. To reload it, use:\n",
      "  %reload_ext autoreload\n"
     ]
    }
   ],
   "source": [
    "%load_ext autoreload\n",
    "%autoreload 2"
   ]
  },
  {
   "cell_type": "code",
   "execution_count": 8,
   "metadata": {},
   "outputs": [],
   "source": [
    "import numpy as np\n",
    "import pandas as pd\n",
    "\n",
    "import matplotlib.pyplot as plt\n",
    "import seaborn as sns\n",
    "\n",
    "import olympus\n",
    "\n",
    "from olympus.objects import (\n",
    "    ParameterContinuous,\n",
    "    ParameterDiscrete,\n",
    "    ParameterCategorical,\n",
    ")\n",
    "from olympus.campaigns import Campaign, ParameterSpace\n",
    "from olympus.surfaces import Surface\n",
    "from olympus.planners import Planner"
   ]
  },
  {
   "cell_type": "code",
   "execution_count": 9,
   "metadata": {},
   "outputs": [],
   "source": [
    "def surface(x):\n",
    "    return np.sin(8*x[0]) - 2*np.cos(6*x[1]) + np.exp(-2.*x[2])\n"
   ]
  },
  {
   "cell_type": "code",
   "execution_count": 10,
   "metadata": {},
   "outputs": [],
   "source": [
    "param_space = ParameterSpace()\n",
    "param_0 = ParameterContinuous(name='param_0', low=0.0, high=1.0)\n",
    "param_1 = ParameterContinuous(name='param_1', low=0.0, high=1.0)\n",
    "param_2 = ParameterContinuous(name='param_2', low=0.0, high=1.0)\n",
    "param_space.add(param_0)\n",
    "param_space.add(param_1)\n",
    "param_space.add(param_2)"
   ]
  },
  {
   "cell_type": "code",
   "execution_count": 11,
   "metadata": {},
   "outputs": [],
   "source": [
    "planner = Planner(kind='RandomSearch')\n",
    "planner.set_param_space(param_space)\n",
    "\n",
    "campaign = Campaign()\n",
    "campaign.set_param_space(param_space)"
   ]
  },
  {
   "cell_type": "code",
   "execution_count": 13,
   "metadata": {},
   "outputs": [
    {
     "name": "stdout",
     "output_type": "stream",
     "text": [
      "[ParamVector(param_0 = 0.23246329250370756, param_1 = 0.4737370597637566, param_2 = 0.8588335361787938), ParamVector(param_0 = 0.23246329250370756, param_1 = 0.4737370597637566, param_2 = 0.8588335361787938)]\n",
      "[ParamVector(param_0 = 0.9159208974095202, param_1 = 0.22876036532340482, param_2 = 0.8693039125138237), ParamVector(param_0 = 0.9159208974095202, param_1 = 0.22876036532340482, param_2 = 0.8693039125138237)]\n",
      "[ParamVector(param_0 = 0.9139667104198791, param_1 = 0.9346380672825104, param_2 = 0.566892148894686), ParamVector(param_0 = 0.9139667104198791, param_1 = 0.9346380672825104, param_2 = 0.566892148894686)]\n",
      "[ParamVector(param_0 = 0.39899812454275374, param_1 = 0.42251922341886683, param_2 = 0.7928926579937385), ParamVector(param_0 = 0.39899812454275374, param_1 = 0.42251922341886683, param_2 = 0.7928926579937385)]\n",
      "[ParamVector(param_0 = 0.9533487576078197, param_1 = 0.6238401022614783, param_2 = 0.4715422187509666), ParamVector(param_0 = 0.9533487576078197, param_1 = 0.6238401022614783, param_2 = 0.4715422187509666)]\n",
      "[ParamVector(param_0 = 0.8651481649463568, param_1 = 0.8855808040097884, param_2 = 0.43342813589529194), ParamVector(param_0 = 0.8651481649463568, param_1 = 0.8855808040097884, param_2 = 0.43342813589529194)]\n",
      "[ParamVector(param_0 = 0.834554986921724, param_1 = 0.563993704341951, param_2 = 0.36386524692156574), ParamVector(param_0 = 0.834554986921724, param_1 = 0.563993704341951, param_2 = 0.36386524692156574)]\n",
      "[ParamVector(param_0 = 0.9810311597592742, param_1 = 0.9703536057705764, param_2 = 0.18856471940696884), ParamVector(param_0 = 0.9810311597592742, param_1 = 0.9703536057705764, param_2 = 0.18856471940696884)]\n",
      "[ParamVector(param_0 = 0.33277178000249696, param_1 = 0.8624372503279473, param_2 = 0.2298859856090869), ParamVector(param_0 = 0.33277178000249696, param_1 = 0.8624372503279473, param_2 = 0.2298859856090869)]\n",
      "[ParamVector(param_0 = 0.7734723038937993, param_1 = 0.7239634197369984, param_2 = 0.3874852965629805), ParamVector(param_0 = 0.7734723038937993, param_1 = 0.7239634197369984, param_2 = 0.3874852965629805)]\n"
     ]
    }
   ],
   "source": [
    "BUDGET = 10\n",
    "\n",
    "for num_iter in range(BUDGET):\n",
    "    \n",
    "    samples = planner.recommend(campaign.observations)\n",
    "    print(samples)\n",
    "    \n",
    "    measurements = []\n",
    "    for sample in samples:\n",
    "    \n",
    "        sample_arr = sample.to_array()\n",
    "        measurement = surface(sample_arr)\n",
    "        measurements.append(measurement)\n",
    "\n",
    "        campaign.add_observation(sample_arr, measurement)"
   ]
  },
  {
   "cell_type": "code",
   "execution_count": 14,
   "metadata": {},
   "outputs": [
    {
     "data": {
      "text/plain": [
       "array([[0.23246329, 0.47373706, 0.85883354],\n",
       "       [0.23246329, 0.47373706, 0.85883354],\n",
       "       [0.9159209 , 0.22876037, 0.86930391],\n",
       "       [0.9159209 , 0.22876037, 0.86930391],\n",
       "       [0.91396671, 0.93463807, 0.56689215],\n",
       "       [0.91396671, 0.93463807, 0.56689215],\n",
       "       [0.39899812, 0.42251922, 0.79289266],\n",
       "       [0.39899812, 0.42251922, 0.79289266],\n",
       "       [0.95334876, 0.6238401 , 0.47154222],\n",
       "       [0.95334876, 0.6238401 , 0.47154222],\n",
       "       [0.86514816, 0.8855808 , 0.43342814],\n",
       "       [0.86514816, 0.8855808 , 0.43342814],\n",
       "       [0.83455499, 0.5639937 , 0.36386525],\n",
       "       [0.83455499, 0.5639937 , 0.36386525],\n",
       "       [0.98103116, 0.97035361, 0.18856472],\n",
       "       [0.98103116, 0.97035361, 0.18856472],\n",
       "       [0.33277178, 0.86243725, 0.22988599],\n",
       "       [0.33277178, 0.86243725, 0.22988599],\n",
       "       [0.7734723 , 0.72396342, 0.3874853 ],\n",
       "       [0.7734723 , 0.72396342, 0.3874853 ]])"
      ]
     },
     "execution_count": 14,
     "metadata": {},
     "output_type": "execute_result"
    }
   ],
   "source": [
    "campaign.observations.params"
   ]
  },
  {
   "cell_type": "code",
   "execution_count": 16,
   "metadata": {},
   "outputs": [
    {
     "data": {
      "text/plain": [
       "(20,)"
      ]
     },
     "execution_count": 16,
     "metadata": {},
     "output_type": "execute_result"
    }
   ],
   "source": [
    "campaign.observations.values.shape"
   ]
  },
  {
   "cell_type": "code",
   "execution_count": null,
   "metadata": {},
   "outputs": [],
   "source": []
  }
 ],
 "metadata": {
  "kernelspec": {
   "display_name": "olympus",
   "language": "python",
   "name": "olympus"
  },
  "language_info": {
   "codemirror_mode": {
    "name": "ipython",
    "version": 3
   },
   "file_extension": ".py",
   "mimetype": "text/x-python",
   "name": "python",
   "nbconvert_exporter": "python",
   "pygments_lexer": "ipython3",
   "version": "3.7.12"
  }
 },
 "nbformat": 4,
 "nbformat_minor": 4
}
