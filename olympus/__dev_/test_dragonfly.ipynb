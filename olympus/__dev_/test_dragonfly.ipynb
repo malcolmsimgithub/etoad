{
 "cells": [
  {
   "cell_type": "code",
   "execution_count": 11,
   "id": "7d0fd032",
   "metadata": {},
   "outputs": [],
   "source": [
    "import sys\n",
    "import json\n",
    "import numpy as np\n",
    "import pandas as pd\n",
    "import pickle\n",
    "\n",
    "from dragonfly.exd.cp_domain_utils import load_config\n",
    "from dragonfly.exd.experiment_caller import CPFunctionCaller, EuclideanFunctionCaller\n",
    "from dragonfly import maximise_function, minimise_function\n",
    "from dragonfly.opt import gp_bandit\n",
    "#from dragonfly.parse.config_parser import load_parameters\n",
    "\n"
   ]
  },
  {
   "cell_type": "code",
   "execution_count": 12,
   "id": "e3236d58",
   "metadata": {},
   "outputs": [],
   "source": [
    "budget = 5\n",
    "repeats = 1\n",
    "random_seed = None\n",
    "\n",
    "def surface(x):\n",
    "    return np.random.uniform() #surface_.run(x)[0]\n",
    "\n",
    "# --------------------------------\n",
    "# Standardized script from here on\n",
    "# --------------------------------\n",
    "\n",
    "# set dragonfly parameter space\n",
    "domain_vars = [\n",
    "    {'name': 'x0', 'type': 'float', 'min': 0, 'max': 1},\n",
    "    {'name': 'x1', 'type': 'float', 'min': 0, 'max': 1},\n",
    "]\n",
    "\n",
    "\n",
    "config_params = {'domain': domain_vars}\n",
    "config = load_config(config_params)"
   ]
  },
  {
   "cell_type": "code",
   "execution_count": 13,
   "id": "10378584",
   "metadata": {},
   "outputs": [
    {
     "name": "stdout",
     "output_type": "stream",
     "text": [
      "===============================\n",
      "   Repeat 1\n",
      "===============================\n"
     ]
    },
    {
     "ename": "AttributeError",
     "evalue": "'CartesianProductDomain' object has no attribute 'bounds'",
     "output_type": "error",
     "traceback": [
      "\u001b[0;31m---------------------------------------------------------------------------\u001b[0m",
      "\u001b[0;31mAttributeError\u001b[0m                            Traceback (most recent call last)",
      "\u001b[0;32m/var/folders/d8/lrt20kt55zjgtpnv13g2_wt40000gn/T/ipykernel_42646/2047260788.py\u001b[0m in \u001b[0;36m<module>\u001b[0;34m\u001b[0m\n\u001b[1;32m     11\u001b[0m     \u001b[0;31m# optimize\u001b[0m\u001b[0;34m\u001b[0m\u001b[0;34m\u001b[0m\u001b[0;34m\u001b[0m\u001b[0m\n\u001b[1;32m     12\u001b[0m     \u001b[0;32mfor\u001b[0m \u001b[0mi\u001b[0m \u001b[0;32min\u001b[0m \u001b[0mrange\u001b[0m\u001b[0;34m(\u001b[0m\u001b[0mbudget\u001b[0m\u001b[0;34m)\u001b[0m\u001b[0;34m:\u001b[0m\u001b[0;34m\u001b[0m\u001b[0;34m\u001b[0m\u001b[0m\n\u001b[0;32m---> 13\u001b[0;31m         \u001b[0mparams\u001b[0m \u001b[0;34m=\u001b[0m \u001b[0mopt\u001b[0m\u001b[0;34m.\u001b[0m\u001b[0mask\u001b[0m\u001b[0;34m(\u001b[0m\u001b[0;34m)\u001b[0m\u001b[0;34m\u001b[0m\u001b[0;34m\u001b[0m\u001b[0m\n\u001b[0m\u001b[1;32m     14\u001b[0m         \u001b[0mprint\u001b[0m\u001b[0;34m(\u001b[0m\u001b[0mparams\u001b[0m\u001b[0;34m)\u001b[0m\u001b[0;34m\u001b[0m\u001b[0;34m\u001b[0m\u001b[0m\n\u001b[1;32m     15\u001b[0m \u001b[0;34m\u001b[0m\u001b[0m\n",
      "\u001b[0;32m/opt/anaconda3/envs/olympus/lib/python3.7/site-packages/dragonfly/opt/gp_bandit.py\u001b[0m in \u001b[0;36mask\u001b[0;34m(self, n_points)\u001b[0m\n\u001b[1;32m    748\u001b[0m     \u001b[0;32mif\u001b[0m \u001b[0;32mnot\u001b[0m \u001b[0mself\u001b[0m\u001b[0;34m.\u001b[0m\u001b[0mfirst_qinfos\u001b[0m\u001b[0;34m:\u001b[0m\u001b[0;34m\u001b[0m\u001b[0;34m\u001b[0m\u001b[0m\n\u001b[1;32m    749\u001b[0m       \u001b[0mself\u001b[0m\u001b[0;34m.\u001b[0m\u001b[0m_main_loop_pre\u001b[0m\u001b[0;34m(\u001b[0m\u001b[0;34m)\u001b[0m\u001b[0;34m\u001b[0m\u001b[0;34m\u001b[0m\u001b[0m\n\u001b[0;32m--> 750\u001b[0;31m     \u001b[0;32mreturn\u001b[0m \u001b[0msuper\u001b[0m\u001b[0;34m(\u001b[0m\u001b[0mEuclideanGPBandit\u001b[0m\u001b[0;34m,\u001b[0m \u001b[0mself\u001b[0m\u001b[0;34m)\u001b[0m\u001b[0;34m.\u001b[0m\u001b[0mask\u001b[0m\u001b[0;34m(\u001b[0m\u001b[0mn_points\u001b[0m\u001b[0;34m)\u001b[0m\u001b[0;34m\u001b[0m\u001b[0;34m\u001b[0m\u001b[0m\n\u001b[0m\u001b[1;32m    751\u001b[0m \u001b[0;34m\u001b[0m\u001b[0m\n\u001b[1;32m    752\u001b[0m \u001b[0;34m\u001b[0m\u001b[0m\n",
      "\u001b[0;32m/opt/anaconda3/envs/olympus/lib/python3.7/site-packages/dragonfly/opt/blackbox_optimiser.py\u001b[0m in \u001b[0;36mask\u001b[0;34m(self, n_points)\u001b[0m\n\u001b[1;32m    288\u001b[0m         \u001b[0;32melse\u001b[0m\u001b[0;34m:\u001b[0m\u001b[0;34m\u001b[0m\u001b[0;34m\u001b[0m\u001b[0m\n\u001b[1;32m    289\u001b[0m           \u001b[0;32mif\u001b[0m \u001b[0mself\u001b[0m\u001b[0;34m.\u001b[0m\u001b[0mdomain\u001b[0m\u001b[0;34m.\u001b[0m\u001b[0mget_type\u001b[0m\u001b[0;34m(\u001b[0m\u001b[0;34m)\u001b[0m \u001b[0;34m==\u001b[0m \u001b[0;34m'euclidean'\u001b[0m\u001b[0;34m:\u001b[0m\u001b[0;34m\u001b[0m\u001b[0;34m\u001b[0m\u001b[0m\n\u001b[0;32m--> 290\u001b[0;31m             \u001b[0;32mreturn\u001b[0m \u001b[0mself\u001b[0m\u001b[0;34m.\u001b[0m\u001b[0mfunc_caller\u001b[0m\u001b[0;34m.\u001b[0m\u001b[0mget_raw_domain_coords\u001b[0m\u001b[0;34m(\u001b[0m\u001b[0mqinfo\u001b[0m\u001b[0;34m.\u001b[0m\u001b[0mpoint\u001b[0m\u001b[0;34m)\u001b[0m\u001b[0;34m\u001b[0m\u001b[0;34m\u001b[0m\u001b[0m\n\u001b[0m\u001b[1;32m    291\u001b[0m           \u001b[0;32melse\u001b[0m\u001b[0;34m:\u001b[0m\u001b[0;34m\u001b[0m\u001b[0;34m\u001b[0m\u001b[0m\n\u001b[1;32m    292\u001b[0m             \u001b[0;32mreturn\u001b[0m \u001b[0mself\u001b[0m\u001b[0;34m.\u001b[0m\u001b[0mfunc_caller\u001b[0m\u001b[0;34m.\u001b[0m\u001b[0mget_raw_domain_point_from_processed\u001b[0m\u001b[0;34m(\u001b[0m\u001b[0mqinfo\u001b[0m\u001b[0;34m.\u001b[0m\u001b[0mpoint\u001b[0m\u001b[0;34m)\u001b[0m\u001b[0;34m\u001b[0m\u001b[0;34m\u001b[0m\u001b[0m\n",
      "\u001b[0;32m/opt/anaconda3/envs/olympus/lib/python3.7/site-packages/dragonfly/exd/experiment_caller.py\u001b[0m in \u001b[0;36mget_raw_domain_coords\u001b[0;34m(self, X)\u001b[0m\n\u001b[1;32m    453\u001b[0m     \u001b[0;34m\"\"\" Maps points from the domain cube to the original space. \"\"\"\u001b[0m\u001b[0;34m\u001b[0m\u001b[0;34m\u001b[0m\u001b[0m\n\u001b[1;32m    454\u001b[0m     \u001b[0;32mif\u001b[0m \u001b[0mself\u001b[0m\u001b[0;34m.\u001b[0m\u001b[0mdomain_is_normalised\u001b[0m \u001b[0;32mand\u001b[0m \u001b[0mX\u001b[0m \u001b[0;32mis\u001b[0m \u001b[0;32mnot\u001b[0m \u001b[0;32mNone\u001b[0m\u001b[0;34m:\u001b[0m\u001b[0;34m\u001b[0m\u001b[0;34m\u001b[0m\u001b[0m\n\u001b[0;32m--> 455\u001b[0;31m       \u001b[0;32mreturn\u001b[0m \u001b[0mmap_to_bounds\u001b[0m\u001b[0;34m(\u001b[0m\u001b[0mX\u001b[0m\u001b[0;34m,\u001b[0m \u001b[0mself\u001b[0m\u001b[0;34m.\u001b[0m\u001b[0mraw_domain\u001b[0m\u001b[0;34m.\u001b[0m\u001b[0mbounds\u001b[0m\u001b[0;34m)\u001b[0m\u001b[0;34m\u001b[0m\u001b[0;34m\u001b[0m\u001b[0m\n\u001b[0m\u001b[1;32m    456\u001b[0m     \u001b[0;32melse\u001b[0m\u001b[0;34m:\u001b[0m\u001b[0;34m\u001b[0m\u001b[0;34m\u001b[0m\u001b[0m\n\u001b[1;32m    457\u001b[0m       \u001b[0;32mreturn\u001b[0m \u001b[0mX\u001b[0m\u001b[0;34m\u001b[0m\u001b[0;34m\u001b[0m\u001b[0m\n",
      "\u001b[0;31mAttributeError\u001b[0m: 'CartesianProductDomain' object has no attribute 'bounds'"
     ]
    }
   ],
   "source": [
    "for num_repeat in range(1):\n",
    "    print(f'===============================')\n",
    "    print(f'   Repeat {1}')\n",
    "    print(f'===============================')\n",
    "\n",
    "    func_caller = EuclideanFunctionCaller(None, config.domain)\n",
    "\n",
    "    opt = gp_bandit.EuclideanGPBandit(func_caller, ask_tell_mode=True)\n",
    "    opt.initialise()\n",
    "    \n",
    "    # optimize\n",
    "    for i in range(budget):\n",
    "        params = opt.ask()\n",
    "        print(params)\n",
    "    \n",
    "    \n",
    "\n",
    "    # optimize\n",
    "#     opt_val, opt_pt, history = minimise_function(\n",
    "#         surface, config.domain, budget, config=config\n",
    "#     )\n",
    "\n",
    "#     # raw query param points --> history.query_points_raw\n",
    "#     # raw target values --> query_true_vals\n",
    "\n",
    "#     # store the runs in a DataFrame\n",
    "#     params = history.query_points_raw\n",
    "#     values = history.query_vals\n",
    "#     x0 = [p[0] for p in params]\n",
    "#     x1 = [p[1] for p in params]\n",
    "#     obj = values\n",
    "#     data = pd.DataFrame({'x0': x0, 'x1': x1, 'obj': obj})\n",
    "#     data_all_repeats.append(data)"
   ]
  },
  {
   "cell_type": "code",
   "execution_count": null,
   "id": "716dae37",
   "metadata": {},
   "outputs": [],
   "source": []
  }
 ],
 "metadata": {
  "kernelspec": {
   "display_name": "olympus",
   "language": "python",
   "name": "olympus"
  },
  "language_info": {
   "codemirror_mode": {
    "name": "ipython",
    "version": 3
   },
   "file_extension": ".py",
   "mimetype": "text/x-python",
   "name": "python",
   "nbconvert_exporter": "python",
   "pygments_lexer": "ipython3",
   "version": "3.7.13"
  }
 },
 "nbformat": 4,
 "nbformat_minor": 5
}
