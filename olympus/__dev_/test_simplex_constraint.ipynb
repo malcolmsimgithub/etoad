{
 "cells": [
  {
   "cell_type": "code",
   "execution_count": 1,
   "id": "edc5a177",
   "metadata": {},
   "outputs": [],
   "source": [
    "%load_ext autoreload\n",
    "%autoreload 2"
   ]
  },
  {
   "cell_type": "code",
   "execution_count": 2,
   "id": "020489f1",
   "metadata": {},
   "outputs": [],
   "source": [
    "import numpy as np\n",
    "import pickle\n",
    "import pandas as pd\n",
    "\n",
    "import matplotlib.pyplot as plt\n",
    "import seaborn as sns\n",
    "\n",
    "from olympus.evaluators import Evaluator\n",
    "from olympus.campaigns import Campaign, ParameterSpace\n",
    "from olympus.datasets import Dataset\n",
    "from olympus.emulators import Emulator\n",
    "from olympus.planners import Planner\n",
    "from olympus.utils.data_transformer import simpl_to_cube, cube_to_simpl\n",
    "from olympus.models import BayesNeuralNet"
   ]
  },
  {
   "cell_type": "code",
   "execution_count": null,
   "id": "a9de9b50",
   "metadata": {},
   "outputs": [],
   "source": [
    "dataset = Dataset(kind='thin_film')\n",
    "print(dataset.data.shape)\n",
    "dataset.data.head()\n"
   ]
  },
  {
   "cell_type": "code",
   "execution_count": null,
   "id": "81345e32",
   "metadata": {},
   "outputs": [],
   "source": [
    "print(dataset.param_space)"
   ]
  },
  {
   "cell_type": "code",
   "execution_count": null,
   "id": "5e255a30",
   "metadata": {},
   "outputs": [],
   "source": [
    "print(dataset.aux_param_space)"
   ]
  },
  {
   "cell_type": "code",
   "execution_count": null,
   "id": "ff18231b",
   "metadata": {},
   "outputs": [],
   "source": [
    "emulator = Emulator(dataset='thin_film', model='BayesNeuralNet')"
   ]
  },
  {
   "cell_type": "code",
   "execution_count": null,
   "id": "d32d739e",
   "metadata": {},
   "outputs": [],
   "source": [
    "planner = Planner(kind='RandomSearch', goal='minimize')\n",
    "planner.set_param_space(dataset.aux_param_space)\n",
    "\n",
    "\n",
    "campaign = Campaign()\n",
    "campaign.set_param_space(emulator.param_space)\n",
    "campaign.set_value_space(emulator.value_space)"
   ]
  },
  {
   "cell_type": "code",
   "execution_count": null,
   "id": "f35456d8",
   "metadata": {},
   "outputs": [],
   "source": [
    "print(campaign.param_space)"
   ]
  },
  {
   "cell_type": "code",
   "execution_count": null,
   "id": "5dae25c2",
   "metadata": {},
   "outputs": [],
   "source": [
    "budget = 5\n",
    "\n",
    "for i in range(budget):\n",
    "    \n",
    "    print('ITERATION : ', i)\n",
    "    \n",
    "    campaign.observations_to_cube()\n",
    "    \n",
    "    params = planner.recommend(campaign.observations)\n",
    "    # transform from cube to simplex\n",
    "    params = params.to_array()\n",
    "    simpl_params = cube_to_simpl([params])\n",
    "    \n",
    "    measurement = emulator.run(simpl_params[0])\n",
    "    print(f'PARAMS : {simpl_params}\\tMEASUREMENT : { measurement[0][0]}')\n",
    "    \n",
    "    \n",
    "    print('cube observations :', campaign.observations.get_params())\n",
    "\n",
    "    campaign.observations_to_simpl()\n",
    "    \n",
    "    \n",
    "    \n",
    "    print('simpl observations :', campaign.observations.get_params())\n",
    "    \n",
    "    \n",
    "    campaign.add_observation(simpl_params[0], measurement[0][0])\n",
    "    \n",
    "\n",
    "    \n",
    "    print('\\n')"
   ]
  },
  {
   "cell_type": "code",
   "execution_count": null,
   "id": "35407ead",
   "metadata": {},
   "outputs": [],
   "source": []
  },
  {
   "cell_type": "markdown",
   "id": "41eb4605",
   "metadata": {},
   "source": [
    "## Same experiment using the higher-level evaluator"
   ]
  },
  {
   "cell_type": "code",
   "execution_count": null,
   "id": "9026ff4e",
   "metadata": {},
   "outputs": [],
   "source": [
    "dataset = Dataset(kind='thin_film')\n",
    "dataset.constraints"
   ]
  },
  {
   "cell_type": "code",
   "execution_count": null,
   "id": "bc580abe",
   "metadata": {},
   "outputs": [],
   "source": [
    "emulator = Emulator(dataset='thin_film', model='BayesNeuralNet')\n",
    "\n",
    "planner = Planner(kind='RandomSearch', goal='minimize')\n",
    "#planner.set_param_space(dataset.aux_param_space)\n",
    "\n",
    "\n",
    "campaign = Campaign()\n",
    "campaign.set_param_space(emulator.param_space)\n",
    "campaign.set_value_space(emulator.value_space)"
   ]
  },
  {
   "cell_type": "code",
   "execution_count": null,
   "id": "c8981bfc",
   "metadata": {},
   "outputs": [],
   "source": [
    "#emulator.__dict__['dataset'].constraints['parameters'] = 'simplex'"
   ]
  },
  {
   "cell_type": "code",
   "execution_count": null,
   "id": "2bb2734d",
   "metadata": {},
   "outputs": [],
   "source": [
    "#emulator.__dict__['dataset'].constraints"
   ]
  },
  {
   "cell_type": "code",
   "execution_count": null,
   "id": "d6ae1490",
   "metadata": {},
   "outputs": [],
   "source": [
    "evaluator = Evaluator(planner=planner, emulator=emulator, campaign=campaign)"
   ]
  },
  {
   "cell_type": "code",
   "execution_count": null,
   "id": "82b5aab1",
   "metadata": {},
   "outputs": [],
   "source": [
    "evaluator.optimize(num_iter=5)"
   ]
  },
  {
   "cell_type": "code",
   "execution_count": null,
   "id": "0c3b92f1",
   "metadata": {},
   "outputs": [],
   "source": []
  },
  {
   "cell_type": "markdown",
   "id": "f1094e25",
   "metadata": {},
   "source": [
    "## Test OER datasets (discrete optimization with simplex constriant)"
   ]
  },
  {
   "cell_type": "code",
   "execution_count": null,
   "id": "abf20f05",
   "metadata": {},
   "outputs": [],
   "source": [
    "oer_datasets = ['oer_plate_3496', 'oer_plate_3851', 'oer_plate_3860', 'oer_plate_4098' ]"
   ]
  },
  {
   "cell_type": "code",
   "execution_count": null,
   "id": "1bc9ebdb",
   "metadata": {},
   "outputs": [],
   "source": [
    "for oer_dataset in oer_datasets:\n",
    "    dataset = Dataset(kind=oer_dataset)\n",
    "    print(dataset.shape)\n",
    "    print(dataset.param_types)\n",
    "    dataset.data.head()"
   ]
  },
  {
   "cell_type": "code",
   "execution_count": null,
   "id": "bc1ab8b6",
   "metadata": {},
   "outputs": [],
   "source": [
    "dataset = Dataset(kind='oer_plate_4098')\n",
    "print(dataset.shape)\n",
    "print(dataset.param_types)\n",
    "dataset.data.head()"
   ]
  },
  {
   "cell_type": "code",
   "execution_count": null,
   "id": "9b3eeed3",
   "metadata": {},
   "outputs": [],
   "source": [
    "planner = Planner(kind='RandomSearch', goal='minimize')\n",
    "planner.set_param_space(dataset.aux_param_space)\n",
    "\n",
    "campaign = Campaign()\n",
    "campaign.set_param_space(dataset.param_space)\n",
    "campaign.set_value_space(dataset.value_space)"
   ]
  },
  {
   "cell_type": "code",
   "execution_count": null,
   "id": "fc56601d",
   "metadata": {},
   "outputs": [],
   "source": [
    "evaluator = Evaluator(planner=planner, emulator=dataset, campaign=campaign)"
   ]
  },
  {
   "cell_type": "code",
   "execution_count": null,
   "id": "b0174ab7",
   "metadata": {},
   "outputs": [],
   "source": [
    "evaluator.optimize(num_iter=5)"
   ]
  },
  {
   "cell_type": "code",
   "execution_count": null,
   "id": "98e2ac47",
   "metadata": {},
   "outputs": [],
   "source": [
    "\n",
    "em = pickle.load(open('../src/olympus/emulators/emulator_benzylation_BayesNeuralNet/emulator.pickle', 'rb'))"
   ]
  },
  {
   "cell_type": "code",
   "execution_count": null,
   "id": "ddea4f42",
   "metadata": {},
   "outputs": [],
   "source": [
    "em.__dict__"
   ]
  },
  {
   "cell_type": "code",
   "execution_count": null,
   "id": "dbc7ec55",
   "metadata": {},
   "outputs": [],
   "source": [
    "print(em.feature_transformer.transformations)\n",
    "print(em.target_transformer.transformations)"
   ]
  },
  {
   "cell_type": "code",
   "execution_count": 21,
   "id": "d6910f7f",
   "metadata": {},
   "outputs": [],
   "source": [
    "\n",
    "important_hyperparams = ['batch_size', \n",
    "                         'es_patience', 'hidden_act', 'hidden_depth', 'hidden_nodes',\n",
    "                         'kind', 'learning_rate', 'max_epochs', 'out_act', 'pred_int', \n",
    "                         'reg', 'scope']"
   ]
  },
  {
   "cell_type": "code",
   "execution_count": 22,
   "id": "1f15f413",
   "metadata": {},
   "outputs": [],
   "source": [
    "# datasets_to_retrain = ['agnp', 'alkox', 'autoam', 'benzylation', 'colors_bob', \n",
    "#                      'colors_n9', 'crossed_barrel', 'hplc', 'p3ht', 'photo_pce10', \n",
    "#                      'photo_wf3', 'snar', 'suzuki_i', 'suzuki_ii', 'suzuki_iii', 'suzuki_iv',\n",
    "#                     ] # thin film\n",
    "datasets_to_retrain = ['suzuki', 'fullerenes']"
   ]
  },
  {
   "cell_type": "code",
   "execution_count": 23,
   "id": "17f320e4",
   "metadata": {},
   "outputs": [],
   "source": [
    "# old_emulator = Emulator(dataset='agnp', model='BayesNeuralNet')\n",
    "# feature_transform = old_emulator.feature_transformer.transformations[0]\n",
    "# target_transform  = old_emulator.target_transformer.transformations[0]\n",
    "# hyperparams = {param:old_emulator.model.get(param) for param in important_hyperparams}"
   ]
  },
  {
   "cell_type": "code",
   "execution_count": null,
   "id": "38f04294",
   "metadata": {},
   "outputs": [],
   "source": []
  },
  {
   "cell_type": "code",
   "execution_count": 24,
   "id": "e795e29e",
   "metadata": {},
   "outputs": [
    {
     "name": "stdout",
     "output_type": "stream",
     "text": [
      "\u001b[0;37m[INFO] Loading emulator using a BayesNeuralNet model for the dataset suzuki...\n",
      "\u001b[0m\u001b[0;37m[INFO] Loading emulator using a BayesNeuralNet model for the dataset fullerenes...\n",
      "\u001b[0m"
     ]
    }
   ],
   "source": [
    "all_hyperparams = {}\n",
    "\n",
    "for name in datasets_to_retrain:\n",
    "    old_emulator = Emulator(dataset=name, model='BayesNeuralNet')\n",
    "    feature_transform = old_emulator.feature_transformer.transformations[0]\n",
    "    target_transform  = old_emulator.target_transformer.transformations[0]\n",
    "    hyperparams = {param:old_emulator.model.get(param) for param in important_hyperparams}\n",
    "    \n",
    "    all_hyperparams[f'{name}_BayesNeuralNet'] = {\n",
    "        'feature_transform': feature_transform, \n",
    "        'target_transform': target_transform,\n",
    "        'hyperparams': hyperparams,\n",
    "    }"
   ]
  },
  {
   "cell_type": "code",
   "execution_count": 25,
   "id": "195d7c75",
   "metadata": {},
   "outputs": [],
   "source": [
    "pickle.dump(all_hyperparams, open('all_hyperparams.pkl', 'wb'))"
   ]
  },
  {
   "cell_type": "code",
   "execution_count": null,
   "id": "a41e7206",
   "metadata": {},
   "outputs": [],
   "source": []
  },
  {
   "cell_type": "code",
   "execution_count": 26,
   "id": "10dd20b8",
   "metadata": {},
   "outputs": [
    {
     "name": "stdout",
     "output_type": "stream",
     "text": [
      "\u001b[0;37m[INFO] >>> Training model on 80% of the dataset, testing on 20%...\n",
      "\u001b[0m\u001b[0;37m[INFO]     =======================================================================\n",
      "\u001b[0m\u001b[0;37m[INFO]           Epoch       Train R2     Train RMSD        Test R2      Test RMSD\n",
      "\u001b[0m\u001b[0;37m[INFO]     =======================================================================\n",
      "\u001b[0m\u001b[0;37m[INFO]               0         -1.302          0.718         -0.873          0.697 *\n",
      "\u001b[0m\u001b[0;37m[INFO]             100          0.085          0.453          0.051          0.496 *\n",
      "\u001b[0m\u001b[0;37m[INFO]             200          0.840          0.189          0.674          0.291 *\n",
      "\u001b[0m\u001b[0;37m[INFO]             300          0.853          0.182          0.742          0.259 *\n",
      "\u001b[0m\u001b[0;37m[INFO]             400          0.821          0.200          0.742          0.259\n",
      "\u001b[0m\u001b[0;37m[INFO]             500          0.867          0.172          0.745          0.257 *\n",
      "\u001b[0m\u001b[0;37m[INFO]             600          0.879          0.165          0.764          0.248 *\n",
      "\u001b[0m\u001b[0;37m[INFO]             700          0.870          0.170          0.782          0.238 *\n",
      "\u001b[0m\u001b[0;37m[INFO]             800          0.867          0.172          0.780          0.239\n",
      "\u001b[0m\u001b[0;37m[INFO]             900          0.847          0.185          0.775          0.242\n",
      "\u001b[0m\u001b[0;37m[INFO]            1000          0.880          0.164          0.777          0.241\n",
      "\u001b[0m\u001b[0;37m[INFO]            1100          0.870          0.170          0.774          0.242\n",
      "\u001b[0m\u001b[0;37m[INFO]            1200          0.866          0.174          0.788          0.234 *\n",
      "\u001b[0m\u001b[0;37m[INFO]            1300          0.879          0.165          0.822          0.215 *\n",
      "\u001b[0m\u001b[0;37m[INFO]            1400          0.883          0.162          0.828          0.211 *\n",
      "\u001b[0m\u001b[0;37m[INFO]            1500          0.855          0.180          0.828          0.211 *\n",
      "\u001b[0m\u001b[0;37m[INFO]            1600          0.897          0.152          0.876          0.180 *\n",
      "\u001b[0m\u001b[0;37m[INFO]            1700          0.894          0.154          0.889          0.170 *\n",
      "\u001b[0m\u001b[0;37m[INFO]            1800          0.882          0.162          0.856          0.193\n",
      "\u001b[0m\u001b[0;37m[INFO]            1900          0.900          0.150          0.891          0.168 *\n",
      "\u001b[0m\u001b[0;37m[INFO]            2000          0.889          0.158          0.882          0.175\n",
      "\u001b[0m\u001b[0;37m[INFO]            2100          0.898          0.151          0.894          0.166 *\n",
      "\u001b[0m\u001b[0;37m[INFO]            2200          0.839          0.190          0.849          0.198\n",
      "\u001b[0m\u001b[0;37m[INFO]            2300          0.899          0.151          0.912          0.151 *\n",
      "\u001b[0m\u001b[0;37m[INFO]            2400          0.884          0.161          0.893          0.166\n",
      "\u001b[0m\u001b[0;37m[INFO]            2500          0.905          0.146          0.917          0.147 *\n",
      "\u001b[0m\u001b[0;37m[INFO]            2600          0.890          0.157          0.900          0.161\n",
      "\u001b[0m\u001b[0;37m[INFO]            2700          0.850          0.184          0.874          0.181\n",
      "\u001b[0m\u001b[0;37m[INFO]            2800          0.845          0.186          0.877          0.179\n",
      "\u001b[0m\u001b[0;37m[INFO]            2900          0.892          0.155          0.917          0.147\n",
      "\u001b[0m\u001b[0;37m[INFO]            3000          0.884          0.161          0.924          0.140 *\n",
      "\u001b[0m\u001b[0;37m[INFO]            3100          0.890          0.157          0.914          0.149\n",
      "\u001b[0m\u001b[0;37m[INFO]            3200          0.886          0.160          0.914          0.150\n",
      "\u001b[0m\u001b[0;37m[INFO]            3300          0.891          0.156          0.934          0.131 *\n",
      "\u001b[0m\u001b[0;37m[INFO]            3400          0.897          0.152          0.931          0.134\n",
      "\u001b[0m\u001b[0;37m[INFO]            3500          0.874          0.168          0.908          0.155\n",
      "\u001b[0m\u001b[0;37m[INFO]            3600          0.891          0.156          0.929          0.136\n",
      "\u001b[0m\u001b[0;37m[INFO]            3700          0.874          0.168          0.914          0.150\n",
      "\u001b[0m\u001b[0;37m[INFO]            3800          0.891          0.156          0.930          0.135\n",
      "\u001b[0m\u001b[0;37m[INFO]            3900          0.891          0.156          0.942          0.123 *\n",
      "\u001b[0m\u001b[0;37m[INFO]            4000          0.893          0.155          0.925          0.140\n",
      "\u001b[0m\u001b[0;37m[INFO]            4100          0.897          0.152          0.932          0.133\n",
      "\u001b[0m\u001b[0;37m[INFO]            4200          0.879          0.164          0.917          0.147\n",
      "\u001b[0m\u001b[0;37m[INFO]            4300          0.895          0.153          0.929          0.136\n",
      "\u001b[0m\u001b[0;37m[INFO]            4400          0.891          0.156          0.935          0.129\n",
      "\u001b[0m\u001b[0;37m[INFO]            4500          0.904          0.147          0.930          0.135\n",
      "\u001b[0m\u001b[0;37m[INFO]            4600          0.886          0.160          0.923          0.141\n",
      "\u001b[0m\u001b[0;37m[INFO]            4700          0.877          0.166          0.913          0.150\n",
      "\u001b[0m\u001b[0;37m[INFO]            4800          0.898          0.151          0.934          0.130\n",
      "\u001b[0m\u001b[0;37m[INFO]            4900          0.898          0.151          0.939          0.126\n",
      "\u001b[0m\u001b[0;37m[INFO]            5000          0.901          0.149          0.934          0.131\n",
      "\u001b[0m\u001b[0;37m[INFO]            5100          0.895          0.154          0.937          0.128\n",
      "\u001b[0m\u001b[0;37m[INFO]            5200          0.898          0.151          0.935          0.130\n",
      "\u001b[0m\u001b[0;37m[INFO]            5300          0.901          0.149          0.942          0.123\n",
      "\u001b[0m\u001b[0;37m[INFO]            5400          0.886          0.160          0.918          0.146\n",
      "\u001b[0m\u001b[0;37m[INFO]            5500          0.903          0.147          0.938          0.127\n",
      "\u001b[0m\u001b[0;37m[INFO]            5600          0.890          0.157          0.923          0.142\n",
      "\u001b[0m\u001b[0;37m[INFO]            5700          0.908          0.144          0.934          0.131\n",
      "\u001b[0m\u001b[0;37m[INFO]            5800          0.904          0.147          0.943          0.122 *\n",
      "\u001b[0m\u001b[0;37m[INFO]            5900          0.905          0.146          0.937          0.128\n",
      "\u001b[0m\u001b[0;37m[INFO]            6000          0.901          0.149          0.937          0.128\n",
      "\u001b[0m\u001b[0;37m[INFO]            6100          0.912          0.141          0.942          0.122\n",
      "\u001b[0m\u001b[0;37m[INFO]            6200          0.895          0.154          0.934          0.131\n",
      "\u001b[0m\u001b[0;37m[INFO]            6300          0.915          0.138          0.938          0.127\n",
      "\u001b[0m\u001b[0;37m[INFO]            6400          0.902          0.148          0.916          0.148\n",
      "\u001b[0m\u001b[0;37m[INFO]            6500          0.915          0.138          0.941          0.124\n",
      "\u001b[0m\u001b[0;37m[INFO]            6600          0.911          0.141          0.935          0.130\n",
      "\u001b[0m\u001b[0;37m[INFO]            6700          0.925          0.130          0.939          0.126\n",
      "\u001b[0m\u001b[0;37m[INFO]            6800          0.908          0.144          0.938          0.127\n",
      "\u001b[0m\u001b[0;37m[INFO]            6900          0.921          0.133          0.937          0.128\n",
      "\u001b[0m\u001b[0;37m[INFO]            7000          0.913          0.140          0.940          0.125\n",
      "\u001b[0m\u001b[0;37m[INFO]            7100          0.916          0.137          0.940          0.125\n",
      "\u001b[0m\u001b[0;37m[INFO]            7200          0.909          0.143          0.928          0.137\n",
      "\u001b[0m\u001b[0;37m[INFO]            7300          0.918          0.135          0.936          0.129\n",
      "\u001b[0m\u001b[0;37m[INFO]            7400          0.925          0.130          0.933          0.132\n",
      "\u001b[0m\u001b[0;37m[INFO]            7500          0.921          0.133          0.938          0.127\n",
      "\u001b[0m\u001b[0;37m[INFO]            7600          0.929          0.126          0.937          0.128\n",
      "\u001b[0m\u001b[0;37m[INFO]            7700          0.921          0.133          0.938          0.127\n",
      "\u001b[0m\u001b[0;37m[INFO]            7800          0.921          0.133          0.930          0.135\n",
      "\u001b[0m\u001b[0;37m[INFO]            7900          0.923          0.131          0.933          0.132\n",
      "\u001b[0m\u001b[0;37m[INFO]            8000          0.923          0.131          0.931          0.134\n",
      "\u001b[0m\u001b[0;37m[INFO]            8100          0.931          0.125          0.937          0.128\n",
      "\u001b[0m\u001b[0;37m[INFO]            8200          0.931          0.124          0.937          0.128\n"
     ]
    },
    {
     "name": "stdout",
     "output_type": "stream",
     "text": [
      "\u001b[0m\u001b[0;37m[INFO]            8300          0.926          0.129          0.931          0.134\n",
      "\u001b[0m\u001b[0;37m[INFO]            8400          0.942          0.114          0.936          0.129\n",
      "\u001b[0m\u001b[0;37m[INFO]            8500          0.933          0.122          0.944          0.121 *\n",
      "\u001b[0m\u001b[0;37m[INFO]            8600          0.939          0.117          0.945          0.119 *\n",
      "\u001b[0m\u001b[0;37m[INFO]            8700          0.935          0.121          0.937          0.128\n",
      "\u001b[0m\u001b[0;37m[INFO]            8800          0.927          0.128          0.934          0.131\n",
      "\u001b[0m\u001b[0;37m[INFO]            8900          0.934          0.121          0.939          0.126\n",
      "\u001b[0m\u001b[0;37m[INFO]            9000          0.924          0.131          0.921          0.143\n",
      "\u001b[0m\u001b[0;37m[INFO]            9100          0.941          0.115          0.939          0.126\n",
      "\u001b[0m\u001b[0;37m[INFO]            9200          0.945          0.111          0.938          0.127\n",
      "\u001b[0m\u001b[0;37m[INFO]            9300          0.933          0.123          0.925          0.139\n",
      "\u001b[0m\u001b[0;37m[INFO]            9400          0.944          0.112          0.937          0.128\n",
      "\u001b[0m\u001b[0;37m[INFO]            9500          0.947          0.109          0.932          0.133\n",
      "\u001b[0m\u001b[0;37m[INFO]            9600          0.943          0.113          0.932          0.133\n",
      "\u001b[0m\u001b[0;37m[INFO]            9700          0.945          0.111          0.928          0.137\n",
      "\u001b[0m\u001b[0;37m[INFO]            9800          0.935          0.120          0.936          0.129\n",
      "\u001b[0m\u001b[0;37m[INFO]            9900          0.947          0.109          0.935          0.130\n",
      "\u001b[0m\u001b[0;37m[INFO]           10000          0.941          0.115          0.937          0.128\n",
      "\u001b[0m\u001b[0;37m[INFO]           10100          0.941          0.115          0.945          0.119 *\n",
      "\u001b[0m\u001b[0;37m[INFO]           10200          0.950          0.106          0.938          0.127\n",
      "\u001b[0m\u001b[0;37m[INFO]           10300          0.947          0.109          0.943          0.122\n",
      "\u001b[0m\u001b[0;37m[INFO]           10400          0.954          0.102          0.937          0.128\n",
      "\u001b[0m\u001b[0;37m[INFO]           10500          0.948          0.108          0.940          0.124\n",
      "\u001b[0m\u001b[0;37m[INFO]           10600          0.958          0.097          0.938          0.126\n",
      "\u001b[0m\u001b[0;37m[INFO]           10700          0.947          0.109          0.933          0.132\n",
      "\u001b[0m\u001b[0;37m[INFO]           10800          0.960          0.095          0.943          0.122\n",
      "\u001b[0m\u001b[0;37m[INFO]           10900          0.958          0.097          0.939          0.126\n",
      "\u001b[0m\u001b[0;37m[INFO]           11000          0.937          0.118          0.916          0.147\n",
      "\u001b[0m\u001b[0;37m[INFO]           11100          0.961          0.094          0.934          0.131\n",
      "\u001b[0m\u001b[0;37m[INFO]           11200          0.954          0.101          0.927          0.138\n",
      "\u001b[0m\u001b[0;37m[INFO]           11300          0.956          0.099          0.938          0.127\n",
      "\u001b[0m\u001b[0;37m[INFO]           11400          0.966          0.088          0.945          0.120\n",
      "\u001b[0m\u001b[0;37m[INFO]           11500          0.956          0.099          0.935          0.130\n",
      "\u001b[0m\u001b[0;37m[INFO]           11600          0.957          0.098          0.943          0.122\n",
      "\u001b[0m\u001b[0;37m[INFO]           11700          0.959          0.096          0.940          0.125\n",
      "\u001b[0m\u001b[0;37m[INFO]           11800          0.963          0.091          0.941          0.123\n",
      "\u001b[0m\u001b[0;37m[INFO]           11900          0.962          0.092          0.945          0.120\n",
      "\u001b[0m\u001b[0;37m[INFO]           12000          0.966          0.087          0.939          0.126\n",
      "\u001b[0m\u001b[0;37m[INFO]           12100          0.956          0.100          0.937          0.128\n",
      "\u001b[0m\u001b[0;37m[INFO]           12200          0.963          0.092          0.930          0.134\n",
      "\u001b[0m\u001b[0;37m[INFO]           12300          0.967          0.086          0.938          0.127\n",
      "\u001b[0m\u001b[0;37m[INFO]           12400          0.964          0.090          0.930          0.135\n",
      "\u001b[0m\u001b[0;37m[INFO]           12500          0.966          0.087          0.938          0.127\n",
      "\u001b[0m\u001b[0;37m[INFO]           12600          0.970          0.081          0.930          0.135\n",
      "\u001b[0m\u001b[0;37m[INFO]           12700          0.969          0.083          0.932          0.133\n",
      "\u001b[0m\u001b[0;37m[INFO]           12800          0.970          0.082          0.940          0.125\n",
      "\u001b[0m\u001b[0;37m[INFO]           12900          0.976          0.074          0.938          0.127\n",
      "\u001b[0m\u001b[0;37m[INFO]           13000          0.965          0.088          0.934          0.131\n",
      "\u001b[0m\u001b[0;37m[INFO]           13100          0.975          0.074          0.937          0.128\n",
      "\u001b[0m\u001b[0;37m[INFO]           13200          0.959          0.096          0.926          0.139\n",
      "\u001b[0m\u001b[0;37m[INFO]           13300          0.964          0.090          0.930          0.135\n",
      "\u001b[0m\u001b[0;37m[INFO]           13400          0.965          0.089          0.942          0.123\n",
      "\u001b[0m\u001b[0;37m[INFO]           13500          0.972          0.080          0.936          0.129\n",
      "\u001b[0m\u001b[0;37m[INFO]           13600          0.971          0.081          0.939          0.125\n",
      "\u001b[0m\u001b[0;37m[INFO]           13700          0.968          0.085          0.944          0.121\n",
      "\u001b[0m\u001b[0;37m[INFO]           13800          0.962          0.092          0.944          0.121\n",
      "\u001b[0m\u001b[0;37m[INFO]           13900          0.973          0.078          0.942          0.123\n",
      "\u001b[0m\u001b[0;37m[INFO]           14000          0.969          0.083          0.934          0.131\n",
      "\u001b[0m\u001b[0;37m[INFO]           14100          0.968          0.085          0.931          0.134\n",
      "\u001b[0m\u001b[0;37m[INFO]           14200          0.970          0.081          0.930          0.134\n",
      "\u001b[0m\u001b[0;37m[INFO]           14300          0.974          0.077          0.931          0.134\n",
      "\u001b[0m\u001b[0;37m[INFO]           14400          0.973          0.077          0.938          0.127\n",
      "\u001b[0m\u001b[0;37m[INFO]           14500          0.974          0.076          0.933          0.132\n",
      "\u001b[0m\u001b[0;37m[INFO]           14600          0.974          0.077          0.928          0.136\n",
      "\u001b[0m\u001b[0;37m[INFO]           14700          0.975          0.075          0.934          0.131\n",
      "\u001b[0m\u001b[0;37m[INFO]           14800          0.972          0.079          0.930          0.135\n",
      "\u001b[0m\u001b[0;37m[INFO]           14900          0.974          0.076          0.928          0.136\n",
      "\u001b[0m\u001b[0;37m[INFO]           15000          0.978          0.070          0.932          0.133\n",
      "\u001b[0m\u001b[0;37m[INFO]           15100          0.974          0.077          0.926          0.138\n",
      "\u001b[0m\u001b[0;37m[INFO]           15200          0.970          0.082          0.923          0.142\n",
      "\u001b[0m\u001b[0;37m[INFO]           15300          0.974          0.076          0.934          0.131\n",
      "\u001b[0m\u001b[0;37m[INFO]           15400          0.966          0.087          0.939          0.125\n",
      "\u001b[0m\u001b[0;37m[INFO]           15500          0.969          0.083          0.927          0.137\n",
      "\u001b[0m\u001b[0;37m[INFO]           15600          0.975          0.075          0.925          0.140\n",
      "\u001b[0m\u001b[0;37m[INFO]           15700          0.971          0.080          0.937          0.128\n",
      "\u001b[0m\u001b[0;37m[INFO]           15800          0.969          0.083          0.931          0.134\n",
      "\u001b[0m\u001b[0;37m[INFO]           15900          0.971          0.081          0.934          0.131\n",
      "\u001b[0m\u001b[0;37m[INFO]           16000          0.969          0.083          0.931          0.134\n",
      "\u001b[0m\u001b[0;37m[INFO]           16100          0.976          0.073          0.926          0.139\n",
      "\u001b[0m\u001b[0;37m[INFO]           16200          0.976          0.074          0.929          0.136\n",
      "\u001b[0m\u001b[0;37m[INFO]           16300          0.973          0.077          0.935          0.130\n",
      "\u001b[0m\u001b[0;37m[INFO]           16400          0.978          0.070          0.933          0.132\n",
      "\u001b[0m\u001b[0;37m[INFO]           16500          0.974          0.077          0.931          0.134\n",
      "\u001b[0m\u001b[0;37m[INFO]           16600          0.973          0.077          0.929          0.136\n",
      "\u001b[0m\u001b[0;37m[INFO]           16700          0.972          0.080          0.932          0.133\n",
      "\u001b[0m\u001b[0;37m[INFO]           16800          0.975          0.075          0.933          0.132\n",
      "\u001b[0m\u001b[0;37m[INFO]           16900          0.972          0.080          0.920          0.144\n",
      "\u001b[0m\u001b[0;37m[INFO]           17000          0.976          0.073          0.934          0.131\n",
      "\u001b[0m\u001b[0;37m[INFO]           17100          0.974          0.076          0.936          0.129\n",
      "\u001b[0m\u001b[0;37m[INFO]           17200          0.971          0.081          0.933          0.132\n"
     ]
    },
    {
     "name": "stdout",
     "output_type": "stream",
     "text": [
      "\u001b[0m\u001b[0;37m[INFO]           17300          0.979          0.068          0.932          0.132\n",
      "\u001b[0m\u001b[0;37m[INFO]           17400          0.977          0.073          0.927          0.138\n",
      "\u001b[0m\u001b[0;37m[INFO]           17500          0.966          0.087          0.917          0.147\n",
      "\u001b[0m\u001b[0;37m[INFO]           17600          0.980          0.067          0.918          0.146\n",
      "\u001b[0m\u001b[0;37m[INFO]           17700          0.974          0.076          0.919          0.145\n",
      "\u001b[0m\u001b[0;37m[INFO]           17800          0.980          0.067          0.931          0.134\n",
      "\u001b[0m\u001b[0;37m[INFO]           17900          0.974          0.076          0.932          0.133\n",
      "\u001b[0m\u001b[0;37m[INFO]           18000          0.976          0.073          0.935          0.130\n",
      "\u001b[0m\u001b[0;37m[INFO]           18100          0.966          0.087          0.915          0.148\n",
      "\u001b[0m\u001b[0;37m[INFO]           18200          0.971          0.080          0.934          0.131\n",
      "\u001b[0m\u001b[0;37m[INFO]           18300          0.969          0.083          0.930          0.135\n",
      "\u001b[0m\u001b[0;37m[INFO]           18400          0.976          0.074          0.924          0.141\n",
      "\u001b[0m\u001b[0;37m[INFO]           18500          0.976          0.073          0.925          0.140\n",
      "\u001b[0m\u001b[0;37m[INFO]           18600          0.974          0.076          0.923          0.141\n",
      "\u001b[0m\u001b[0;37m[INFO]           18700          0.976          0.074          0.926          0.139\n",
      "\u001b[0m\u001b[0;37m[INFO]           18800          0.969          0.083          0.925          0.140\n",
      "\u001b[0m\u001b[0;37m[INFO]           18900          0.971          0.081          0.935          0.130\n",
      "\u001b[0m\u001b[0;37m[INFO]           19000          0.979          0.069          0.934          0.131\n",
      "\u001b[0m\u001b[0;37m[INFO]           19100          0.974          0.076          0.934          0.131\n",
      "\u001b[0m\u001b[0;37m[INFO]           19200          0.968          0.084          0.940          0.125\n",
      "\u001b[0m\u001b[0;37m[INFO]           19300          0.973          0.077          0.929          0.136\n",
      "\u001b[0m\u001b[0;37m[INFO]           19400          0.978          0.071          0.932          0.133\n",
      "\u001b[0m\u001b[0;37m[INFO]           19500          0.974          0.076          0.939          0.125\n",
      "\u001b[0m\u001b[0;37m[INFO]           19600          0.977          0.072          0.928          0.137\n",
      "\u001b[0m\u001b[0;37m[INFO]           19700          0.976          0.074          0.921          0.144\n",
      "\u001b[0m\u001b[0;37m[INFO]           19800          0.981          0.065          0.927          0.138\n",
      "\u001b[0m\u001b[0;37m[INFO]           19900          0.975          0.075          0.928          0.137\n",
      "\u001b[0m\u001b[0;37m[INFO]           20000          0.974          0.076          0.928          0.137\n",
      "\u001b[0m\u001b[0;37m[INFO] Training completed in 18.68 seconds.\n",
      "\u001b[0m\u001b[0;37m[INFO] ===========================================================================\n",
      "\n",
      "\u001b[0m\u001b[0;37m[INFO] Performance statistics based on transformed data [standardize, mean]:\n",
      "\u001b[0m\u001b[0;37m[INFO] Train R2   Score: 0.9409\n",
      "\u001b[0m\u001b[0;37m[INFO] Test  R2   Score: 0.9452\n",
      "\u001b[0m\u001b[0;37m[INFO] Train RMSD Score: 0.1151\n",
      "\u001b[0m\u001b[0;37m[INFO] Test  RMSD Score: 0.1193\n",
      "\n",
      "\u001b[0m\u001b[0;37m[INFO] Performance statistics based on original data:\n",
      "\u001b[0m\u001b[0;37m[INFO] Train R2   Score: 0.9823\n",
      "\u001b[0m\u001b[0;37m[INFO] Test  R2   Score: 0.9327\n",
      "\u001b[0m\u001b[0;37m[INFO] Train RMSD Score: 2.8226\n",
      "\u001b[0m\u001b[0;37m[INFO] Test  RMSD Score: 4.8214\n",
      "\n",
      "\u001b[0m\u001b[0;37m[INFO] >>> Training model on 80% of the dataset, testing on 20%...\n",
      "\u001b[0m"
     ]
    },
    {
     "name": "stderr",
     "output_type": "stream",
     "text": [
      "/home/riley/Software/anaconda3/envs/olympus/lib/python3.7/site-packages/tensorflow_probability/python/layers/util.py:102: UserWarning: `layer.add_variable` is deprecated and will be removed in a future version. Please use the `layer.add_weight()` method instead.\n",
      "  trainable=trainable)\n",
      "/home/riley/Software/anaconda3/envs/olympus/lib/python3.7/site-packages/tensorflow_probability/python/layers/util.py:112: UserWarning: `layer.add_variable` is deprecated and will be removed in a future version. Please use the `layer.add_weight()` method instead.\n",
      "  trainable=trainable)\n"
     ]
    },
    {
     "name": "stdout",
     "output_type": "stream",
     "text": [
      "\u001b[0;37m[INFO]     =======================================================================\n",
      "\u001b[0m\u001b[0;37m[INFO]           Epoch       Train R2     Train RMSD        Test R2      Test RMSD\n",
      "\u001b[0m\u001b[0;37m[INFO]     =======================================================================\n",
      "\u001b[0m\u001b[0;37m[INFO]               0        -33.306          1.013        -29.385          1.018 *\n",
      "\u001b[0m\u001b[0;37m[INFO]             100          0.625          0.106          0.685          0.104 *\n",
      "\u001b[0m\u001b[0;37m[INFO]             200          0.815          0.074          0.875          0.065 *\n",
      "\u001b[0m\u001b[0;37m[INFO]             300          0.849          0.067          0.918          0.053 *\n",
      "\u001b[0m\u001b[0;37m[INFO]             400          0.901          0.055          0.922          0.051 *\n",
      "\u001b[0m\u001b[0;37m[INFO]             500          0.938          0.043          0.944          0.044 *\n",
      "\u001b[0m\u001b[0;37m[INFO]             600          0.952          0.038          0.932          0.048\n",
      "\u001b[0m\u001b[0;37m[INFO]             700          0.961          0.034          0.961          0.037 *\n",
      "\u001b[0m\u001b[0;37m[INFO]             800          0.966          0.032          0.959          0.038\n",
      "\u001b[0m\u001b[0;37m[INFO]             900          0.971          0.030          0.955          0.039\n",
      "\u001b[0m\u001b[0;37m[INFO]            1000          0.979          0.025          0.968          0.033 *\n",
      "\u001b[0m\u001b[0;37m[INFO]            1100          0.978          0.026          0.973          0.030 *\n",
      "\u001b[0m\u001b[0;37m[INFO]            1200          0.987          0.020          0.980          0.026 *\n",
      "\u001b[0m\u001b[0;37m[INFO]            1300          0.987          0.020          0.977          0.028\n",
      "\u001b[0m\u001b[0;37m[INFO]            1400          0.984          0.022          0.979          0.027\n",
      "\u001b[0m\u001b[0;37m[INFO]            1500          0.989          0.018          0.984          0.024 *\n",
      "\u001b[0m\u001b[0;37m[INFO]            1600          0.989          0.018          0.983          0.024\n",
      "\u001b[0m\u001b[0;37m[INFO]            1700          0.992          0.016          0.979          0.027\n",
      "\u001b[0m\u001b[0;37m[INFO]            1800          0.992          0.015          0.983          0.024\n",
      "\u001b[0m\u001b[0;37m[INFO]            1900          0.994          0.014          0.986          0.022 *\n",
      "\u001b[0m\u001b[0;37m[INFO]            2000          0.993          0.014          0.986          0.022\n",
      "\u001b[0m\u001b[0;37m[INFO]            2100          0.995          0.013          0.987          0.021 *\n",
      "\u001b[0m\u001b[0;37m[INFO]            2200          0.995          0.012          0.988          0.020 *\n",
      "\u001b[0m\u001b[0;37m[INFO]            2300          0.995          0.012          0.989          0.020 *\n",
      "\u001b[0m\u001b[0;37m[INFO]            2400          0.995          0.012          0.990          0.019 *\n",
      "\u001b[0m\u001b[0;37m[INFO]            2500          0.995          0.012          0.991          0.017 *\n",
      "\u001b[0m\u001b[0;37m[INFO]            2600          0.996          0.011          0.992          0.017 *\n",
      "\u001b[0m\u001b[0;37m[INFO]            2700          0.996          0.011          0.992          0.017\n",
      "\u001b[0m\u001b[0;37m[INFO]            2800          0.997          0.009          0.991          0.017\n",
      "\u001b[0m\u001b[0;37m[INFO]            2900          0.997          0.010          0.993          0.015 *\n",
      "\u001b[0m\u001b[0;37m[INFO]            3000          0.997          0.010          0.992          0.016\n",
      "\u001b[0m\u001b[0;37m[INFO]            3100          0.997          0.009          0.993          0.015 *\n",
      "\u001b[0m\u001b[0;37m[INFO]            3200          0.997          0.009          0.993          0.015\n",
      "\u001b[0m\u001b[0;37m[INFO]            3300          0.997          0.009          0.994          0.014 *\n",
      "\u001b[0m\u001b[0;37m[INFO]            3400          0.998          0.008          0.994          0.015\n",
      "\u001b[0m\u001b[0;37m[INFO]            3500          0.998          0.008          0.994          0.015\n",
      "\u001b[0m\u001b[0;37m[INFO]            3600          0.998          0.008          0.994          0.015\n",
      "\u001b[0m\u001b[0;37m[INFO]            3700          0.998          0.009          0.993          0.015\n",
      "\u001b[0m\u001b[0;37m[INFO]            3800          0.998          0.007          0.993          0.016\n",
      "\u001b[0m\u001b[0;37m[INFO]            3900          0.997          0.009          0.993          0.016\n",
      "\u001b[0m\u001b[0;37m[INFO]            4000          0.998          0.008          0.993          0.016\n",
      "\u001b[0m\u001b[0;37m[INFO]            4100          0.998          0.007          0.993          0.015\n",
      "\u001b[0m\u001b[0;37m[INFO]            4200          0.998          0.007          0.993          0.015\n",
      "\u001b[0m\u001b[0;37m[INFO]            4300          0.999          0.006          0.994          0.014\n",
      "\u001b[0m\u001b[0;37m[INFO]            4400          0.998          0.007          0.993          0.015\n",
      "\u001b[0m\u001b[0;37m[INFO]            4500          0.999          0.006          0.993          0.015\n",
      "\u001b[0m\u001b[0;37m[INFO]            4600          0.998          0.007          0.993          0.015\n",
      "\u001b[0m\u001b[0;37m[INFO]            4700          0.999          0.007          0.993          0.015\n",
      "\u001b[0m\u001b[0;37m[INFO]            4800          0.999          0.007          0.993          0.015\n",
      "\u001b[0m\u001b[0;37m[INFO]            4900          0.998          0.007          0.994          0.015\n",
      "\u001b[0m\u001b[0;37m[INFO]            5000          0.999          0.006          0.993          0.015\n",
      "\u001b[0m\u001b[0;37m[INFO]            5100          0.999          0.006          0.993          0.016\n",
      "\u001b[0m\u001b[0;37m[INFO]            5200          0.999          0.006          0.994          0.015\n",
      "\u001b[0m\u001b[0;37m[INFO]            5300          0.999          0.006          0.993          0.015\n",
      "\u001b[0m\u001b[0;37m[INFO]            5400          0.998          0.007          0.994          0.015\n",
      "\u001b[0m\u001b[0;37m[INFO]            5500          0.999          0.006          0.993          0.015\n",
      "\u001b[0m\u001b[0;37m[INFO]            5600          0.998          0.007          0.992          0.017\n",
      "\u001b[0m\u001b[0;37m[INFO]            5700          0.999          0.006          0.993          0.015\n",
      "\u001b[0m\u001b[0;37m[INFO]            5800          0.999          0.006          0.992          0.016\n",
      "\u001b[0m\u001b[0;37m[INFO]            5900          0.999          0.006          0.992          0.016\n",
      "\u001b[0m\u001b[0;37m[INFO]            6000          0.999          0.007          0.992          0.017\n",
      "\u001b[0m\u001b[0;37m[INFO]            6100          0.998          0.008          0.993          0.016\n",
      "\u001b[0m\u001b[0;37m[INFO]            6200          0.999          0.006          0.993          0.015\n",
      "\u001b[0m\u001b[0;37m[INFO]            6300          0.999          0.006          0.992          0.016\n",
      "\u001b[0m\u001b[0;37m[INFO]            6400          0.999          0.006          0.993          0.016\n",
      "\u001b[0m\u001b[0;37m[INFO]            6500          0.999          0.006          0.993          0.015\n",
      "\u001b[0m\u001b[0;37m[INFO]            6600          0.999          0.006          0.992          0.016\n",
      "\u001b[0m\u001b[0;37m[INFO]            6700          0.999          0.006          0.993          0.015\n",
      "\u001b[0m\u001b[0;37m[INFO]            6800          0.998          0.007          0.991          0.017\n",
      "\u001b[0m\u001b[0;37m[INFO]            6900          0.999          0.005          0.992          0.016\n",
      "\u001b[0m\u001b[0;37m[INFO]            7000          0.999          0.006          0.993          0.015\n",
      "\u001b[0m\u001b[0;37m[INFO]            7100          0.999          0.006          0.992          0.016\n",
      "\u001b[0m\u001b[0;37m[INFO]            7200          0.999          0.006          0.992          0.017\n",
      "\u001b[0m\u001b[0;37m[INFO]            7300          0.999          0.006          0.993          0.015\n",
      "\u001b[0m\u001b[0;37m[INFO]            7400          0.999          0.006          0.993          0.015\n",
      "\u001b[0m\u001b[0;37m[INFO]            7500          0.999          0.006          0.993          0.016\n",
      "\u001b[0m\u001b[0;37m[INFO]            7600          0.999          0.006          0.993          0.015\n",
      "\u001b[0m\u001b[0;37m[INFO]            7700          0.999          0.006          0.993          0.016\n",
      "\u001b[0m\u001b[0;37m[INFO]            7800          0.999          0.006          0.992          0.016\n",
      "\u001b[0m\u001b[0;37m[INFO]            7900          0.999          0.006          0.992          0.016\n",
      "\u001b[0m\u001b[0;37m[INFO]            8000          0.999          0.006          0.993          0.016\n",
      "\u001b[0m\u001b[0;37m[INFO]            8100          0.999          0.006          0.993          0.016\n",
      "\u001b[0m\u001b[0;37m[INFO]            8200          0.999          0.006          0.993          0.016\n",
      "\u001b[0m\u001b[0;37m[INFO]            8300          0.999          0.005          0.993          0.016\n",
      "\u001b[0m\u001b[0;37m[INFO]            8400          0.999          0.005          0.993          0.016\n"
     ]
    },
    {
     "name": "stdout",
     "output_type": "stream",
     "text": [
      "\u001b[0m\u001b[0;37m[INFO]            8500          0.999          0.006          0.993          0.015\n",
      "\u001b[0m\u001b[0;37m[INFO]            8600          0.999          0.006          0.992          0.017\n",
      "\u001b[0m\u001b[0;37m[INFO]            8700          0.999          0.006          0.993          0.015\n",
      "\u001b[0m\u001b[0;37m[INFO]            8800          0.999          0.005          0.993          0.016\n",
      "\u001b[0m\u001b[0;37m[INFO]            8900          0.999          0.006          0.993          0.015\n",
      "\u001b[0m\u001b[0;37m[INFO]            9000          0.999          0.005          0.992          0.016\n",
      "\u001b[0m\u001b[0;37m[INFO]            9100          0.999          0.005          0.992          0.016\n",
      "\u001b[0m\u001b[0;37m[INFO]            9200          0.998          0.007          0.993          0.015\n",
      "\u001b[0m\u001b[0;37m[INFO]            9300          0.999          0.006          0.991          0.017\n",
      "\u001b[0m\u001b[0;37m[INFO]            9400          0.999          0.005          0.993          0.016\n",
      "\u001b[0m\u001b[0;37m[INFO]            9500          0.999          0.006          0.993          0.015\n",
      "\u001b[0m\u001b[0;37m[INFO]            9600          0.999          0.006          0.992          0.017\n",
      "\u001b[0m\u001b[0;37m[INFO]            9700          0.999          0.006          0.993          0.015\n",
      "\u001b[0m\u001b[0;37m[INFO]            9800          0.999          0.006          0.993          0.016\n",
      "\u001b[0m\u001b[0;37m[INFO]            9900          0.999          0.005          0.993          0.016\n",
      "\u001b[0m\u001b[0;37m[INFO]           10000          0.999          0.006          0.993          0.015\n",
      "\u001b[0m\u001b[0;37m[INFO]           10100          0.999          0.006          0.992          0.016\n",
      "\u001b[0m\u001b[0;37m[INFO]           10200          0.999          0.006          0.992          0.016\n",
      "\u001b[0m\u001b[0;37m[INFO]           10300          0.999          0.006          0.992          0.017\n",
      "\u001b[0m\u001b[0;37m[INFO]           10400          0.999          0.006          0.992          0.016\n",
      "\u001b[0m\u001b[0;37m[INFO]           10500          0.999          0.006          0.993          0.016\n",
      "\u001b[0m\u001b[0;37m[INFO]           10600          0.999          0.006          0.992          0.016\n",
      "\u001b[0m\u001b[0;37m[INFO]           10700          0.999          0.006          0.993          0.015\n",
      "\u001b[0m\u001b[0;37m[INFO]           10800          0.999          0.005          0.992          0.016\n",
      "\u001b[0m\u001b[0;37m[INFO]           10900          0.999          0.006          0.992          0.016\n",
      "\u001b[0m\u001b[0;37m[INFO]           11000          0.999          0.005          0.992          0.016\n",
      "\u001b[0m\u001b[0;37m[INFO]           11100          0.999          0.006          0.992          0.016\n",
      "\u001b[0m\u001b[0;37m[INFO]           11200          0.999          0.006          0.993          0.015\n",
      "\u001b[0m\u001b[0;37m[INFO]           11300          0.999          0.006          0.992          0.016\n",
      "\u001b[0m\u001b[0;37m[INFO]           11400          0.999          0.005          0.993          0.016\n",
      "\u001b[0m\u001b[0;37m[INFO]           11500          0.999          0.005          0.992          0.016\n",
      "\u001b[0m\u001b[0;37m[INFO]           11600          0.999          0.005          0.993          0.016\n",
      "\u001b[0m\u001b[0;37m[INFO]           11700          0.999          0.006          0.993          0.016\n",
      "\u001b[0m\u001b[0;37m[INFO]           11800          0.999          0.006          0.993          0.016\n",
      "\u001b[0m\u001b[0;37m[INFO]           11900          0.999          0.005          0.993          0.016\n",
      "\u001b[0m\u001b[0;37m[INFO]           12000          0.999          0.006          0.992          0.016\n",
      "\u001b[0m\u001b[0;37m[INFO]           12100          0.999          0.005          0.992          0.016\n",
      "\u001b[0m\u001b[0;37m[INFO]           12200          0.999          0.005          0.993          0.016\n",
      "\u001b[0m\u001b[0;37m[INFO]           12300          0.999          0.005          0.993          0.016\n",
      "\u001b[0m\u001b[0;37m[INFO]           12400          0.999          0.006          0.992          0.017\n",
      "\u001b[0m\u001b[0;37m[INFO]           12500          0.999          0.006          0.992          0.017\n",
      "\u001b[0m\u001b[0;37m[INFO]           12600          0.999          0.006          0.992          0.017\n",
      "\u001b[0m\u001b[0;37m[INFO]           12700          0.999          0.006          0.991          0.017\n",
      "\u001b[0m\u001b[0;37m[INFO]           12800          0.999          0.005          0.992          0.016\n",
      "\u001b[0m\u001b[0;37m[INFO]           12900          0.999          0.006          0.993          0.015\n",
      "\u001b[0m\u001b[0;37m[INFO]           13000          0.999          0.006          0.991          0.017\n",
      "\u001b[0m\u001b[0;37m[INFO]           13100          0.999          0.005          0.992          0.016\n",
      "\u001b[0m\u001b[0;37m[INFO]           13200          0.999          0.006          0.992          0.016\n",
      "\u001b[0m\u001b[0;37m[INFO] Training completed in 23.25 seconds.\n",
      "\u001b[0m\u001b[0;37m[INFO] ===========================================================================\n",
      "\n",
      "\u001b[0m\u001b[0;37m[INFO] Performance statistics based on transformed data [standardize, mean]:\n",
      "\u001b[0m\u001b[0;37m[INFO] Train R2   Score: 0.9970\n",
      "\u001b[0m\u001b[0;37m[INFO] Test  R2   Score: 0.9941\n",
      "\u001b[0m\u001b[0;37m[INFO] Train RMSD Score: 0.0095\n",
      "\u001b[0m\u001b[0;37m[INFO] Test  RMSD Score: 0.0142\n",
      "\n",
      "\u001b[0m\u001b[0;37m[INFO] Performance statistics based on original data:\n",
      "\u001b[0m\u001b[0;37m[INFO] Train R2   Score: 0.9989\n",
      "\u001b[0m\u001b[0;37m[INFO] Test  R2   Score: 0.9930\n",
      "\u001b[0m\u001b[0;37m[INFO] Train RMSD Score: 0.0046\n",
      "\u001b[0m\u001b[0;37m[INFO] Test  RMSD Score: 0.0124\n",
      "\n",
      "\u001b[0m"
     ]
    }
   ],
   "source": [
    "# retrain all the emulator with the same hyperparameters\n",
    "all_hyperparams = pickle.load(open('all_hyperparams.pkl', 'rb'))\n",
    "\n",
    "for name in datasets_to_retrain:\n",
    "    \n",
    "    feature_transform = all_hyperparams[f'{name}_BayesNeuralNet']['feature_transform']\n",
    "    target_transform = all_hyperparams[f'{name}_BayesNeuralNet']['target_transform']\n",
    "    hyperparams = all_hyperparams[f'{name}_BayesNeuralNet']['hyperparams']\n",
    "    \n",
    "    hyperparams.pop('kind')\n",
    "    \n",
    "    \n",
    "    model  = BayesNeuralNet(**hyperparams)\n",
    "    emulator = Emulator(\n",
    "            dataset=name, model=model, feature_transform=feature_transform, target_transform=target_transform,\n",
    "        )\n",
    "    scores = emulator.train(retrain=True)\n",
    "    all_hyperparams[f'{name}_BayesNeuralNet']['scores'] = scores\n",
    "    emulator.save(f'{name}_BayesNeuralNet', include_cv=False)\n"
   ]
  },
  {
   "cell_type": "code",
   "execution_count": null,
   "id": "ff125682",
   "metadata": {},
   "outputs": [],
   "source": []
  },
  {
   "cell_type": "code",
   "execution_count": 19,
   "id": "827027bf",
   "metadata": {},
   "outputs": [
    {
     "name": "stderr",
     "output_type": "stream",
     "text": [
      "/home/riley/Software/anaconda3/envs/olympus/lib/python3.7/site-packages/seaborn/distributions.py:2619: FutureWarning: `distplot` is a deprecated function and will be removed in a future version. Please adapt your code to use either `displot` (a figure-level function with similar flexibility) or `histplot` (an axes-level function for histograms).\n",
      "  warnings.warn(msg, FutureWarning)\n"
     ]
    },
    {
     "data": {
      "text/plain": [
       "<AxesSubplot:xlabel='overpotential', ylabel='Density'>"
      ]
     },
     "execution_count": 19,
     "metadata": {},
     "output_type": "execute_result"
    },
    {
     "data": {
      "image/png": "[encoded data removed]",
      "text/plain": [
       "<Figure size 432x288 with 1 Axes>"
      ]
     },
     "metadata": {
      "needs_background": "light"
     },
     "output_type": "display_data"
    }
   ],
   "source": [
    "dset = Dataset(kind='oer_plate_3496')\n",
    "sns.distplot(dset.data['overpotential'])\n",
    "sns.rugplot(dset.data['overpotential'])"
   ]
  },
  {
   "cell_type": "code",
   "execution_count": 18,
   "id": "88cc9433",
   "metadata": {},
   "outputs": [
    {
     "name": "stderr",
     "output_type": "stream",
     "text": [
      "/home/riley/Software/anaconda3/envs/olympus/lib/python3.7/site-packages/seaborn/distributions.py:2619: FutureWarning: `distplot` is a deprecated function and will be removed in a future version. Please adapt your code to use either `displot` (a figure-level function with similar flexibility) or `histplot` (an axes-level function for histograms).\n",
      "  warnings.warn(msg, FutureWarning)\n"
     ]
    },
    {
     "data": {
      "text/plain": [
       "<AxesSubplot:xlabel='overpotential', ylabel='Density'>"
      ]
     },
     "execution_count": 18,
     "metadata": {},
     "output_type": "execute_result"
    },
    {
     "data": {
      "image/png": "[encoded data removed]",
      "text/plain": [
       "<Figure size 432x288 with 1 Axes>"
      ]
     },
     "metadata": {
      "needs_background": "light"
     },
     "output_type": "display_data"
    }
   ],
   "source": [
    "dset = Dataset(kind='oer_plate_3851')\n",
    "sns.distplot(dset.data['overpotential'])\n",
    "sns.rugplot(dset.data['overpotential'])"
   ]
  },
  {
   "cell_type": "code",
   "execution_count": 17,
   "id": "7e847d60",
   "metadata": {},
   "outputs": [
    {
     "name": "stdout",
     "output_type": "stream",
     "text": [
      "0.372861\n"
     ]
    },
    {
     "name": "stderr",
     "output_type": "stream",
     "text": [
      "/home/riley/Software/anaconda3/envs/olympus/lib/python3.7/site-packages/seaborn/distributions.py:2619: FutureWarning: `distplot` is a deprecated function and will be removed in a future version. Please adapt your code to use either `displot` (a figure-level function with similar flexibility) or `histplot` (an axes-level function for histograms).\n",
      "  warnings.warn(msg, FutureWarning)\n"
     ]
    },
    {
     "data": {
      "text/plain": [
       "<AxesSubplot:xlabel='overpotential', ylabel='Density'>"
      ]
     },
     "execution_count": 17,
     "metadata": {},
     "output_type": "execute_result"
    },
    {
     "data": {
      "image/png": "[encoded data removed]",
      "text/plain": [
       "<Figure size 432x288 with 1 Axes>"
      ]
     },
     "metadata": {
      "needs_background": "light"
     },
     "output_type": "display_data"
    }
   ],
   "source": [
    "dset = Dataset(kind='oer_plate_3860')\n",
    "print(np.amin(dset.data['overpotential']))\n",
    "sns.distplot(dset.data['overpotential'])\n",
    "sns.rugplot(dset.data['overpotential'])"
   ]
  },
  {
   "cell_type": "code",
   "execution_count": 16,
   "id": "755ddbf1",
   "metadata": {},
   "outputs": [
    {
     "name": "stdout",
     "output_type": "stream",
     "text": [
      "0.3945909999999999\n"
     ]
    },
    {
     "name": "stderr",
     "output_type": "stream",
     "text": [
      "/home/riley/Software/anaconda3/envs/olympus/lib/python3.7/site-packages/seaborn/distributions.py:2619: FutureWarning: `distplot` is a deprecated function and will be removed in a future version. Please adapt your code to use either `displot` (a figure-level function with similar flexibility) or `histplot` (an axes-level function for histograms).\n",
      "  warnings.warn(msg, FutureWarning)\n"
     ]
    },
    {
     "data": {
      "text/plain": [
       "<AxesSubplot:xlabel='overpotential', ylabel='Density'>"
      ]
     },
     "execution_count": 16,
     "metadata": {},
     "output_type": "execute_result"
    },
    {
     "data": {
      "image/png": "[encoded data removed]",
      "text/plain": [
       "<Figure size 432x288 with 1 Axes>"
      ]
     },
     "metadata": {
      "needs_background": "light"
     },
     "output_type": "display_data"
    }
   ],
   "source": [
    "dset = Dataset(kind='oer_plate_4098')\n",
    "print(np.amin(dset.data['overpotential']))\n",
    "sns.distplot(dset.data['overpotential'])\n",
    "sns.rugplot(dset.data['overpotential'])"
   ]
  },
  {
   "cell_type": "code",
   "execution_count": null,
   "id": "7b1478ef",
   "metadata": {},
   "outputs": [],
   "source": []
  }
 ],
 "metadata": {
  "kernelspec": {
   "display_name": "olympus",
   "language": "python",
   "name": "olympus"
  },
  "language_info": {
   "codemirror_mode": {
    "name": "ipython",
    "version": 3
   },
   "file_extension": ".py",
   "mimetype": "text/x-python",
   "name": "python",
   "nbconvert_exporter": "python",
   "pygments_lexer": "ipython3",
   "version": "3.7.12"
  }
 },
 "nbformat": 4,
 "nbformat_minor": 5
}
