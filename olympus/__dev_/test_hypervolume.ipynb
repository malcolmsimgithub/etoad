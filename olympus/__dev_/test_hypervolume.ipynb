{
 "cells": [
  {
   "cell_type": "code",
   "execution_count": 151,
   "id": "76fe1fdd",
   "metadata": {},
   "outputs": [
    {
     "name": "stdout",
     "output_type": "stream",
     "text": [
      "The autoreload extension is already loaded. To reload it, use:\n",
      "  %reload_ext autoreload\n"
     ]
    }
   ],
   "source": [
    "%load_ext autoreload\n",
    "%autoreload 2"
   ]
  },
  {
   "cell_type": "code",
   "execution_count": 152,
   "id": "792c7578",
   "metadata": {},
   "outputs": [],
   "source": [
    "import time\n",
    "import numpy as np\n",
    "import pandas as pd \n",
    "import matplotlib.pyplot as plt\n",
    "import seaborn as sns\n",
    "\n",
    "from olympus.utils.misc import get_pareto, get_hypervolume, get_cells\n",
    "from olympus.scalarizers import Scalarizer\n",
    "from olympus.campaigns import ParameterSpace\n",
    "from olympus.objects import ParameterContinuous"
   ]
  },
  {
   "cell_type": "code",
   "execution_count": 110,
   "id": "8cd8e4d4",
   "metadata": {},
   "outputs": [],
   "source": [
    "def objective(x):\n",
    "    return np.concatenate([ np.sin(x[:, 0]), np.cos(x[:, 1]) ] ).reshape(x.shape[0], 2) "
   ]
  },
  {
   "cell_type": "code",
   "execution_count": 111,
   "id": "a9a43a5d",
   "metadata": {},
   "outputs": [],
   "source": [
    "parameters = np.random.uniform(size=(10, 2))"
   ]
  },
  {
   "cell_type": "code",
   "execution_count": 112,
   "id": "bd93a9ec",
   "metadata": {},
   "outputs": [],
   "source": [
    "objectives = objective(parameters)"
   ]
  },
  {
   "cell_type": "code",
   "execution_count": 113,
   "id": "7937fbbc",
   "metadata": {},
   "outputs": [
    {
     "data": {
      "text/plain": [
       "(10, 2)"
      ]
     },
     "execution_count": 113,
     "metadata": {},
     "output_type": "execute_result"
    }
   ],
   "source": [
    "objectives.shape"
   ]
  },
  {
   "cell_type": "code",
   "execution_count": 114,
   "id": "37b2e38e",
   "metadata": {},
   "outputs": [
    {
     "data": {
      "text/plain": [
       "<matplotlib.collections.PathCollection at 0x7f021ed9b150>"
      ]
     },
     "execution_count": 114,
     "metadata": {},
     "output_type": "execute_result"
    },
    {
     "data": {
      "image/png": "[encoded data removed]",
      "text/plain": [
       "<Figure size 432x288 with 1 Axes>"
      ]
     },
     "metadata": {
      "needs_background": "light"
     },
     "output_type": "display_data"
    }
   ],
   "source": [
    "plt.scatter(objectives[:, 0], objectives[:, 1])"
   ]
  },
  {
   "cell_type": "code",
   "execution_count": 115,
   "id": "cd121367",
   "metadata": {},
   "outputs": [],
   "source": [
    "front = get_pareto(objectives)"
   ]
  },
  {
   "cell_type": "code",
   "execution_count": 116,
   "id": "40cf8148",
   "metadata": {},
   "outputs": [
    {
     "data": {
      "text/plain": [
       "(2, 2)"
      ]
     },
     "execution_count": 116,
     "metadata": {},
     "output_type": "execute_result"
    }
   ],
   "source": [
    "front.shape"
   ]
  },
  {
   "cell_type": "code",
   "execution_count": 117,
   "id": "0d9aa3be",
   "metadata": {},
   "outputs": [
    {
     "data": {
      "text/plain": [
       "<matplotlib.collections.PathCollection at 0x7f021ec3f1d0>"
      ]
     },
     "execution_count": 117,
     "metadata": {},
     "output_type": "execute_result"
    },
    {
     "data": {
      "image/png": "[encoded data removed]",
      "text/plain": [
       "<Figure size 432x288 with 1 Axes>"
      ]
     },
     "metadata": {
      "needs_background": "light"
     },
     "output_type": "display_data"
    }
   ],
   "source": [
    "plt.scatter(front[:, 0], front[:, 1])"
   ]
  },
  {
   "cell_type": "code",
   "execution_count": 118,
   "id": "3f0a5502",
   "metadata": {},
   "outputs": [
    {
     "data": {
      "text/plain": [
       "<matplotlib.collections.PathCollection at 0x7f021eb61f90>"
      ]
     },
     "execution_count": 118,
     "metadata": {},
     "output_type": "execute_result"
    },
    {
     "data": {
      "image/png": "[encoded data removed]",
      "text/plain": [
       "<Figure size 432x288 with 1 Axes>"
      ]
     },
     "metadata": {
      "needs_background": "light"
     },
     "output_type": "display_data"
    }
   ],
   "source": [
    "plt.scatter(objectives[:, 0], objectives[:, 1])\n",
    "plt.scatter(front[:, 0], front[:, 1], c='r', marker='*', s=100)"
   ]
  },
  {
   "cell_type": "code",
   "execution_count": 119,
   "id": "b03b2462",
   "metadata": {},
   "outputs": [],
   "source": [
    "w_ref = np.array([0.86120041, 0.99400258])  "
   ]
  },
  {
   "cell_type": "code",
   "execution_count": null,
   "id": "48688c31",
   "metadata": {},
   "outputs": [],
   "source": []
  },
  {
   "cell_type": "code",
   "execution_count": 120,
   "id": "03ae4255",
   "metadata": {},
   "outputs": [],
   "source": [
    "hypervolume = get_hypervolume(objectives, w_ref=w_ref)"
   ]
  },
  {
   "cell_type": "code",
   "execution_count": 121,
   "id": "87b69c74",
   "metadata": {},
   "outputs": [
    {
     "data": {
      "text/plain": [
       "0.5022417295923242"
      ]
     },
     "execution_count": 121,
     "metadata": {},
     "output_type": "execute_result"
    }
   ],
   "source": [
    "hypervolume"
   ]
  },
  {
   "cell_type": "code",
   "execution_count": 122,
   "id": "f7f63930",
   "metadata": {},
   "outputs": [
    {
     "data": {
      "text/plain": [
       "array([[0.80249703, 0.08875115],\n",
       "       [0.49614014, 0.68583518],\n",
       "       [0.03494056, 0.63338614],\n",
       "       [0.14466337, 0.80585723],\n",
       "       [0.50075701, 0.06664295],\n",
       "       [0.76914913, 0.79228611],\n",
       "       [0.62743649, 0.71383301],\n",
       "       [0.9460317 , 0.83582852],\n",
       "       [0.85077809, 0.88920133],\n",
       "       [0.99519535, 0.99073136]])"
      ]
     },
     "execution_count": 122,
     "metadata": {},
     "output_type": "execute_result"
    }
   ],
   "source": [
    "objectives"
   ]
  },
  {
   "cell_type": "code",
   "execution_count": 123,
   "id": "372dbfa7",
   "metadata": {},
   "outputs": [
    {
     "data": {
      "text/plain": [
       "array([0.99519535, 0.99073136])"
      ]
     },
     "execution_count": 123,
     "metadata": {},
     "output_type": "execute_result"
    }
   ],
   "source": [
    "np.amax(objectives,axis=0)"
   ]
  },
  {
   "cell_type": "code",
   "execution_count": 163,
   "id": "000d29a0",
   "metadata": {},
   "outputs": [],
   "source": [
    "param_space = ParameterSpace()\n",
    "param_space.add(ParameterContinuous(name='value_0'))\n",
    "param_space.add(ParameterContinuous(name='value_1'))\n",
    "scalarizer = Scalarizer(\n",
    "    kind='Hypervolume', \n",
    "    value_space=param_space,\n",
    "    goals=['min', 'min'],\n",
    ")"
   ]
  },
  {
   "cell_type": "code",
   "execution_count": 164,
   "id": "194f35a2",
   "metadata": {},
   "outputs": [
    {
     "name": "stdout",
     "output_type": "stream",
     "text": [
      "(10, 2)\n",
      "obs shape :  (1, 2)\n",
      "m_ :  0.1738100742415769\n",
      "obs shape :  (1, 2)\n",
      "m_ :  0.15216002648988503\n",
      "obs shape :  (1, 2)\n",
      "m_ :  0.34314245744789573\n",
      "obs shape :  (1, 2)\n",
      "m_ :  0.15724135523176536\n",
      "obs shape :  (1, 2)\n",
      "m_ :  0.4569047420764427\n",
      "obs shape :  (1, 2)\n",
      "m_ :  0.04485779940892563\n",
      "obs shape :  (1, 2)\n",
      "m_ :  0.10183182185162536\n",
      "obs shape :  (1, 2)\n",
      "m_ :  0.0076155889730613975\n",
      "obs shape :  (1, 2)\n",
      "m_ :  0.014662689190446259\n",
      "obs shape :  (1, 2)\n",
      "m_ :  0.0\n",
      "unormalized merit :  [0.17381007 0.15216003 0.34314246 0.15724136 0.45690474 0.0448578\n",
      " 0.10183182 0.00761559 0.01466269 0.        ]\n",
      "normalized merit :  [0.38040768 0.33302352 0.75101531 0.34414472 1.         0.09817757\n",
      " 0.2228732  0.01666778 0.03209135 0.        ]\n",
      "inverted merit :  [0.61959232 0.66697648 0.24898469 0.65585528 0.         0.90182243\n",
      " 0.7771268  0.98333222 0.96790865 1.        ]\n"
     ]
    }
   ],
   "source": [
    "merits = scalarizer.scalarize(objectives)"
   ]
  },
  {
   "cell_type": "code",
   "execution_count": 137,
   "id": "8d4f8b33",
   "metadata": {},
   "outputs": [
    {
     "data": {
      "text/plain": [
       "(19,)"
      ]
     },
     "execution_count": 137,
     "metadata": {},
     "output_type": "execute_result"
    }
   ],
   "source": [
    "merits.shape"
   ]
  },
  {
   "cell_type": "code",
   "execution_count": 138,
   "id": "8db727b2",
   "metadata": {},
   "outputs": [
    {
     "data": {
      "text/plain": [
       "(10, 2)"
      ]
     },
     "execution_count": 138,
     "metadata": {},
     "output_type": "execute_result"
    }
   ],
   "source": [
    "objectives.shape"
   ]
  },
  {
   "cell_type": "code",
   "execution_count": null,
   "id": "7016e179",
   "metadata": {},
   "outputs": [],
   "source": []
  },
  {
   "cell_type": "code",
   "execution_count": null,
   "id": "9f9b91e9",
   "metadata": {},
   "outputs": [],
   "source": []
  },
  {
   "cell_type": "code",
   "execution_count": null,
   "id": "6ce6d9c8",
   "metadata": {},
   "outputs": [],
   "source": []
  },
  {
   "cell_type": "code",
   "execution_count": null,
   "id": "7f9288e5",
   "metadata": {},
   "outputs": [],
   "source": []
  },
  {
   "cell_type": "code",
   "execution_count": null,
   "id": "9f7c5fa9",
   "metadata": {},
   "outputs": [],
   "source": []
  },
  {
   "cell_type": "code",
   "execution_count": null,
   "id": "a1e54732",
   "metadata": {},
   "outputs": [],
   "source": []
  }
 ],
 "metadata": {
  "kernelspec": {
   "display_name": "olympus",
   "language": "python",
   "name": "olympus"
  },
  "language_info": {
   "codemirror_mode": {
    "name": "ipython",
    "version": 3
   },
   "file_extension": ".py",
   "mimetype": "text/x-python",
   "name": "python",
   "nbconvert_exporter": "python",
   "pygments_lexer": "ipython3",
   "version": "3.7.12"
  }
 },
 "nbformat": 4,
 "nbformat_minor": 5
}
