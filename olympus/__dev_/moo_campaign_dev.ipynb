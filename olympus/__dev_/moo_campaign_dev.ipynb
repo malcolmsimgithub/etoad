{
 "cells": [
  {
   "cell_type": "code",
   "execution_count": 226,
   "id": "2b8ab04a",
   "metadata": {},
   "outputs": [
    {
     "name": "stdout",
     "output_type": "stream",
     "text": [
      "The autoreload extension is already loaded. To reload it, use:\n",
      "  %reload_ext autoreload\n"
     ]
    }
   ],
   "source": [
    "%load_ext autoreload\n",
    "%autoreload 2"
   ]
  },
  {
   "cell_type": "code",
   "execution_count": 227,
   "id": "25761e23",
   "metadata": {},
   "outputs": [],
   "source": [
    "import numpy as np\n",
    "import pandas as pd\n",
    "\n",
    "import matplotlib.pyplot as plt\n",
    "import seaborn as sns\n",
    "\n",
    "import olympus\n",
    "from olympus.objects import(\n",
    "        ParameterVector,\n",
    "        ParameterContinuous,\n",
    "        ParameterDiscrete,\n",
    "        ParameterCategorical,\n",
    ")\n",
    "from olympus.evaluators import Evaluator\n",
    "from olympus.planners import Planner\n",
    "from olympus.campaigns import Campaign, ParameterSpace\n",
    "from olympus.datasets import Dataset\n",
    "from olympus.surfaces import Surface\n",
    "from olympus.scalarizers import Scalarizer, get_scalarizers_list"
   ]
  },
  {
   "cell_type": "code",
   "execution_count": 159,
   "id": "b7d66736",
   "metadata": {},
   "outputs": [
    {
     "data": {
      "text/plain": [
       "['Chimera', 'ConstrainedAsf', 'WeightedSum']"
      ]
     },
     "execution_count": 159,
     "metadata": {},
     "output_type": "execute_result"
    }
   ],
   "source": [
    "get_scalarizers_list()"
   ]
  },
  {
   "cell_type": "markdown",
   "id": "16eff924",
   "metadata": {},
   "source": [
    "## test multiobjective optimization"
   ]
  },
  {
   "cell_type": "code",
   "execution_count": 160,
   "id": "7980be9a",
   "metadata": {},
   "outputs": [
    {
     "name": "stdout",
     "output_type": "stream",
     "text": [
      "True\n"
     ]
    },
    {
     "name": "stderr",
     "output_type": "stream",
     "text": [
      "\u001b[1;33m[WARNING] Surface MultFonseca is only defined with 2 objectives: setting `value_dim`=2\n",
      "\u001b[0m"
     ]
    }
   ],
   "source": [
    "surface_moo = Surface(kind='MultFonseca')\n",
    "\n",
    "campaign = Campaign()\n",
    "campaign.set_param_space(surface_moo.param_space)\n",
    "campaign.set_value_space(surface_moo.value_space)\n",
    "\n",
    "print(campaign.is_moo)"
   ]
  },
  {
   "cell_type": "code",
   "execution_count": 161,
   "id": "4fc1d2d8",
   "metadata": {},
   "outputs": [
    {
     "name": "stdout",
     "output_type": "stream",
     "text": [
      "\n",
      "--> absolutes:   [False, False]\n",
      "--> goals:       ['min', 'min']\n",
      "--> tolerances:  [0.4, 0.2]\n",
      "--> value_space: Continuous (name='value_0', low=0.0, high=1.0, is_periodic=False)\n",
      "Continuous (name='value_1', low=0.0, high=1.0, is_periodic=False)\n"
     ]
    }
   ],
   "source": [
    "# initialize chimera asf\n",
    "tolerances = [0.4, 0.2]\n",
    "absolutes = [False, False]\n",
    "goals = ['min', 'min']\n",
    "scalarizer = Scalarizer(\n",
    "    kind='Chimera',\n",
    "    value_space=surface_moo.value_space,\n",
    "    tolerances=tolerances,\n",
    "    absolutes=absolutes,\n",
    "    goals=goals,\n",
    ")\n",
    "\n",
    "print(scalarizer)"
   ]
  },
  {
   "cell_type": "code",
   "execution_count": 162,
   "id": "dbbc8536",
   "metadata": {},
   "outputs": [],
   "source": [
    "# make some mock observations\n",
    "params = [\n",
    "    ParameterVector().from_dict({'param_0': 0.01, 'param_1': 0.99}),\n",
    "    ParameterVector().from_dict({'param_0': 0.99, 'param_1': 0.01}),\n",
    "    ParameterVector().from_dict({'param_0': 0.49, 'param_1': 0.51}),\n",
    "]\n"
   ]
  },
  {
   "cell_type": "code",
   "execution_count": 163,
   "id": "75dd7cdd",
   "metadata": {},
   "outputs": [
    {
     "data": {
      "text/plain": [
       "[ParamVector(value_0 = 0.432200228643724, value_1 = 0.9664397706162793),\n",
       " ParamVector(value_0 = 0.432200228643724, value_1 = 0.9664397706162793),\n",
       " ParamVector(value_0 = 0.08239332394014476, value_1 = 0.9457641723612471)]"
      ]
     },
     "execution_count": 163,
     "metadata": {},
     "output_type": "execute_result"
    }
   ],
   "source": [
    "values = []\n",
    "for param in params:\n",
    "    values.extend(\n",
    "        surface_moo.run(param.to_array(), return_paramvector=True)\n",
    "    )\n",
    "values"
   ]
  },
  {
   "cell_type": "code",
   "execution_count": 164,
   "id": "5055d655",
   "metadata": {},
   "outputs": [],
   "source": [
    "# add the first observation to the campaign\n",
    "\n",
    "campaign.add_and_scalarize(\n",
    "    params[0], values[0], scalarizer\n",
    ")"
   ]
  },
  {
   "cell_type": "code",
   "execution_count": 165,
   "id": "fb922e60",
   "metadata": {},
   "outputs": [
    {
     "data": {
      "text/plain": [
       "array([[0.43220023, 0.96643977]])"
      ]
     },
     "execution_count": 165,
     "metadata": {},
     "output_type": "execute_result"
    }
   ],
   "source": [
    "campaign.observations.get_values()"
   ]
  },
  {
   "cell_type": "code",
   "execution_count": 166,
   "id": "7cdf6d86",
   "metadata": {},
   "outputs": [
    {
     "data": {
      "text/plain": [
       "array([0.])"
      ]
     },
     "execution_count": 166,
     "metadata": {},
     "output_type": "execute_result"
    }
   ],
   "source": [
    "campaign.scalarized_observations.get_values()"
   ]
  },
  {
   "cell_type": "code",
   "execution_count": null,
   "id": "4ebf5e8c",
   "metadata": {},
   "outputs": [],
   "source": []
  },
  {
   "cell_type": "code",
   "execution_count": 167,
   "id": "5f2216a7",
   "metadata": {},
   "outputs": [],
   "source": [
    "campaign.add_and_scalarize(\n",
    "    params[1], values[1], scalarizer\n",
    ")"
   ]
  },
  {
   "cell_type": "code",
   "execution_count": 168,
   "id": "a0e5638d",
   "metadata": {},
   "outputs": [],
   "source": [
    "campaign.add_and_scalarize(\n",
    "    params[2], values[2], scalarizer\n",
    ")"
   ]
  },
  {
   "cell_type": "code",
   "execution_count": 169,
   "id": "95e42c09",
   "metadata": {},
   "outputs": [
    {
     "data": {
      "text/plain": [
       "array([[0.43220023, 0.96643977],\n",
       "       [0.43220023, 0.96643977],\n",
       "       [0.08239332, 0.94576417]])"
      ]
     },
     "execution_count": 169,
     "metadata": {},
     "output_type": "execute_result"
    }
   ],
   "source": [
    "campaign.observations.get_values()"
   ]
  },
  {
   "cell_type": "code",
   "execution_count": 170,
   "id": "b0bce9af",
   "metadata": {},
   "outputs": [
    {
     "data": {
      "text/plain": [
       "array([1., 1., 0.])"
      ]
     },
     "execution_count": 170,
     "metadata": {},
     "output_type": "execute_result"
    }
   ],
   "source": [
    "campaign.scalarized_observations.get_values()"
   ]
  },
  {
   "cell_type": "code",
   "execution_count": null,
   "id": "d6806751",
   "metadata": {},
   "outputs": [],
   "source": []
  },
  {
   "cell_type": "markdown",
   "id": "60576c9a",
   "metadata": {},
   "source": [
    "## Make sure single objective optimization doesnt break"
   ]
  },
  {
   "cell_type": "code",
   "execution_count": 171,
   "id": "f163951a",
   "metadata": {},
   "outputs": [],
   "source": [
    "surface_soo = Surface(kind='Dejong')\n",
    "\n",
    "campaign = Campaign()\n",
    "campaign.set_param_space(surface_soo.param_space)\n",
    "campaign.set_value_space(surface_soo.value_space)"
   ]
  },
  {
   "cell_type": "code",
   "execution_count": 172,
   "id": "89f32966",
   "metadata": {},
   "outputs": [],
   "source": [
    "# make some mock observations\n",
    "params = [\n",
    "    ParameterVector().from_dict({'param_0': 0.01, 'param_1': 0.99}),\n",
    "    ParameterVector().from_dict({'param_0': 0.99, 'param_1': 0.01}),\n",
    "    ParameterVector().from_dict({'param_0': 0.49, 'param_1': 0.51}),\n",
    "]\n"
   ]
  },
  {
   "cell_type": "code",
   "execution_count": 173,
   "id": "fce58af1",
   "metadata": {},
   "outputs": [
    {
     "data": {
      "text/plain": [
       "[ParamVector(value_0 = 4.427188724235731),\n",
       " ParamVector(value_0 = 4.427188724235731),\n",
       " ParamVector(value_0 = 0.6324555320336748)]"
      ]
     },
     "execution_count": 173,
     "metadata": {},
     "output_type": "execute_result"
    }
   ],
   "source": [
    "values = []\n",
    "for param in params:\n",
    "    values.extend(\n",
    "        surface_soo.run(param.to_array(), return_paramvector=True)\n",
    "    )\n",
    "values"
   ]
  },
  {
   "cell_type": "code",
   "execution_count": 174,
   "id": "1c408e43",
   "metadata": {},
   "outputs": [],
   "source": [
    "# add the first observation to the campaign\n",
    "\n",
    "campaign.add_observation(params[0], values[0])"
   ]
  },
  {
   "cell_type": "code",
   "execution_count": 175,
   "id": "a7e78caa",
   "metadata": {},
   "outputs": [
    {
     "data": {
      "text/plain": [
       "[]"
      ]
     },
     "execution_count": 175,
     "metadata": {},
     "output_type": "execute_result"
    }
   ],
   "source": [
    "campaign.observations.get_values()\n",
    "campaign.scalarized_observations.get_values()"
   ]
  },
  {
   "cell_type": "code",
   "execution_count": 176,
   "id": "3498c475",
   "metadata": {},
   "outputs": [],
   "source": [
    "campaign.add_observation(params[1], values[1])"
   ]
  },
  {
   "cell_type": "code",
   "execution_count": 177,
   "id": "aecd1754",
   "metadata": {},
   "outputs": [
    {
     "data": {
      "text/plain": [
       "array([[4.42718872],\n",
       "       [4.42718872]])"
      ]
     },
     "execution_count": 177,
     "metadata": {},
     "output_type": "execute_result"
    }
   ],
   "source": [
    "campaign.observations.get_values()\n",
    "#campaign.scalarized_observations.get_values()"
   ]
  },
  {
   "cell_type": "code",
   "execution_count": 178,
   "id": "03553d4d",
   "metadata": {},
   "outputs": [],
   "source": [
    "campaign.add_observation(params[2], values[2])"
   ]
  },
  {
   "cell_type": "code",
   "execution_count": 179,
   "id": "cc4d40c7",
   "metadata": {},
   "outputs": [
    {
     "data": {
      "text/plain": [
       "array([[4.42718872],\n",
       "       [4.42718872],\n",
       "       [0.63245553]])"
      ]
     },
     "execution_count": 179,
     "metadata": {},
     "output_type": "execute_result"
    }
   ],
   "source": [
    "campaign.observations.get_values()\n",
    "#campaign.scalarized_observations.get_values()"
   ]
  },
  {
   "cell_type": "code",
   "execution_count": null,
   "id": "5ecb87e6",
   "metadata": {},
   "outputs": [],
   "source": []
  },
  {
   "cell_type": "markdown",
   "id": "12481fb6",
   "metadata": {},
   "source": [
    "## Test closed loop optimization with high level Evaluator interface within Olympus"
   ]
  },
  {
   "cell_type": "code",
   "execution_count": 228,
   "id": "de36190f",
   "metadata": {},
   "outputs": [
    {
     "name": "stdout",
     "output_type": "stream",
     "text": [
      "is_moo :  True\n"
     ]
    },
    {
     "name": "stderr",
     "output_type": "stream",
     "text": [
      "\u001b[1;33m[WARNING] Surface MultFonseca is only defined with 2 objectives: setting `value_dim`=2\n",
      "\u001b[0m"
     ]
    }
   ],
   "source": [
    "surface_moo = Surface(kind='MultFonseca')\n",
    "\n",
    "campaign = Campaign()\n",
    "campaign.set_param_space(surface_moo.param_space)\n",
    "campaign.set_value_space(surface_moo.value_space)\n",
    "\n",
    "print('is_moo : ', campaign.is_moo)"
   ]
  },
  {
   "cell_type": "code",
   "execution_count": 229,
   "id": "68b4ef9b",
   "metadata": {},
   "outputs": [],
   "source": [
    "# initialize planner \n",
    "planner = Planner(kind='RandomSearch', goal='minimize')"
   ]
  },
  {
   "cell_type": "code",
   "execution_count": 230,
   "id": "b61ca0f8",
   "metadata": {},
   "outputs": [],
   "source": [
    "# initialize asf\n",
    "\n",
    "#---------\n",
    "# Chimera\n",
    "#---------\n",
    "\n",
    "# tolerances = [0.4, 0.2]\n",
    "# absolutes = [False, False]\n",
    "# goals = ['min', 'min']\n",
    "# scalarizer = Scalarizer(\n",
    "#     kind='Chimera',\n",
    "#     value_space=surface_moo.value_space,\n",
    "#     tolerances=tolerances,\n",
    "#     absolutes=absolutes,\n",
    "#     goals=goals,\n",
    "# )\n",
    "\n",
    "#-------------\n",
    "# WeightedSum\n",
    "#-------------\n",
    "\n",
    "weights = [0.5, 0.5]\n",
    "goals = ['min', 'min']\n",
    "\n",
    "scalarizer = Scalarizer(\n",
    "    kind='WeightedSum', \n",
    "    value_space=surface_moo.value_space,\n",
    "    weights=weights,\n",
    "    goals=goals\n",
    ")\n"
   ]
  },
  {
   "cell_type": "code",
   "execution_count": 231,
   "id": "43186a36",
   "metadata": {},
   "outputs": [],
   "source": [
    "evaluator = Evaluator(\n",
    "    planner=planner,\n",
    "    emulator=surface_moo,\n",
    "    campaign=campaign,\n",
    "    scalarizer=scalarizer,\n",
    "    database=None\n",
    ")"
   ]
  },
  {
   "cell_type": "code",
   "execution_count": 232,
   "id": "7e7cc070",
   "metadata": {},
   "outputs": [
    {
     "data": {
      "text/plain": [
       "<olympus.evaluators.evaluator.Evaluator at 0x7f81be64fc50>"
      ]
     },
     "execution_count": 232,
     "metadata": {},
     "output_type": "execute_result"
    }
   ],
   "source": [
    "evaluator"
   ]
  },
  {
   "cell_type": "code",
   "execution_count": 233,
   "id": "ff8ef011",
   "metadata": {},
   "outputs": [],
   "source": [
    "evaluator.optimize(num_iter=5)"
   ]
  },
  {
   "cell_type": "code",
   "execution_count": 234,
   "id": "ba7d1175",
   "metadata": {},
   "outputs": [
    {
     "data": {
      "text/plain": [
       "<Campaign (dataset=n/a, model=n/a, planner=RandomSearch, num_iter=5)>"
      ]
     },
     "execution_count": 234,
     "metadata": {},
     "output_type": "execute_result"
    }
   ],
   "source": [
    "campaign"
   ]
  },
  {
   "cell_type": "code",
   "execution_count": 235,
   "id": "f1e868ba",
   "metadata": {},
   "outputs": [
    {
     "data": {
      "text/plain": [
       "array([[0.59567145, 0.18897484],\n",
       "       [0.83325796, 0.01139659],\n",
       "       [0.32791269, 0.00397691],\n",
       "       [0.77236943, 0.31600847],\n",
       "       [0.27137353, 0.15102542]])"
      ]
     },
     "execution_count": 235,
     "metadata": {},
     "output_type": "execute_result"
    }
   ],
   "source": [
    "campaign.observations.get_params()"
   ]
  },
  {
   "cell_type": "code",
   "execution_count": 236,
   "id": "ad3789f0",
   "metadata": {},
   "outputs": [
    {
     "data": {
      "text/plain": [
       "array([[0.24487996, 0.91793087],\n",
       "       [0.39342493, 0.94436655],\n",
       "       [0.47174691, 0.79338649],\n",
       "       [0.14548148, 0.96066398],\n",
       "       [0.39291711, 0.816183  ]])"
      ]
     },
     "execution_count": 236,
     "metadata": {},
     "output_type": "execute_result"
    }
   ],
   "source": [
    "campaign.observations.get_values()"
   ]
  },
  {
   "cell_type": "code",
   "execution_count": 237,
   "id": "dead5e69",
   "metadata": {},
   "outputs": [
    {
     "data": {
      "text/plain": [
       "array([0.24462052, 1.        , 0.68634003, 0.        , 0.44444819])"
      ]
     },
     "execution_count": 237,
     "metadata": {},
     "output_type": "execute_result"
    }
   ],
   "source": [
    "campaign.scalarized_observations.get_values()"
   ]
  },
  {
   "cell_type": "code",
   "execution_count": 238,
   "id": "a6c98560",
   "metadata": {},
   "outputs": [],
   "source": [
    "best_values = campaign.best_values"
   ]
  },
  {
   "cell_type": "code",
   "execution_count": 239,
   "id": "574bd183",
   "metadata": {},
   "outputs": [
    {
     "data": {
      "text/plain": [
       "array([[0.24487996, 0.91793087],\n",
       "       [0.24487996, 0.91793087],\n",
       "       [0.24487996, 0.91793087],\n",
       "       [0.14548148, 0.96066398],\n",
       "       [0.14548148, 0.96066398]])"
      ]
     },
     "execution_count": 239,
     "metadata": {},
     "output_type": "execute_result"
    }
   ],
   "source": [
    "best_values.shape\n",
    "best_values"
   ]
  },
  {
   "cell_type": "code",
   "execution_count": 241,
   "id": "0ea61b19",
   "metadata": {},
   "outputs": [
    {
     "data": {
      "text/plain": [
       "[<matplotlib.lines.Line2D at 0x7f81be911c50>]"
      ]
     },
     "execution_count": 241,
     "metadata": {},
     "output_type": "execute_result"
    },
    {
     "data": {
      "image/png": "[encoded data removed]",
      "text/plain": [
       "<Figure size 576x288 with 2 Axes>"
      ]
     },
     "metadata": {
      "needs_background": "light"
     },
     "output_type": "display_data"
    }
   ],
   "source": [
    "fig, axes = plt.subplots(1, 2, figsize=(8,4))\n",
    "\n",
    "axes[0].plot(best_values[:, 0])\n",
    "axes[1].plot(best_values[:, 1])"
   ]
  },
  {
   "cell_type": "code",
   "execution_count": null,
   "id": "bff5fe5a",
   "metadata": {},
   "outputs": [],
   "source": []
  }
 ],
 "metadata": {
  "kernelspec": {
   "display_name": "olympus",
   "language": "python",
   "name": "olympus"
  },
  "language_info": {
   "codemirror_mode": {
    "name": "ipython",
    "version": 3
   },
   "file_extension": ".py",
   "mimetype": "text/x-python",
   "name": "python",
   "nbconvert_exporter": "python",
   "pygments_lexer": "ipython3",
   "version": "3.7.13"
  }
 },
 "nbformat": 4,
 "nbformat_minor": 5
}
