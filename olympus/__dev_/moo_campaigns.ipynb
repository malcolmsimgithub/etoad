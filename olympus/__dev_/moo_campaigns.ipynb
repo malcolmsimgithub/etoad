{
 "cells": [
  {
   "cell_type": "code",
   "execution_count": 1,
   "id": "460145a7",
   "metadata": {},
   "outputs": [],
   "source": [
    "%load_ext autoreload\n",
    "%autoreload 2"
   ]
  },
  {
   "cell_type": "code",
   "execution_count": 2,
   "id": "0092fd45",
   "metadata": {},
   "outputs": [],
   "source": [
    "import numpy as np\n",
    "import pandas as pd\n",
    "\n",
    "import olympus\n",
    "from olympus.objects import (\n",
    "    ParameterVector,\n",
    "    ParameterContinuous, \n",
    "    ParameterDiscrete,\n",
    "    ParameterCategorical,\n",
    ")\n",
    "from olympus.datasets import Dataset\n",
    "from olympus.campaigns import ParameterSpace, Campaign\n",
    "from olympus.surfaces import Surface"
   ]
  },
  {
   "cell_type": "code",
   "execution_count": 3,
   "id": "d32b0d7b",
   "metadata": {},
   "outputs": [
    {
     "name": "stdout",
     "output_type": "stream",
     "text": [
      "\n",
      "--> noise:     None\n",
      "--> param_dim: 2\n",
      "--> value_dim: 1\n",
      "value space length :  1\n",
      "['value_0']\n"
     ]
    }
   ],
   "source": [
    "# single-objective surface (Dejong has 2 parameters and 1 objective by default)\n",
    "soo_surface = Surface(kind='Dejong')\n",
    "print(soo_surface)\n",
    "\n",
    "soo_campaign = Campaign()\n",
    "soo_campaign.set_param_space(soo_surface.param_space)\n",
    "soo_campaign.set_value_space(soo_surface.value_space)\n",
    "print([v.name for v in soo_campaign.value_space])"
   ]
  },
  {
   "cell_type": "code",
   "execution_count": 4,
   "id": "ffef2336",
   "metadata": {},
   "outputs": [],
   "source": [
    "# test adding paramter when we have a ParameterVector() object for the pamater\n",
    "test_param_pv = ParameterVector().from_dict({'param_0':0.01, 'param_1':0.99})\n",
    "test_param_list_pv = [\n",
    "   ParameterVector().from_dict({'param_0':0.01, 'param_1':0.99}),\n",
    "   ParameterVector().from_dict({'param_0':0.99, 'param_1':0.01})\n",
    "]\n",
    "test_param_list = [0.01, 0.99]\n",
    "test_param_ndarray = np.array([0.01, 0.99])\n",
    "\n",
    "\n",
    "test_value_pv = ParameterVector().from_dict({'value_0':0.05})\n",
    "test_value_list_pv = [\n",
    "    ParameterVector().from_dict({'value_0':0.05}),\n",
    "    ParameterVector().from_dict({'value_0':0.95}),\n",
    "]\n",
    "test_value_list = [0.05]\n",
    "test_value_ndarray =  np.array([0.05])"
   ]
  },
  {
   "cell_type": "code",
   "execution_count": 5,
   "id": "1b2bd649",
   "metadata": {},
   "outputs": [
    {
     "data": {
      "text/plain": [
       "ParamVector(param_0 = 0.01, param_1 = 0.99)"
      ]
     },
     "execution_count": 5,
     "metadata": {},
     "output_type": "execute_result"
    }
   ],
   "source": [
    "test_param_pv"
   ]
  },
  {
   "cell_type": "code",
   "execution_count": 129,
   "id": "aa69fc90",
   "metadata": {},
   "outputs": [],
   "source": [
    "soo_campaign.add_observation(test_param_ndarray, test_value_ndarray)"
   ]
  },
  {
   "cell_type": "code",
   "execution_count": 130,
   "id": "0171e7d8",
   "metadata": {},
   "outputs": [
    {
     "data": {
      "text/plain": [
       "(1, 2)"
      ]
     },
     "execution_count": 130,
     "metadata": {},
     "output_type": "execute_result"
    }
   ],
   "source": [
    "soo_campaign.observations.get_params().shape\n",
    "#soo_campaign.observations.get_params()"
   ]
  },
  {
   "cell_type": "code",
   "execution_count": 131,
   "id": "fff871b3",
   "metadata": {},
   "outputs": [
    {
     "data": {
      "text/plain": [
       "(1, 1)"
      ]
     },
     "execution_count": 131,
     "metadata": {},
     "output_type": "execute_result"
    }
   ],
   "source": [
    "soo_campaign.observations.get_values().shape"
   ]
  },
  {
   "cell_type": "code",
   "execution_count": null,
   "id": "584372f7",
   "metadata": {},
   "outputs": [],
   "source": []
  },
  {
   "cell_type": "code",
   "execution_count": null,
   "id": "9728c582",
   "metadata": {},
   "outputs": [],
   "source": []
  },
  {
   "cell_type": "code",
   "execution_count": 151,
   "id": "562dfd91",
   "metadata": {},
   "outputs": [
    {
     "name": "stdout",
     "output_type": "stream",
     "text": [
      "\n",
      "--> noise:     None\n",
      "--> param_dim: 2\n",
      "--> value_dim: 2\n",
      "Continuous (name='value_0', low=0.0, high=1.0, is_periodic=False)\n",
      "Continuous (name='value_1', low=0.0, high=1.0, is_periodic=False)\n"
     ]
    },
    {
     "name": "stderr",
     "output_type": "stream",
     "text": [
      "\u001b[1;33m[WARNING] Surface MultFonseca is only defined with 2 objectives: setting `value_dim`=2\n",
      "\u001b[0m"
     ]
    }
   ],
   "source": [
    "# multi-objective surface (MultFonseca has 2 parameters and 2 objectives by default)\n",
    "moo_surface = Surface(kind='MultFonseca')\n",
    "print(moo_surface)\n",
    "\n",
    "moo_campaign = Campaign()\n",
    "moo_campaign.set_param_space(moo_surface.param_space)\n",
    "moo_campaign.set_value_space(moo_surface.value_space)\n",
    "print(moo_campaign.value_space)"
   ]
  },
  {
   "cell_type": "code",
   "execution_count": 152,
   "id": "c0b196ee",
   "metadata": {},
   "outputs": [],
   "source": [
    "# test adding paramter when we have a ParameterVector() object for the pamater\n",
    "test_param_pv = ParameterVector().from_dict({'param_0':0.01, 'param_1':0.99})\n",
    "test_param_list_pv = [\n",
    "   ParameterVector().from_dict({'param_0':0.01, 'param_1':0.99}),\n",
    "   ParameterVector().from_dict({'param_0':0.99, 'param_1':0.01})\n",
    "]\n",
    "test_param_list = [[0.01, 0.99]]\n",
    "test_param_ndarray = np.array([0.01, 0.99])\n",
    "\n",
    "\n",
    "test_value_pv = ParameterVector().from_dict({'value_0':0.05, 'value_1': 0.95 })\n",
    "test_value_list_pv = [\n",
    "    ParameterVector().from_dict({'value_0':0.05, 'value_1': 0.95}),\n",
    "    ParameterVector().from_dict({'value_0':0.95, 'value_1': 0.05}),\n",
    "]\n",
    "test_value_list = [[0.05, 0.95]]\n",
    "test_value_ndarray =  np.array([0.05, 0.95])"
   ]
  },
  {
   "cell_type": "code",
   "execution_count": 153,
   "id": "319bd5d9",
   "metadata": {},
   "outputs": [],
   "source": [
    "moo_campaign.add_observation(test_param_ndarray, test_value_ndarray)"
   ]
  },
  {
   "cell_type": "code",
   "execution_count": 154,
   "id": "e04ec836",
   "metadata": {},
   "outputs": [
    {
     "name": "stdout",
     "output_type": "stream",
     "text": [
      "(1, 2)\n"
     ]
    },
    {
     "data": {
      "text/plain": [
       "array([[0.01, 0.99]])"
      ]
     },
     "execution_count": 154,
     "metadata": {},
     "output_type": "execute_result"
    }
   ],
   "source": [
    "print(moo_campaign.observations.get_params().shape)\n",
    "moo_campaign.observations.get_params()"
   ]
  },
  {
   "cell_type": "code",
   "execution_count": 155,
   "id": "40dbe412",
   "metadata": {},
   "outputs": [
    {
     "name": "stdout",
     "output_type": "stream",
     "text": [
      "(1, 2)\n"
     ]
    },
    {
     "data": {
      "text/plain": [
       "array([[0.05, 0.95]])"
      ]
     },
     "execution_count": 155,
     "metadata": {},
     "output_type": "execute_result"
    }
   ],
   "source": [
    "print(moo_campaign.observations.get_values().shape)\n",
    "moo_campaign.observations.get_values()"
   ]
  },
  {
   "cell_type": "code",
   "execution_count": null,
   "id": "8413eeab",
   "metadata": {},
   "outputs": [],
   "source": []
  }
 ],
 "metadata": {
  "kernelspec": {
   "display_name": "olympus",
   "language": "python",
   "name": "olympus"
  },
  "language_info": {
   "codemirror_mode": {
    "name": "ipython",
    "version": 3
   },
   "file_extension": ".py",
   "mimetype": "text/x-python",
   "name": "python",
   "nbconvert_exporter": "python",
   "pygments_lexer": "ipython3",
   "version": "3.7.12"
  }
 },
 "nbformat": 4,
 "nbformat_minor": 5
}
