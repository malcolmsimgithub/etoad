{
 "cells": [
  {
   "cell_type": "code",
   "execution_count": 34,
   "id": "70ce26ea",
   "metadata": {},
   "outputs": [],
   "source": [
    "%load_ext autoreload\n",
    "%autoreload 2"
   ]
  },
  {
   "cell_type": "code",
   "execution_count": 35,
   "id": "1d580cdb",
   "metadata": {},
   "outputs": [],
   "source": [
    "from abc import abstractmethod\n",
    "\n",
    "import numpy as np\n",
    "import pandas as pd\n",
    "\n",
    "from chimera import Chimera\n",
    "\n",
    "import olympus\n",
    "from olympus.objects import (\n",
    "    ParameterContinuous,\n",
    "    ParameterDiscrete,\n",
    "    ParameterCategorical,\n",
    "    abstract_attribute, \n",
    "    ABCMeta,\n",
    "    Object\n",
    ")\n",
    "from olympus import Logger\n",
    "from olympus.campaigns import Campaign, ParameterSpace\n",
    "from olympus.surfaces import Surface\n",
    "from olympus.planners import Planner\n"
   ]
  },
  {
   "cell_type": "code",
   "execution_count": 2,
   "id": "4dea32b1",
   "metadata": {},
   "outputs": [
    {
     "name": "stderr",
     "output_type": "stream",
     "text": [
      "\u001b[1;33m[WARNING] Surface MultFonseca is only defined with 2 objectives: setting `value_dim`=2\n",
      "\u001b[0m"
     ]
    }
   ],
   "source": [
    "# get some random data from some objective functions\n",
    "\n",
    "num_samples = 5\n",
    "\n",
    "surface = Surface(kind='MultFonseca')\n",
    "\n",
    "planner = Planner(kind='RandomSearch')\n",
    "planner.set_param_space(surface.param_space)"
   ]
  },
  {
   "cell_type": "code",
   "execution_count": 3,
   "id": "53f897e0",
   "metadata": {},
   "outputs": [
    {
     "name": "stdout",
     "output_type": "stream",
     "text": [
      "[0.82204321 0.75652497]\n",
      "[0.03439438 0.82938552]\n",
      "[0.37782316 0.13733137]\n",
      "[0.18482863 0.6302519 ]\n",
      "[0.97385543 0.95748652]\n"
     ]
    }
   ],
   "source": [
    "params = []\n",
    "values = []\n",
    "for _ in range(num_samples):\n",
    "    p = planner.ask()\n",
    "    m = surface.run(p.to_array())[0][0]\n",
    "    print(p.to_array())\n",
    "    params.append(p.to_array())\n",
    "    values.append(m)\n",
    "    \n",
    "params = np.array(params)\n",
    "values = np.array(values)"
   ]
  },
  {
   "cell_type": "code",
   "execution_count": 127,
   "id": "ec91fda2",
   "metadata": {},
   "outputs": [
    {
     "data": {
      "text/plain": [
       "((5, 2), (5, 2))"
      ]
     },
     "execution_count": 127,
     "metadata": {},
     "output_type": "execute_result"
    }
   ],
   "source": [
    "params.shape, values.shape"
   ]
  },
  {
   "cell_type": "code",
   "execution_count": null,
   "id": "125d5fcc",
   "metadata": {},
   "outputs": [],
   "source": []
  },
  {
   "cell_type": "code",
   "execution_count": null,
   "id": "51e84445",
   "metadata": {},
   "outputs": [],
   "source": []
  },
  {
   "cell_type": "code",
   "execution_count": 128,
   "id": "9d010207",
   "metadata": {},
   "outputs": [],
   "source": [
    "class AbstractASF(Object, metaclass=ABCMeta):\n",
    "    \n",
    "    def __init__(self, *args, **kwargs):\n",
    "        Object.__init__(self, *args, **kwargs)\n",
    "        \n",
    "    \n",
    "    @abstractmethod\n",
    "    def scalarize(self, objectives):\n",
    "        \n",
    "        return None\n",
    "    \n",
    "    @abstractmethod\n",
    "    def validate_asf_params(self):\n",
    "        \n",
    "        return None"
   ]
  },
  {
   "cell_type": "markdown",
   "id": "eaccf55c",
   "metadata": {},
   "source": [
    "## Chimera"
   ]
  },
  {
   "cell_type": "code",
   "execution_count": 129,
   "id": "cb72e694",
   "metadata": {},
   "outputs": [],
   "source": [
    "class ChimeraASF(AbstractASF):\n",
    "    ''' The Chimera achievement scalarizing function. \n",
    "    Chem. Sci., 2018, 9, 7642\n",
    "    '''\n",
    "    def __init__(self, value_space, tolerances, absolutes, goals):\n",
    "        AbstractASF.__init__(**locals())\n",
    "        \n",
    "        self.validate_asf_params()\n",
    "        \n",
    "        self.chimera = Chimera(\n",
    "            tolerances=self.tolerances, absolutes=self.absolutes, goals=self.goals\n",
    "        )\n",
    "        \n",
    "        \n",
    "    def scalarize(self, objectives):\n",
    "        ''' this expects a (# obs, # objs) numpy array, which is scalarized \n",
    "        according to the given tolerances and goals. Returns a (# obs,) \n",
    "        numpy array corresponding to the merits of each observation, 0 corresponding\n",
    "        to the best value, and 1 corresponding to the worst value\n",
    "        '''\n",
    "        assert len(objectives.shape)==2\n",
    "        \n",
    "        return self.chimera.scalarize(objectives)\n",
    "    \n",
    "    def validate_asf_params(self):\n",
    "        \n",
    "        if not (len(self.tolerances)==len(self.absolutes)==len(self.goals)):\n",
    "            print('lengths of chimera params dont match')\n",
    "        if not len(self.tolerances)==len(self.value_space):\n",
    "            print('number of chimera params does not match the number of objectives')\n",
    "        \n",
    "        return None\n",
    "        \n",
    "    "
   ]
  },
  {
   "cell_type": "code",
   "execution_count": 130,
   "id": "150ae1d7",
   "metadata": {},
   "outputs": [],
   "source": [
    "tolerances = [0.4, 0.2]\n",
    "absolutes= [False, False]\n",
    "goals = ['min', 'min']\n",
    "\n",
    "asf = ChimeraASF(surface.value_space, tolerances, absolutes, goals)"
   ]
  },
  {
   "cell_type": "code",
   "execution_count": 131,
   "id": "f35546d1",
   "metadata": {},
   "outputs": [
    {
     "data": {
      "text/plain": [
       "array([[0.2781164 , 0.89562953],\n",
       "       [0.37497851, 0.82539293],\n",
       "       [0.44937087, 0.77839551],\n",
       "       [0.02954883, 0.98933738],\n",
       "       [0.07754557, 0.95416431]])"
      ]
     },
     "execution_count": 131,
     "metadata": {},
     "output_type": "execute_result"
    }
   ],
   "source": [
    "values"
   ]
  },
  {
   "cell_type": "code",
   "execution_count": 132,
   "id": "76032a6e",
   "metadata": {},
   "outputs": [
    {
     "data": {
      "text/plain": [
       "array([0.44378958, 0.75838409, 1.        , 0.18188625, 0.        ])"
      ]
     },
     "execution_count": 132,
     "metadata": {},
     "output_type": "execute_result"
    }
   ],
   "source": [
    "asf.scalarize(values)"
   ]
  },
  {
   "cell_type": "markdown",
   "id": "24bcb2de",
   "metadata": {},
   "source": [
    "## Weighted sum"
   ]
  },
  {
   "cell_type": "code",
   "execution_count": 142,
   "id": "aaa3ac4a",
   "metadata": {},
   "outputs": [],
   "source": [
    "class WeightedSumASF(AbstractASF):\n",
    "    ''' simple weighted sum acheivement scalarizing function\n",
    "    weights is a 1d numpy array of \n",
    "    '''\n",
    "    def __init__(self, value_space, weights, goals):\n",
    "        AbstractASF.__init__(**locals())\n",
    "        \n",
    "        self.validate_asf_params()\n",
    "        # normalize the weight values such that their magnitudes \n",
    "        # sum to 1\n",
    "        self.norm_weights = self.softmax(self.weights)\n",
    "        self.norm_weights = [weight if self.goals[idx]=='min' else -weight for idx, weight in enumerate(self.norm_weights)]\n",
    "        \n",
    "    def scalarize(self, objectives):\n",
    "        norm_objectives = self.normalize(objectives)\n",
    "        merit = np.sum(norm_objectives*self.norm_weights, axis=1)\n",
    "        # final normalization\n",
    "        # smaller merit values are best\n",
    "        merit = self.normalize(merit)\n",
    "    \n",
    "        return merit\n",
    "    \n",
    "    @staticmethod\n",
    "    def softmax(vector):\n",
    "        vector = vector/np.amax(weights)\n",
    "        \n",
    "        return np.exp(weights) / np.sum(np.exp(weights))\n",
    "    \n",
    "    @staticmethod\n",
    "    def normalize(vector):\n",
    "        min_ = np.amin(vector)\n",
    "        max_ = np.amax(vector)\n",
    "        ixs = np.where(np.abs(max_-min_)<1e-10)[0]\n",
    "        if not ixs.size == 0:\n",
    "            max_[ixs]=np.ones_like(ixs)\n",
    "            min_[ixs]=np.zeros_like(ixs)\n",
    "        return (vector - min_) / (max_ - min_)\n",
    "    \n",
    "    def validate_asf_params(self):\n",
    "        if not np.all(np.array(self.weights)>=0.):\n",
    "            print('weights must be non-negative real numbers')\n",
    "        if not len(self.weights)==len(self.value_space):\n",
    "            print('number of weights does not match the number of objectives')\n",
    "            "
   ]
  },
  {
   "cell_type": "code",
   "execution_count": 139,
   "id": "90ebb8dd",
   "metadata": {},
   "outputs": [],
   "source": [
    "weights = [1., 1.]\n",
    "goals   = ['max', 'max']\n",
    "\n",
    "asf = WeightedSumASF(surface.value_space, weights, goals)"
   ]
  },
  {
   "cell_type": "code",
   "execution_count": 145,
   "id": "0fd268df",
   "metadata": {},
   "outputs": [
    {
     "data": {
      "text/plain": [
       "array([[0.2781164 ],\n",
       "       [0.37497851],\n",
       "       [0.44937087],\n",
       "       [0.02954883],\n",
       "       [0.07754557]])"
      ]
     },
     "execution_count": 145,
     "metadata": {},
     "output_type": "execute_result"
    }
   ],
   "source": [
    "values\n",
    "test_values = values[:, 0].reshape(-1, 1)\n",
    "test_values"
   ]
  },
  {
   "cell_type": "code",
   "execution_count": 144,
   "id": "84c8cc46",
   "metadata": {},
   "outputs": [
    {
     "name": "stdout",
     "output_type": "stream",
     "text": [
      "norm objectives :  [[0.25898159 0.90236615]\n",
      " [0.35990185 0.8291869 ]\n",
      " [0.43741097 0.78022048]\n",
      " [0.         1.        ]\n",
      " [0.05000762 0.96335332]]\n",
      "norm weights :  [-0.5, -0.5]\n",
      "merit :  [-0.58067387 -0.59454438 -0.60881572 -0.5        -0.50668047]\n",
      "merit :  [0.25861933 0.13115148 0.         1.         0.9386075 ]\n"
     ]
    },
    {
     "data": {
      "text/plain": [
       "array([0.25861933, 0.13115148, 0.        , 1.        , 0.9386075 ])"
      ]
     },
     "execution_count": 144,
     "metadata": {},
     "output_type": "execute_result"
    }
   ],
   "source": [
    "asf.scalarize(values)"
   ]
  },
  {
   "cell_type": "markdown",
   "id": "f413e9fd",
   "metadata": {},
   "source": [
    "## c-ASF"
   ]
  },
  {
   "cell_type": "code",
   "execution_count": 147,
   "id": "3c0e3383",
   "metadata": {},
   "outputs": [],
   "source": [
    "class ConstrainedASF(AbstractASF):\n",
    "    \n",
    "    def __init__(self, value_space, lowers, uppers, delta_fs):\n",
    "        AbstractASF.__init__(**locals())\n",
    "        \n",
    "        self.validate_asf_params()\n",
    "        \n",
    "\n",
    "        \n",
    "    def scalarize(self, objectives):\n",
    "        return None\n",
    "    \n",
    "    def validate_asf_params(self):\n",
    "        if not (len(self.lowers)==len(self.uppers)==len(self.delta_fs)):\n",
    "            message = 'c-ASF parameters not the same length'\n",
    "            Logger.log(message, 'FATAL')\n",
    "        if not len(self.lowers) == len(self.value_space):\n",
    "            message = 'Number of c-ASF parameters do not match the number of objectives'\n",
    "            Logger.log(message, 'FATAL')\n",
    "            \n",
    "        "
   ]
  },
  {
   "cell_type": "code",
   "execution_count": null,
   "id": "67dd0c38",
   "metadata": {},
   "outputs": [],
   "source": []
  },
  {
   "cell_type": "code",
   "execution_count": null,
   "id": "204184bd",
   "metadata": {},
   "outputs": [],
   "source": []
  },
  {
   "cell_type": "code",
   "execution_count": 54,
   "id": "cfb0e95d",
   "metadata": {},
   "outputs": [],
   "source": [
    "from olympus.scalarizers import Scalarizer"
   ]
  },
  {
   "cell_type": "code",
   "execution_count": 55,
   "id": "2437117f",
   "metadata": {},
   "outputs": [
    {
     "name": "stderr",
     "output_type": "stream",
     "text": [
      "\u001b[1;33m[WARNING] Surface MultFonseca is only defined with 2 objectives: setting `value_dim`=2\n",
      "\u001b[0m"
     ]
    }
   ],
   "source": [
    "\n",
    "surface = Surface(kind='MultFonseca')\n",
    "\n",
    "planner = Planner(kind='RandomSearch')\n",
    "planner.set_param_space(surface.param_space)"
   ]
  },
  {
   "cell_type": "code",
   "execution_count": 56,
   "id": "2160828e",
   "metadata": {},
   "outputs": [],
   "source": [
    "# minimization of both objectives\n",
    "scalarizer = Scalarizer(\n",
    "    kind='Parego',\n",
    "    value_space=surface.value_space,\n",
    "    goals=['min', 'min'],\n",
    "    rho=0.05\n",
    ")"
   ]
  },
  {
   "cell_type": "code",
   "execution_count": 57,
   "id": "7d8f5763",
   "metadata": {},
   "outputs": [],
   "source": [
    "values = np.array([[0.01, 0.01], [0.99, 0.99]])"
   ]
  },
  {
   "cell_type": "code",
   "execution_count": 58,
   "id": "50c1c295",
   "metadata": {},
   "outputs": [
    {
     "data": {
      "text/plain": [
       "array([0., 1.])"
      ]
     },
     "execution_count": 58,
     "metadata": {},
     "output_type": "execute_result"
    }
   ],
   "source": [
    "scalarizer.scalarize(values)"
   ]
  },
  {
   "cell_type": "code",
   "execution_count": 62,
   "id": "941c2dd2",
   "metadata": {},
   "outputs": [],
   "source": [
    "# maximization of both objectives\n",
    "scalarizer = Scalarizer(\n",
    "    kind='Parego',\n",
    "    value_space=surface.value_space,\n",
    "    goals=['max', 'max'],\n",
    "    rho=0.05\n",
    ")"
   ]
  },
  {
   "cell_type": "code",
   "execution_count": 63,
   "id": "6d5d4855",
   "metadata": {},
   "outputs": [],
   "source": [
    "values = np.array([[0.01, 0.01], [0.99, 0.99]])"
   ]
  },
  {
   "cell_type": "code",
   "execution_count": 64,
   "id": "54381fa4",
   "metadata": {},
   "outputs": [
    {
     "data": {
      "text/plain": [
       "array([0., 1.])"
      ]
     },
     "execution_count": 64,
     "metadata": {},
     "output_type": "execute_result"
    }
   ],
   "source": [
    "scalarizer.scalarize(values)"
   ]
  },
  {
   "cell_type": "code",
   "execution_count": null,
   "id": "3f771519",
   "metadata": {},
   "outputs": [],
   "source": []
  },
  {
   "cell_type": "code",
   "execution_count": null,
   "id": "f8519a99",
   "metadata": {},
   "outputs": [],
   "source": []
  },
  {
   "cell_type": "code",
   "execution_count": 69,
   "id": "acb88a99",
   "metadata": {},
   "outputs": [],
   "source": [
    "# minimization of both objectives\n",
    "scalarizer = Scalarizer(\n",
    "    kind='WeightedSum',\n",
    "    value_space=surface.value_space,\n",
    "    goals=['max', 'max'],\n",
    "    weights=[0.5, 0.5],\n",
    ")"
   ]
  },
  {
   "cell_type": "code",
   "execution_count": 70,
   "id": "fdbbf993",
   "metadata": {},
   "outputs": [
    {
     "data": {
      "text/plain": [
       "array([1., 0.])"
      ]
     },
     "execution_count": 70,
     "metadata": {},
     "output_type": "execute_result"
    }
   ],
   "source": [
    "scalarizer.scalarize(values)"
   ]
  },
  {
   "cell_type": "code",
   "execution_count": null,
   "id": "e442d106",
   "metadata": {},
   "outputs": [],
   "source": []
  }
 ],
 "metadata": {
  "kernelspec": {
   "display_name": "Python 3 (ipykernel)",
   "language": "python",
   "name": "python3"
  },
  "language_info": {
   "codemirror_mode": {
    "name": "ipython",
    "version": 3
   },
   "file_extension": ".py",
   "mimetype": "text/x-python",
   "name": "python",
   "nbconvert_exporter": "python",
   "pygments_lexer": "ipython3",
   "version": "3.7.12"
  }
 },
 "nbformat": 4,
 "nbformat_minor": 5
}
