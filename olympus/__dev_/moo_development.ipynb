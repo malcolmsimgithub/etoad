{
 "cells": [
  {
   "cell_type": "code",
   "execution_count": 135,
   "metadata": {},
   "outputs": [
    {
     "name": "stdout",
     "output_type": "stream",
     "text": [
      "The autoreload extension is already loaded. To reload it, use:\n",
      "  %reload_ext autoreload\n"
     ]
    }
   ],
   "source": [
    "%load_ext autoreload\n",
    "%autoreload 2"
   ]
  },
  {
   "cell_type": "code",
   "execution_count": 136,
   "metadata": {},
   "outputs": [],
   "source": [
    "\n",
    "\n",
    "import numpy as np\n",
    "import pandas as pd\n",
    "\n",
    "import olympus\n",
    "from olympus.objects import ParameterVector\n",
    "from olympus.datasets import Dataset\n",
    "from olympus.campaigns import ParameterSpace, Campaign\n",
    "from olympus.surfaces import Surface\n",
    "from olympus.objects import (\n",
    "    ParameterContinuous, \n",
    "    ParameterDiscrete,\n",
    "    ParameterCategorical,\n",
    ")\n",
    "\n",
    "from chimera import Chimera"
   ]
  },
  {
   "cell_type": "code",
   "execution_count": 107,
   "metadata": {},
   "outputs": [],
   "source": [
    "# returns list of lists\n",
    "def fonseca(params): \n",
    "    ''' 2 parameters, 2 objectives, minimize '''\n",
    "    params = np.array(params)  \n",
    "#   vector = np.array([params[key_name]['samples'][0] for key_name in ['x', 'y']])\n",
    "    obj_0  = 1 - np.exp( - np.sum((params - 1. / np.sqrt(len(params)))**2))\n",
    "    obj_1  = 1 - np.exp( - np.sum((params + 1. / np.sqrt(len(params)))**2))\n",
    "#     params['obj_0'] = obj_0\n",
    "#     params['obj_1'] = obj_1\n",
    "    return [[obj_0, obj_1]]\n",
    "\n",
    "\n",
    "def viennet(params):\n",
    "    ''' 2 parameters, 3 objectives, minimize '''\n",
    "    params = np.array(params)\n",
    "    obj_0 = 0.5*(params[0]**2 + params[1]**2) + np.sin(params[0]**2 + params[1]**2)\n",
    "    obj_1 = (((3*params[0]-2*params[1]+4)**2)/8) + (((params[0]-params[1]+1)**2) / 27) + 15\n",
    "    obj_2 = (1/(params[0]**2 + params[1]**2 + 1)) - (1.1 * np.exp(-(params[0]**2 + params[1]**2)))\n",
    "    \n",
    "    return [[obj_0, obj_1, obj_2]]\n",
    "\n",
    "def zdt1(params):\n",
    "    ''' Zitzler–Deb–Thiele's function N. 1 \n",
    "    2-30 parameters, 2 objectives, minimize \n",
    "    '''\n",
    "    params = np.array(params)\n",
    "    obj_0 = params[0]\n",
    "    g = 1 + ((9/29)*np.sum(params))\n",
    "    h = 1 - np.sqrt(obj_0/g)\n",
    "    obj_1 = g*h\n",
    "    \n",
    "    return [[obj_0, obj_1]]\n",
    "\n",
    "\n",
    "def zdt2(params):\n",
    "    ''' Zitzler–Deb–Thiele's function N. 2\n",
    "    2-30 parameters, 2 objectives, minimize '''\n",
    "    params = np.array(params)\n",
    "    obj_0 = params[0]\n",
    "    g = 1 + ((9/29)*np.sum(params))\n",
    "    h = 1 - (obj_0/g)**2\n",
    "    obj_1 = g*h\n",
    "    \n",
    "    return [[obj_0, obj_1]]\n",
    "    \n",
    "    \n",
    "def zdt3(params):\n",
    "    ''' Zitzler–Deb–Thiele's function N. 2\n",
    "    2-30 parameters, 2 objectives, minimize '''\n",
    "    params = np.array(params)\n",
    "    obj_0 = params[0]\n",
    "    g = 1 + ((9/29)*np.sum(params))\n",
    "    h = 1 - np.sqrt(obj_0/g) - (obj_0/g)*np.sin(10*np.pi*obj_0)\n",
    "    obj_1 = g*h\n",
    "    \n",
    "    return [[obj_0, obj_1]]"
   ]
  },
  {
   "cell_type": "code",
   "execution_count": 108,
   "metadata": {},
   "outputs": [
    {
     "name": "stdout",
     "output_type": "stream",
     "text": [
      "Continuous (name='param_0', low=0.0, high=1.0, is_periodic=False)\n",
      "Continuous (name='param_1', low=0.0, high=1.0, is_periodic=False)\n"
     ]
    }
   ],
   "source": [
    "param_space = ParameterSpace()\n",
    "\n",
    "param_space.add(\n",
    "    ParameterContinuous(\n",
    "        name='param_0',\n",
    "        low=0., \n",
    "        high=1.,\n",
    "        \n",
    "    )\n",
    ")\n",
    "\n",
    "param_space.add(\n",
    "    ParameterContinuous(\n",
    "        name='param_1',\n",
    "        low=0., \n",
    "        high=1.,\n",
    "        \n",
    "    )\n",
    ")\n",
    "\n",
    "print(param_space)"
   ]
  },
  {
   "cell_type": "code",
   "execution_count": 109,
   "metadata": {},
   "outputs": [],
   "source": [
    "test_param = [0.01, 0.99]\n",
    "test_param_3 = [0.01, 0.99, 0.67]\n",
    "test_param_30 = [np.random.uniform() for _ in range(30)]\n",
    "test_param_40 = [np.random.uniform() for _ in range(40)]\n",
    "test_param_1 = [0.6]"
   ]
  },
  {
   "cell_type": "code",
   "execution_count": 110,
   "metadata": {},
   "outputs": [
    {
     "name": "stdout",
     "output_type": "stream",
     "text": [
      "fonseca :  [[0.432200228643724, 0.9664397706162793]]\n",
      "viennet : [[1.3207087583906336, 15.525327314814815, 0.09223984644941902]]\n",
      "ZDT 1 :  [[0.01, 1.195874533291739]]\n",
      "ZDT 2 :  [[0.01, 1.3102685117967332]]\n",
      "ZDT 3 :  [[0.01, 1.1927843633479895]]\n"
     ]
    }
   ],
   "source": [
    "print('fonseca : ', fonseca(test_param))\n",
    "print('viennet :', viennet(test_param))\n",
    "print('ZDT 1 : ', zdt1(test_param))\n",
    "print('ZDT 2 : ', zdt2(test_param))\n",
    "print('ZDT 3 : ', zdt3(test_param))"
   ]
  },
  {
   "cell_type": "code",
   "execution_count": null,
   "metadata": {},
   "outputs": [],
   "source": []
  },
  {
   "cell_type": "code",
   "execution_count": 111,
   "metadata": {},
   "outputs": [
    {
     "data": {
      "text/plain": [
       "[[4.427188724235731]]"
      ]
     },
     "execution_count": 111,
     "metadata": {},
     "output_type": "execute_result"
    }
   ],
   "source": [
    "surface = Surface(kind='Dejong')\n",
    "surface.run(test_param)"
   ]
  },
  {
   "cell_type": "code",
   "execution_count": 112,
   "metadata": {},
   "outputs": [
    {
     "name": "stderr",
     "output_type": "stream",
     "text": [
      "\u001b[1;33m[WARNING] Surface MultFonseca is only defined with 2 objectives: setting `value_dim`=2\n",
      "\u001b[0m"
     ]
    },
    {
     "data": {
      "text/plain": [
       "[[[0.432200228643724, 0.9664397706162793]]]"
      ]
     },
     "execution_count": 112,
     "metadata": {},
     "output_type": "execute_result"
    }
   ],
   "source": [
    "surface = Surface(kind='MultFonseca')\n",
    "surface.run(test_param)"
   ]
  },
  {
   "cell_type": "code",
   "execution_count": 113,
   "metadata": {},
   "outputs": [
    {
     "name": "stderr",
     "output_type": "stream",
     "text": [
      "\u001b[1;33m[WARNING] Surface MultViennet is only defined with 3 objectives: setting `value_dim`=3\n",
      "\u001b[0m"
     ]
    },
    {
     "data": {
      "text/plain": [
       "[[[1.3207087583906336, 15.525327314814815, 0.09223984644941902]]]"
      ]
     },
     "execution_count": 113,
     "metadata": {},
     "output_type": "execute_result"
    }
   ],
   "source": [
    "surface = Surface(kind='MultViennet')\n",
    "surface.run(test_param)"
   ]
  },
  {
   "cell_type": "code",
   "execution_count": 114,
   "metadata": {},
   "outputs": [
    {
     "name": "stderr",
     "output_type": "stream",
     "text": [
      "\u001b[1;33m[WARNING] Surface MultZdt1 is only defined with 2 objectives: setting `value_dim`=2\n",
      "\u001b[0m"
     ]
    },
    {
     "data": {
      "text/plain": [
       "[[[0.1928607048702562, 4.496591542997461]]]"
      ]
     },
     "execution_count": 114,
     "metadata": {},
     "output_type": "execute_result"
    }
   ],
   "source": [
    "surface = Surface(kind='MultZdt1', param_dim=30)\n",
    "surface.run(test_param_30)"
   ]
  },
  {
   "cell_type": "code",
   "execution_count": 115,
   "metadata": {},
   "outputs": [
    {
     "name": "stderr",
     "output_type": "stream",
     "text": [
      "\u001b[1;33m[WARNING] Surface MultZdt1 is only defined with 2 objectives: setting `value_dim`=2\n",
      "\u001b[0m"
     ]
    },
    {
     "data": {
      "text/plain": [
       "[[[0.01, 1.195874533291739]]]"
      ]
     },
     "execution_count": 115,
     "metadata": {},
     "output_type": "execute_result"
    }
   ],
   "source": [
    "surface = Surface(kind='MultZdt1')\n",
    "surface.run(test_param)"
   ]
  },
  {
   "cell_type": "code",
   "execution_count": null,
   "metadata": {},
   "outputs": [],
   "source": []
  },
  {
   "cell_type": "code",
   "execution_count": null,
   "metadata": {},
   "outputs": [],
   "source": []
  },
  {
   "cell_type": "code",
   "execution_count": 137,
   "metadata": {},
   "outputs": [],
   "source": [
    "#olympus.surfaces.get_surfaces_list()"
   ]
  },
  {
   "cell_type": "code",
   "execution_count": 170,
   "metadata": {},
   "outputs": [
    {
     "name": "stdout",
     "output_type": "stream",
     "text": [
      "\n",
      "--> noise:     None\n",
      "--> param_dim: 2\n",
      "--> value_dim: 2\n"
     ]
    },
    {
     "name": "stderr",
     "output_type": "stream",
     "text": [
      "\u001b[1;33m[WARNING] Surface MultFonseca is only defined with 2 objectives: setting `value_dim`=2\n",
      "\u001b[0m"
     ]
    }
   ],
   "source": [
    "surface = Surface(kind='MultFonseca')\n",
    "print(surface)\n",
    "\n",
    "campaign = Campaign()\n",
    "campaign.set_param_space(surface.param_space)\n",
    "campaign.set_value_space(surface.value_space)"
   ]
  },
  {
   "cell_type": "code",
   "execution_count": 171,
   "metadata": {},
   "outputs": [
    {
     "name": "stdout",
     "output_type": "stream",
     "text": [
      "\n",
      "--> accepts:          param_vector\n",
      "--> dataset_kind:     n/a\n",
      "--> emulator_type:    n/a\n",
      "--> goal:             minimize\n",
      "--> id:               97823643\n",
      "--> measurement_name: n/a\n",
      "--> model_kind:       n/a\n",
      "--> observations:     <olympus.campaigns.observations.Observations object at 0x7fb879634b10>\n",
      "--> param_space:      Continuous (name='param_0', low=0.0, high=1.0, is_periodic=False)\n",
      "Continuous (name='param_1', low=0.0, high=1.0, is_periodic=False)\n",
      "--> planner_kind:     n/a\n",
      "--> surface_kind:     n/a\n",
      "--> value_space:      Continuous (name='value_0', low=0.0, high=1.0, is_periodic=False)\n",
      "Continuous (name='value_1', low=0.0, high=1.0, is_periodic=False)\n"
     ]
    }
   ],
   "source": [
    "print(campaign)"
   ]
  },
  {
   "cell_type": "code",
   "execution_count": 176,
   "metadata": {},
   "outputs": [
    {
     "name": "stdout",
     "output_type": "stream",
     "text": [
      "samples :  ParamVector(param_0 = 0.01, param_1 = 0.99)\n",
      "measurements :  [0.432200228643724, 0.9664397706162793]\n",
      "VALUE :  [0.432200228643724, 0.9664397706162793]\n",
      "PARAM :  [ParamVector(param_0 = 0.01, param_1 = 0.99)]\n",
      "param :  ParamVector(param_0 = 0.01, param_1 = 0.99)\n"
     ]
    }
   ],
   "source": [
    "samples = ParameterVector().from_array([0.01, 0.99], param_space=surface.param_space)\n",
    "print('samples : ', samples)\n",
    "measurements = surface.run(samples.to_array())[0][0]\n",
    "\n",
    "print('measurements : ', measurements)\n",
    "\n",
    "\n",
    "campaign.add_observation([samples], measurements)\n"
   ]
  },
  {
   "cell_type": "code",
   "execution_count": 177,
   "metadata": {},
   "outputs": [
    {
     "data": {
      "text/plain": [
       "(6, 2)"
      ]
     },
     "execution_count": 177,
     "metadata": {},
     "output_type": "execute_result"
    }
   ],
   "source": [
    "campaign.observations.get_values().shape"
   ]
  },
  {
   "cell_type": "code",
   "execution_count": null,
   "metadata": {},
   "outputs": [],
   "source": []
  },
  {
   "cell_type": "code",
   "execution_count": null,
   "metadata": {},
   "outputs": [],
   "source": [
    "# ParamVector(param_0 = 0.01, param_1 = 0.99)\n",
    "# [[0.432200228643724, 0.9664397706162793]]\n",
    "# VALUE :  [[0.432200228643724, 0.9664397706162793]]\n",
    "# PARAM :  [ParamVector(param_0 = 0.01, param_1 = 0.99)]\n",
    "# param :  ParamVector(param_0 = 0.01, param_1 = 0.99)"
   ]
  }
 ],
 "metadata": {
  "kernelspec": {
   "display_name": "olympus",
   "language": "python",
   "name": "olympus"
  },
  "language_info": {
   "codemirror_mode": {
    "name": "ipython",
    "version": 3
   },
   "file_extension": ".py",
   "mimetype": "text/x-python",
   "name": "python",
   "nbconvert_exporter": "python",
   "pygments_lexer": "ipython3",
   "version": "3.7.12"
  }
 },
 "nbformat": 4,
 "nbformat_minor": 4
}
