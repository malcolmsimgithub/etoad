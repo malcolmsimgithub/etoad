{
 "cells": [
  {
   "cell_type": "code",
   "execution_count": 1,
   "id": "a9db12c7",
   "metadata": {},
   "outputs": [],
   "source": [
    "%load_ext autoreload\n",
    "%autoreload 2"
   ]
  },
  {
   "cell_type": "code",
   "execution_count": 2,
   "id": "a089a5aa",
   "metadata": {},
   "outputs": [],
   "source": [
    "import numpy as np\n",
    "import pandas as pd\n",
    "\n",
    "import matplotlib.pyplot as plt\n",
    "import seaborn as sns\n",
    "\n",
    "import olympus\n",
    "from olympus.datasets import Dataset\n",
    "from olympus.campaigns import Campaign, ParameterSpace\n",
    "from olympus.objects import ParameterVector\n",
    "from olympus.planners import Planner\n",
    "from olympus.emulators import Emulator\n",
    "from olympus.scalarizers import Scalarizer\n",
    "from olympus.evaluators import Evaluator"
   ]
  },
  {
   "cell_type": "markdown",
   "id": "bbd7ede2",
   "metadata": {},
   "source": [
    "## Suzuki datasets with categorical variable"
   ]
  },
  {
   "cell_type": "code",
   "execution_count": 24,
   "id": "b975ed09",
   "metadata": {},
   "outputs": [],
   "source": [
    "suzuki_datasets = ['suzuki_i', 'suzuki_ii', 'suzuki_iii', 'suzuki_iv']"
   ]
  },
  {
   "cell_type": "code",
   "execution_count": 25,
   "id": "33a86baa",
   "metadata": {},
   "outputs": [
    {
     "name": "stdout",
     "output_type": "stream",
     "text": [
      "SUZUKI DATASET :  suzuki_i\n",
      "\u001b[0;37m[INFO] Loading emulator using a BayesNeuralNet model for the dataset suzuki_i...\n",
      "\u001b[0mSUZUKI DATASET :  suzuki_ii\n",
      "\u001b[0;37m[INFO] Loading emulator using a BayesNeuralNet model for the dataset suzuki_ii...\n",
      "\u001b[0mSUZUKI DATASET :  suzuki_iii\n",
      "\u001b[0;37m[INFO] Loading emulator using a BayesNeuralNet model for the dataset suzuki_iii...\n",
      "\u001b[0mSUZUKI DATASET :  suzuki_iv\n",
      "\u001b[0;37m[INFO] Loading emulator using a BayesNeuralNet model for the dataset suzuki_iv...\n",
      "\u001b[0m"
     ]
    }
   ],
   "source": [
    "for suzuki_dataset in suzuki_datasets:\n",
    "    \n",
    "    print('SUZUKI DATASET : ', suzuki_dataset)\n",
    "\n",
    "    emulator = Emulator(dataset=suzuki_dataset, model='BayesNeuralNet')\n",
    "\n",
    "    planner = Planner(kind='RandomSearch', goal='minimize')\n",
    "    planner.set_param_space(emulator.param_space)\n",
    "\n",
    "    campaign = Campaign()\n",
    "    campaign.set_param_space(emulator.param_space)\n",
    "    campaign.set_value_space(emulator.value_space)\n",
    "    \n",
    "    scalarizer = Scalarizer(\n",
    "        kind='Chimera', \n",
    "        value_space=emulator.value_space,\n",
    "        tolerances=[0.8, 0.8],\n",
    "        goals=['max', 'max'],\n",
    "        absolutes=[True, True],\n",
    "    )\n",
    "    \n",
    "    evaluator = Evaluator(\n",
    "        planner=planner,\n",
    "        emulator=emulator, \n",
    "        campaign=campaign,\n",
    "        scalarizer=scalarizer,\n",
    "    )\n",
    "    \n",
    "    evaluator.optimize(num_iter=5)"
   ]
  },
  {
   "cell_type": "code",
   "execution_count": null,
   "id": "2f4d5a8a",
   "metadata": {},
   "outputs": [],
   "source": []
  },
  {
   "cell_type": "markdown",
   "id": "91ff28c8",
   "metadata": {},
   "source": [
    "## Tonio's datasets"
   ]
  },
  {
   "cell_type": "code",
   "execution_count": 5,
   "id": "80750027",
   "metadata": {},
   "outputs": [],
   "source": [
    "tonio_datasets = ['p3ht', 'agnp', 'thin_film', 'crossed_barrel', 'autoam']"
   ]
  },
  {
   "cell_type": "code",
   "execution_count": 6,
   "id": "9591cd4d",
   "metadata": {},
   "outputs": [
    {
     "name": "stdout",
     "output_type": "stream",
     "text": [
      "TONIO DATASET :  p3ht\n",
      "\u001b[0;37m[INFO] Loading emulator using a BayesNeuralNet model for the dataset p3ht...\n",
      "\u001b[0mTONIO DATASET :  agnp\n",
      "\u001b[0;37m[INFO] Loading emulator using a BayesNeuralNet model for the dataset agnp...\n",
      "\u001b[0mTONIO DATASET :  thin_film\n",
      "\u001b[0;37m[INFO] Loading emulator using a BayesNeuralNet model for the dataset thin_film...\n",
      "\u001b[0mTONIO DATASET :  crossed_barrel\n",
      "\u001b[0;37m[INFO] Loading emulator using a BayesNeuralNet model for the dataset crossed_barrel...\n",
      "\u001b[0mTONIO DATASET :  autoam\n",
      "\u001b[0;37m[INFO] Loading emulator using a BayesNeuralNet model for the dataset autoam...\n",
      "\u001b[0m"
     ]
    }
   ],
   "source": [
    "for tonio_dataset in tonio_datasets:\n",
    "    \n",
    "    print('TONIO DATASET : ', tonio_dataset)\n",
    "\n",
    "    emulator = Emulator(dataset=tonio_dataset, model='BayesNeuralNet')\n",
    "\n",
    "    planner = Planner(kind='RandomSearch', goal='minimize')\n",
    "    planner.set_param_space(emulator.param_space)\n",
    "\n",
    "    campaign = Campaign()\n",
    "    campaign.set_param_space(emulator.param_space)\n",
    "    campaign.set_value_space(emulator.value_space)\n",
    "    \n",
    "    evaluator = Evaluator(\n",
    "        planner=planner,\n",
    "        emulator=emulator, \n",
    "        campaign=campaign,\n",
    "    )\n",
    "    \n",
    "    evaluator.optimize(num_iter=5)"
   ]
  },
  {
   "cell_type": "code",
   "execution_count": null,
   "id": "ab2d49f3",
   "metadata": {},
   "outputs": [],
   "source": []
  },
  {
   "cell_type": "code",
   "execution_count": null,
   "id": "841fe749",
   "metadata": {},
   "outputs": [],
   "source": []
  },
  {
   "cell_type": "code",
   "execution_count": null,
   "id": "8e8e5d3f",
   "metadata": {},
   "outputs": [],
   "source": []
  },
  {
   "cell_type": "code",
   "execution_count": null,
   "id": "bc64413a",
   "metadata": {},
   "outputs": [],
   "source": []
  },
  {
   "cell_type": "code",
   "execution_count": null,
   "id": "041b4840",
   "metadata": {},
   "outputs": [],
   "source": []
  },
  {
   "cell_type": "code",
   "execution_count": null,
   "id": "3b8965ee",
   "metadata": {},
   "outputs": [],
   "source": []
  },
  {
   "cell_type": "code",
   "execution_count": null,
   "id": "b2582425",
   "metadata": {},
   "outputs": [],
   "source": []
  }
 ],
 "metadata": {
  "kernelspec": {
   "display_name": "olympus",
   "language": "python",
   "name": "olympus"
  },
  "language_info": {
   "codemirror_mode": {
    "name": "ipython",
    "version": 3
   },
   "file_extension": ".py",
   "mimetype": "text/x-python",
   "name": "python",
   "nbconvert_exporter": "python",
   "pygments_lexer": "ipython3",
   "version": "3.7.12"
  }
 },
 "nbformat": 4,
 "nbformat_minor": 5
}
