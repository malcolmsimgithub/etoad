{
 "cells": [
  {
   "cell_type": "code",
   "execution_count": 15,
   "id": "283f6889",
   "metadata": {},
   "outputs": [],
   "source": [
    "import logging\n",
    "import os\n",
    "\n",
    "import numpy as np\n",
    "from ConfigSpace.hyperparameters import UniformFloatHyperparameter\n",
    "\n",
    "# Import ConfigSpace and different types of parameters\n",
    "from smac.configspace import ConfigurationSpace\n",
    "from smac.optimizer.acquisition import EI\n",
    "\n",
    "from smac.facade.smac_ac_facade import SMAC4AC\n",
    "from smac.runhistory.runhistory import RunHistory\n",
    "from smac.scenario.scenario import Scenario\n",
    "from smac.stats.stats import Stats\n",
    "from smac.utils.io.traj_logging import TrajLogger\n",
    "\n",
    "logging.basicConfig(level=logging.INFO)"
   ]
  },
  {
   "cell_type": "code",
   "execution_count": 16,
   "id": "554a0e19",
   "metadata": {},
   "outputs": [],
   "source": [
    "def rosenbrock_2d(x):\n",
    "    \"\"\"The 2 dimensional Rosenbrock function as a toy model\n",
    "    The Rosenbrock function is well know in the optimization community and\n",
    "    often serves as a toy problem. It can be defined for arbitrary\n",
    "    dimensions. The minimium is always at x_i = 1 with a function value of\n",
    "    zero. All input parameters are continuous. The search domain for\n",
    "    all x's is the interval [-5, 10].\n",
    "    \"\"\"\n",
    "\n",
    "    x1 = x[\"x0\"]\n",
    "    x2 = x[\"x1\"]\n",
    "\n",
    "    val = 100.0 * (x2 - x1**2.0) ** 2.0 + (1 - x1) ** 2.0\n",
    "    return val"
   ]
  },
  {
   "cell_type": "code",
   "execution_count": 17,
   "id": "2d931672",
   "metadata": {},
   "outputs": [
    {
     "data": {
      "text/plain": [
       "[x0, Type: UniformFloat, Range: [-5.0, 10.0], Default: -3.0,\n",
       " x1, Type: UniformFloat, Range: [-5.0, 10.0], Default: -4.0]"
      ]
     },
     "execution_count": 17,
     "metadata": {},
     "output_type": "execute_result"
    }
   ],
   "source": [
    "# Build Configuration Space which defines all parameters and their ranges\n",
    "cs = ConfigurationSpace()\n",
    "x0 = UniformFloatHyperparameter(\"x0\", -5, 10, default_value=-3)\n",
    "x1 = UniformFloatHyperparameter(\"x1\", -5, 10, default_value=-4)\n",
    "cs.add_hyperparameters([x0, x1])"
   ]
  },
  {
   "cell_type": "code",
   "execution_count": 18,
   "id": "7b10cdc6",
   "metadata": {},
   "outputs": [
    {
     "name": "stderr",
     "output_type": "stream",
     "text": [
      "INFO:smac.utils.io.cmd_reader.CMDReader:Output to smac3-output_2022-05-25_09:27:17_090106\n",
      "INFO:smac.facade.smac_ac_facade.SMAC4AC:Optimizing a deterministic scenario for quality without a tuner timeout - will make SMAC deterministic and only evaluate one configuration per iteration!\n",
      "INFO:smac.initial_design.default_configuration_design.DefaultConfiguration:Running initial design for 1 configurations\n"
     ]
    }
   ],
   "source": [
    "# Initialize scenario, using runcount_limit as budget.\n",
    "original_scenario_dict = {\n",
    "            \"run_obj\": \"quality\",  # we optimize quality (alternatively runtime)\n",
    "            \"runcount-limit\": 5,  # max. number of function evaluations\n",
    "            \"cs\": cs,  # configuration space\n",
    "            \"deterministic\": True,\n",
    "        }\n",
    "original_scenario = Scenario(original_scenario_dict)\n",
    "\n",
    "smac = SMAC4AC(\n",
    "    scenario=original_scenario,\n",
    "    run_id=1,\n",
    "    rng=np.random.RandomState(42),\n",
    "    tae_runner=rosenbrock_2d,\n",
    ")"
   ]
  },
  {
   "cell_type": "code",
   "execution_count": 19,
   "id": "d232382d",
   "metadata": {},
   "outputs": [
    {
     "name": "stdout",
     "output_type": "stream",
     "text": [
      "default value : 16916.0\n"
     ]
    }
   ],
   "source": [
    "def_value = rosenbrock_2d(cs.get_default_configuration())\n",
    "print(f'default value : {def_value}')"
   ]
  },
  {
   "cell_type": "code",
   "execution_count": 20,
   "id": "e8e38207",
   "metadata": {},
   "outputs": [
    {
     "name": "stderr",
     "output_type": "stream",
     "text": [
      "INFO:smac.facade.smac_ac_facade.SMAC4AC:Optimizing a deterministic scenario for quality without a tuner timeout - will make SMAC deterministic and only evaluate one configuration per iteration!\n",
      "INFO:smac.initial_design.default_configuration_design.DefaultConfiguration:Running initial design for 1 configurations\n"
     ]
    }
   ],
   "source": [
    "smac = SMAC4AC(scenario=original_scenario, run_id=1)"
   ]
  },
  {
   "cell_type": "code",
   "execution_count": 21,
   "id": "a84e9c54",
   "metadata": {},
   "outputs": [
    {
     "name": "stderr",
     "output_type": "stream",
     "text": [
      "INFO:smac.optimizer.smbo.SMBO:Running initial design\n",
      "INFO:smac.intensification.intensification.Intensifier:First run, no incumbent provided; challenger is assumed to be the incumbent\n",
      "INFO:smac.stats.stats.Stats:---------------------STATISTICS---------------------\n",
      "INFO:smac.stats.stats.Stats:Incumbent changed: -1\n",
      "INFO:smac.stats.stats.Stats:Submitted target algorithm runs: 1 / 5.0\n",
      "INFO:smac.stats.stats.Stats:Finished target algorithm runs: 1 / 5.0\n",
      "INFO:smac.stats.stats.Stats:Configurations: 1\n",
      "INFO:smac.stats.stats.Stats:Used wallclock time: 0.04 / inf sec \n",
      "INFO:smac.stats.stats.Stats:Used target algorithm runtime: 0.00 / inf sec\n",
      "INFO:smac.stats.stats.Stats:----------------------------------------------------\n",
      "INFO:smac.facade.smac_ac_facade.SMAC4AC:Final Incumbent: None\n"
     ]
    },
    {
     "ename": "FirstRunCrashedException",
     "evalue": "First run crashed, abort. Please check your setup -- we assume that your default configuration does not crashes. (To deactivate this exception, use the SMAC scenario option 'abort_on_first_run_crash'). Additional run info: {'traceback': 'Traceback (most recent call last):\\n  File \"/opt/anaconda3/envs/olympus/lib/python3.7/site-packages/smac/tae/base.py\", line 226, in run_wrapper\\n    instance_specific=run_info.instance_specific,\\n  File \"/opt/anaconda3/envs/olympus/lib/python3.7/site-packages/smac/tae/execute_ta_run_old.py\", line 76, in run\\n    seed=seed,\\n  File \"/opt/anaconda3/envs/olympus/lib/python3.7/site-packages/smac/tae/execute_ta_run_old.py\", line 164, in _call_ta\\n    raise TypeError(\"self.ta needs to be of type list or tuple, but is %s\" % type(self.ta))\\nTypeError: self.ta needs to be of type list or tuple, but is <class \\'NoneType\\'>\\n', 'error': 'TypeError(\"self.ta needs to be of type list or tuple, but is <class \\'NoneType\\'>\")'}",
     "output_type": "error",
     "traceback": [
      "\u001b[0;31m---------------------------------------------------------------------------\u001b[0m",
      "\u001b[0;31mFirstRunCrashedException\u001b[0m                  Traceback (most recent call last)",
      "\u001b[0;32m/var/folders/d8/lrt20kt55zjgtpnv13g2_wt40000gn/T/ipykernel_42568/1256053079.py\u001b[0m in \u001b[0;36m<module>\u001b[0;34m\u001b[0m\n\u001b[0;32m----> 1\u001b[0;31m \u001b[0msmac\u001b[0m\u001b[0;34m.\u001b[0m\u001b[0moptimize\u001b[0m\u001b[0;34m(\u001b[0m\u001b[0;34m)\u001b[0m\u001b[0;34m\u001b[0m\u001b[0;34m\u001b[0m\u001b[0m\n\u001b[0m\u001b[1;32m      2\u001b[0m \u001b[0mprint\u001b[0m\u001b[0;34m(\u001b[0m\u001b[0;34m\"\\nBudget exhausted! Starting restoring optimization ...\\n\"\u001b[0m\u001b[0;34m)\u001b[0m\u001b[0;34m\u001b[0m\u001b[0;34m\u001b[0m\u001b[0m\n",
      "\u001b[0;32m/opt/anaconda3/envs/olympus/lib/python3.7/site-packages/smac/facade/smac_ac_facade.py\u001b[0m in \u001b[0;36moptimize\u001b[0;34m(self)\u001b[0m\n\u001b[1;32m    718\u001b[0m         \u001b[0mincumbent\u001b[0m \u001b[0;34m=\u001b[0m \u001b[0;32mNone\u001b[0m\u001b[0;34m\u001b[0m\u001b[0;34m\u001b[0m\u001b[0m\n\u001b[1;32m    719\u001b[0m         \u001b[0;32mtry\u001b[0m\u001b[0;34m:\u001b[0m\u001b[0;34m\u001b[0m\u001b[0;34m\u001b[0m\u001b[0m\n\u001b[0;32m--> 720\u001b[0;31m             \u001b[0mincumbent\u001b[0m \u001b[0;34m=\u001b[0m \u001b[0mself\u001b[0m\u001b[0;34m.\u001b[0m\u001b[0msolver\u001b[0m\u001b[0;34m.\u001b[0m\u001b[0mrun\u001b[0m\u001b[0;34m(\u001b[0m\u001b[0;34m)\u001b[0m\u001b[0;34m\u001b[0m\u001b[0;34m\u001b[0m\u001b[0m\n\u001b[0m\u001b[1;32m    721\u001b[0m         \u001b[0;32mfinally\u001b[0m\u001b[0;34m:\u001b[0m\u001b[0;34m\u001b[0m\u001b[0;34m\u001b[0m\u001b[0m\n\u001b[1;32m    722\u001b[0m             \u001b[0mself\u001b[0m\u001b[0;34m.\u001b[0m\u001b[0msolver\u001b[0m\u001b[0;34m.\u001b[0m\u001b[0msave\u001b[0m\u001b[0;34m(\u001b[0m\u001b[0;34m)\u001b[0m\u001b[0;34m\u001b[0m\u001b[0;34m\u001b[0m\u001b[0m\n",
      "\u001b[0;32m/opt/anaconda3/envs/olympus/lib/python3.7/site-packages/smac/optimizer/smbo.py\u001b[0m in \u001b[0;36mrun\u001b[0;34m(self)\u001b[0m\n\u001b[1;32m    299\u001b[0m                 \u001b[0;31m# Add the results of the run to the run history\u001b[0m\u001b[0;34m\u001b[0m\u001b[0;34m\u001b[0m\u001b[0;34m\u001b[0m\u001b[0m\n\u001b[1;32m    300\u001b[0m                 \u001b[0;31m# Additionally check for new incumbent\u001b[0m\u001b[0;34m\u001b[0m\u001b[0;34m\u001b[0m\u001b[0;34m\u001b[0m\u001b[0m\n\u001b[0;32m--> 301\u001b[0;31m                 \u001b[0mself\u001b[0m\u001b[0;34m.\u001b[0m\u001b[0m_incorporate_run_results\u001b[0m\u001b[0;34m(\u001b[0m\u001b[0mrun_info\u001b[0m\u001b[0;34m,\u001b[0m \u001b[0mresult\u001b[0m\u001b[0;34m,\u001b[0m \u001b[0mtime_left\u001b[0m\u001b[0;34m)\u001b[0m\u001b[0;34m\u001b[0m\u001b[0;34m\u001b[0m\u001b[0m\n\u001b[0m\u001b[1;32m    302\u001b[0m \u001b[0;34m\u001b[0m\u001b[0m\n\u001b[1;32m    303\u001b[0m             \u001b[0;32mif\u001b[0m \u001b[0mself\u001b[0m\u001b[0;34m.\u001b[0m\u001b[0mscenario\u001b[0m\u001b[0;34m.\u001b[0m\u001b[0mshared_model\u001b[0m\u001b[0;34m:\u001b[0m  \u001b[0;31m# type: ignore[attr-defined] # noqa F821\u001b[0m\u001b[0;34m\u001b[0m\u001b[0;34m\u001b[0m\u001b[0m\n",
      "\u001b[0;32m/opt/anaconda3/envs/olympus/lib/python3.7/site-packages/smac/optimizer/smbo.py\u001b[0m in \u001b[0;36m_incorporate_run_results\u001b[0;34m(self, run_info, result, time_left)\u001b[0m\n\u001b[1;32m    505\u001b[0m                     \u001b[0;34m\"First run crashed, abort. Please check your setup -- we assume that your default \"\u001b[0m\u001b[0;34m\u001b[0m\u001b[0;34m\u001b[0m\u001b[0m\n\u001b[1;32m    506\u001b[0m                     \u001b[0;34m\"configuration does not crashes. (To deactivate this exception, use the SMAC scenario option \"\u001b[0m\u001b[0;34m\u001b[0m\u001b[0;34m\u001b[0m\u001b[0m\n\u001b[0;32m--> 507\u001b[0;31m                     \u001b[0;34m\"'abort_on_first_run_crash'). Additional run info: %s\"\u001b[0m \u001b[0;34m%\u001b[0m \u001b[0mresult\u001b[0m\u001b[0;34m.\u001b[0m\u001b[0madditional_info\u001b[0m\u001b[0;34m\u001b[0m\u001b[0;34m\u001b[0m\u001b[0m\n\u001b[0m\u001b[1;32m    508\u001b[0m                 )\n\u001b[1;32m    509\u001b[0m \u001b[0;34m\u001b[0m\u001b[0m\n",
      "\u001b[0;31mFirstRunCrashedException\u001b[0m: First run crashed, abort. Please check your setup -- we assume that your default configuration does not crashes. (To deactivate this exception, use the SMAC scenario option 'abort_on_first_run_crash'). Additional run info: {'traceback': 'Traceback (most recent call last):\\n  File \"/opt/anaconda3/envs/olympus/lib/python3.7/site-packages/smac/tae/base.py\", line 226, in run_wrapper\\n    instance_specific=run_info.instance_specific,\\n  File \"/opt/anaconda3/envs/olympus/lib/python3.7/site-packages/smac/tae/execute_ta_run_old.py\", line 76, in run\\n    seed=seed,\\n  File \"/opt/anaconda3/envs/olympus/lib/python3.7/site-packages/smac/tae/execute_ta_run_old.py\", line 164, in _call_ta\\n    raise TypeError(\"self.ta needs to be of type list or tuple, but is %s\" % type(self.ta))\\nTypeError: self.ta needs to be of type list or tuple, but is <class \\'NoneType\\'>\\n', 'error': 'TypeError(\"self.ta needs to be of type list or tuple, but is <class \\'NoneType\\'>\")'}"
     ]
    }
   ],
   "source": [
    "smac.optimize()\n",
    "print(\"\\nBudget exhausted! Starting restoring optimization ...\\n\")"
   ]
  },
  {
   "cell_type": "code",
   "execution_count": 22,
   "id": "f5527e60",
   "metadata": {},
   "outputs": [
    {
     "name": "stderr",
     "output_type": "stream",
     "text": [
      "INFO:smac.utils.io.cmd_reader.CMDReader:Output to smac3-output_2022-05-25_09:28:01_471264\n",
      "INFO:smac.facade.smac_bb_facade.SMAC4BB:Optimizing a deterministic scenario for quality without a tuner timeout - will make SMAC deterministic and only evaluate one configuration per iteration!\n",
      "INFO:smac.initial_design.sobol_design.SobolDesign:Running initial design for 2 configurations\n",
      "INFO:smac.facade.smac_bb_facade.SMAC4BB:<class 'smac.facade.smac_bb_facade.SMAC4BB'>\n",
      "INFO:smac.optimizer.smbo.SMBO:Running initial design\n",
      "INFO:smac.intensification.intensification.Intensifier:First run, no incumbent provided; challenger is assumed to be the incumbent\n",
      "INFO:smac.intensification.intensification.Intensifier:First run, no incumbent provided; challenger is assumed to be the incumbent\n",
      "INFO:smac.intensification.intensification.Intensifier:Updated estimated cost of incumbent on 1 runs: 5311.5619\n"
     ]
    },
    {
     "name": "stdout",
     "output_type": "stream",
     "text": [
      "Default Value: 16916.00\n",
      "Optimizing! Depending on your machine, this might take a few minutes.\n"
     ]
    },
    {
     "name": "stderr",
     "output_type": "stream",
     "text": [
      "INFO:smac.intensification.intensification.Intensifier:Challenger (4744.681) is better than incumbent (5311.5619) on 1 runs.\n",
      "INFO:smac.intensification.intensification.Intensifier:Changes in incumbent:\n",
      "INFO:smac.intensification.intensification.Intensifier:  x0 : -0.21980144549161196 -> 0.666692873028599\n",
      "INFO:smac.intensification.intensification.Intensifier:  x1 : 7.335338136181235 -> 7.332563252406933\n",
      "INFO:smac.intensification.intensification.Intensifier:Challenger (939.3255) is better than incumbent (4744.681) on 1 runs.\n",
      "INFO:smac.intensification.intensification.Intensifier:Changes in incumbent:\n",
      "INFO:smac.intensification.intensification.Intensifier:  x0 : 0.666692873028599 -> 2.263660637291685\n",
      "INFO:smac.intensification.intensification.Intensifier:  x1 : 7.332563252406933 -> 8.186395068270798\n",
      "INFO:smac.intensification.intensification.Intensifier:Challenger (920.0862) is better than incumbent (939.3255) on 1 runs.\n",
      "INFO:smac.intensification.intensification.Intensifier:Changes in incumbent:\n",
      "INFO:smac.intensification.intensification.Intensifier:  x0 : 2.263660637291685 -> 2.2708123182821804\n",
      "INFO:smac.intensification.intensification.Intensifier:  x1 : 8.186395068270798 -> 8.187217627538942\n",
      "INFO:smac.stats.stats.Stats:---------------------STATISTICS---------------------\n",
      "INFO:smac.stats.stats.Stats:Incumbent changed: 3\n",
      "INFO:smac.stats.stats.Stats:Submitted target algorithm runs: 10 / 10.0\n",
      "INFO:smac.stats.stats.Stats:Finished target algorithm runs: 10 / 10.0\n",
      "INFO:smac.stats.stats.Stats:Configurations: 10\n",
      "INFO:smac.stats.stats.Stats:Used wallclock time: 2.63 / inf sec \n",
      "INFO:smac.stats.stats.Stats:Used target algorithm runtime: 0.00 / inf sec\n",
      "INFO:smac.stats.stats.Stats:----------------------------------------------------\n",
      "INFO:smac.facade.smac_bb_facade.SMAC4BB:Final Incumbent: Configuration(values={\n",
      "  'x0': 2.2708123182821804,\n",
      "  'x1': 8.187217627538942,\n",
      "})\n",
      "\n",
      "INFO:smac.facade.smac_bb_facade.SMAC4BB:Estimated cost of incumbent: 920.0862\n"
     ]
    },
    {
     "data": {
      "text/plain": [
       "Configuration(values={\n",
       "  'x0': 2.2708123182821804,\n",
       "  'x1': 8.187217627538942,\n",
       "})"
      ]
     },
     "execution_count": 22,
     "metadata": {},
     "output_type": "execute_result"
    }
   ],
   "source": [
    "\"\"\"\n",
    "Synthetic Function with few Hyperparameters\n",
    "^^^^^^^^^^^^^^^^^^^^^^^^^^^^^^^^^^^^^^^^^^^\n",
    "An example of applying SMAC to optimize a synthetic function (2d rosenbrock function).\n",
    "We use the SMAC4BB facade because it is designed for black-box function optimization.\n",
    "SMAC4BB uses a :term:`Gaussian Process<GP>` or a set of Gaussian Processes whose\n",
    "hyperparameters are integrated by Markov-Chain Monte-Carlo as its surrogate model.\n",
    "SMAC4BB works best on numerical hyperparameter configuration space and should not\n",
    "be applied to the problems with large evaluation budgets (up to 1000 evaluations).\n",
    "\"\"\"\n",
    "\n",
    "import logging\n",
    "\n",
    "logging.basicConfig(level=logging.INFO)\n",
    "\n",
    "import numpy as np\n",
    "from ConfigSpace.hyperparameters import UniformFloatHyperparameter\n",
    "\n",
    "# Import ConfigSpace and different types of parameters\n",
    "from smac.configspace import ConfigurationSpace\n",
    "from smac.facade.smac_bb_facade import SMAC4BB\n",
    "from smac.optimizer.acquisition import EI\n",
    "\n",
    "# Import SMAC-utilities\n",
    "from smac.scenario.scenario import Scenario\n",
    "\n",
    "\n",
    "def rosenbrock_2d(x):\n",
    "    \"\"\"The 2 dimensional Rosenbrock function as a toy model\n",
    "    The Rosenbrock function is well know in the optimization community and\n",
    "    often serves as a toy problem. It can be defined for arbitrary\n",
    "    dimensions. The minimium is always at x_i = 1 with a function value of\n",
    "    zero. All input parameters are continuous. The search domain for\n",
    "    all x's is the interval [-5, 10].\n",
    "    \"\"\"\n",
    "\n",
    "    x1 = x[\"x0\"]\n",
    "    x2 = x[\"x1\"]\n",
    "\n",
    "    val = 100.0 * (x2 - x1**2.0) ** 2.0 + (1 - x1) ** 2.0\n",
    "    return val\n",
    "\n",
    "\n",
    "# Build Configuration Space which defines all parameters and their ranges\n",
    "cs = ConfigurationSpace()\n",
    "x0 = UniformFloatHyperparameter(\"x0\", -5, 10, default_value=-3)\n",
    "x1 = UniformFloatHyperparameter(\"x1\", -5, 10, default_value=-4)\n",
    "cs.add_hyperparameters([x0, x1])\n",
    "\n",
    "# Scenario object\n",
    "scenario = Scenario(\n",
    "    {\n",
    "        \"run_obj\": \"quality\",  # we optimize quality (alternatively runtime)\n",
    "        \"runcount-limit\": 10,  # max. number of function evaluations\n",
    "        \"cs\": cs,  # configuration space\n",
    "        \"deterministic\": True,\n",
    "    }\n",
    ")\n",
    "\n",
    "# Use 'gp' or 'gp_mcmc' here\n",
    "model_type = \"gp\"\n",
    "\n",
    "# Example call of the function\n",
    "# It returns: Status, Cost, Runtime, Additional Infos\n",
    "def_value = rosenbrock_2d(cs.get_default_configuration())\n",
    "print(\"Default Value: %.2f\" % def_value)\n",
    "\n",
    "# Optimize, using a SMAC-object\n",
    "print(\"Optimizing! Depending on your machine, this might take a few minutes.\")\n",
    "smac = SMAC4BB(\n",
    "    scenario=scenario,\n",
    "    model_type=model_type,\n",
    "    rng=np.random.RandomState(42),\n",
    "    acquisition_function=EI,  # or others like PI, LCB as acquisition functions\n",
    "    tae_runner=rosenbrock_2d,\n",
    ")\n",
    "\n",
    "smac.optimize()"
   ]
  },
  {
   "cell_type": "code",
   "execution_count": null,
   "id": "16f1170d",
   "metadata": {},
   "outputs": [],
   "source": []
  }
 ],
 "metadata": {
  "kernelspec": {
   "display_name": "olympus",
   "language": "python",
   "name": "olympus"
  },
  "language_info": {
   "codemirror_mode": {
    "name": "ipython",
    "version": 3
   },
   "file_extension": ".py",
   "mimetype": "text/x-python",
   "name": "python",
   "nbconvert_exporter": "python",
   "pygments_lexer": "ipython3",
   "version": "3.7.13"
  }
 },
 "nbformat": 4,
 "nbformat_minor": 5
}
